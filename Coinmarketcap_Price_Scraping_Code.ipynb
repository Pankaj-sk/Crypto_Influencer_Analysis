{
  "nbformat": 4,
  "nbformat_minor": 0,
  "metadata": {
    "colab": {
      "name": "Coinmarketcap_Price_Scraping_Code.ipynb",
      "provenance": [],
      "authorship_tag": "ABX9TyPGV8d7hWFk2+t/VtgpmR2u",
      "include_colab_link": true
    },
    "kernelspec": {
      "name": "python3",
      "display_name": "Python 3"
    },
    "language_info": {
      "name": "python"
    }
  },
  "cells": [
    {
      "cell_type": "markdown",
      "metadata": {
        "id": "view-in-github",
        "colab_type": "text"
      },
      "source": [
        "<a href=\"https://colab.research.google.com/github/Pankaj-sk/Crypto_Influencer_Analysis/blob/main/Coinmarketcap_Price_Scraping_Code.ipynb\" target=\"_parent\"><img src=\"https://colab.research.google.com/assets/colab-badge.svg\" alt=\"Open In Colab\"/></a>"
      ]
    },
    {
      "cell_type": "code",
      "metadata": {
        "id": "4z-_pn8HlaBs"
      },
      "source": [
        "#import Libraries\n",
        "import os\n",
        "from typing import Text\n",
        "import pandas as pd\n",
        "import numpy as np\n",
        "\n",
        "#lxml is  used for webscapping based on XPATH and CSS Selectors\n",
        "from lxml import html\n",
        "from lxml import etree\n",
        "import urllib3 \n",
        "\n",
        "#Selenium is used to open browser and automate user actions\n",
        "from selenium import webdriver\n",
        "from selenium.webdriver.common.keys import Keys\n",
        "from selenium.webdriver.support.ui import WebDriverWait\n",
        "from selenium.webdriver.support import expected_conditions as EC\n",
        "from selenium.webdriver.common.by import By\n",
        "from selenium.webdriver.common.action_chains import ActionChains\n",
        "\n",
        "\n",
        "\n",
        "os.chdir(r'C:\\Users\\mbhar\\OneDrive\\Documents\\Projects\\R & Python')\n",
        "driver = webdriver.Firefox(executable_path=r'C:\\\\Users\\\\mbhar\\\\OneDrive\\\\Documents\\\\MSIS_5193\\\\geckodriver-v0.30.0-win64\\\\geckodriver.exe')\n",
        "\n",
        "#url for website to be scrapped\n",
        "coinmarketcap_url = 'https://coinmarketcap.com/'\n",
        "driver.get(coinmarketcap_url)\n",
        "\n",
        "#to close default cookie pop up on the website\n",
        "try:\n",
        "    driver.find_element_by_css_selector('div.cmc-cookie-policy-banner__close').click()\n",
        "except:\n",
        "    print('something went wrong')\n",
        "\n",
        "#to open the Binance coin link from website using CSS Selector for Binance\n",
        "WebDriverWait(driver, 10).until(EC.presence_of_all_elements_located((By.CSS_SELECTOR,'table.h7vnx2-2 > tbody:nth-child(3) > tr:nth-child(3) > td:nth-child(3) > div:nth-child(1) > a:nth-child(1)')))[0].click()\n",
        "\n",
        "#to open historic price data tab in the link\n",
        "WebDriverWait(driver, 10).until(EC.presence_of_all_elements_located((By.CSS_SELECTOR,'div.container.routeSwitcher>span>a:nth-child(3)')))[0].click()\n",
        "\n",
        "\n",
        "#expanding the table to include more years data \n",
        "loadmore=0\n",
        "while loadmore < 45: #clicking the load button 45 times to include data till July of 2019\n",
        "    loadmore_elem=WebDriverWait(driver, 10).until(EC.presence_of_all_elements_located((By.CSS_SELECTOR,'div.b4d71h-0 > p > button'))) #load more button \n",
        "    driver.execute_script(\"arguments[0].scrollIntoView();\", loadmore_elem[0]) #pulling the button into view to make it clickable\n",
        "    loadmore_elem[0].click()\n",
        "    loadmore += 1\n",
        "\n",
        "header_elem = WebDriverWait(driver, 10).until(EC.presence_of_all_elements_located((By.CSS_SELECTOR,'table.h7vnx2-2>thead>tr>th'))) #header element to get the column names\n",
        "column_names=[s.text for s in header_elem ]\n",
        "\n",
        "#saving column names into dataframe and then CSV\n",
        "df=pd.DataFrame([],columns=column_names) \n",
        "df.to_csv('Binance_price.csv',index= False)\n",
        "\n",
        "#getting elements for rows of price data\n",
        "row_elems=WebDriverWait(driver, 10).until(EC.presence_of_all_elements_located((By.CSS_SELECTOR,'table.h7vnx2-2>tbody>tr')))\n",
        "\n",
        "\n",
        "#getting data from the above row elements\n",
        "data=[]\n",
        "for row in row_elems :\n",
        "    data.append([s.text for s in row.find_elements_by_css_selector('tr>td')])\n",
        "\n",
        "\n",
        "#saving data into dataframe and then CSV\n",
        "df=pd.DataFrame(\n",
        "data,columns = column_names\n",
        ")\n",
        "\n",
        "#Converting data frame into CSV\n",
        "print(df)\n",
        "df.to_csv('Binance_price.csv',mode='a',header=False,index=False)\n",
        "\n",
        "\n",
        "driver.quit()\n",
        "\n",
        "\n",
        "\n",
        "\n",
        "\n",
        "\n",
        "\n"
      ],
      "execution_count": null,
      "outputs": []
    }
  ]
}
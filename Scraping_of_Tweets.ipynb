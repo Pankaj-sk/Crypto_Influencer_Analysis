{
  "nbformat": 4,
  "nbformat_minor": 0,
  "metadata": {
    "colab": {
      "name": "Scraping_of_Tweets.ipynb",
      "provenance": [],
      "collapsed_sections": [],
      "authorship_tag": "ABX9TyM97Fm/vs470cYEbGJJwiuH",
      "include_colab_link": true
    },
    "kernelspec": {
      "name": "python3",
      "display_name": "Python 3"
    },
    "language_info": {
      "name": "python"
    }
  },
  "cells": [
    {
      "cell_type": "markdown",
      "metadata": {
        "id": "view-in-github",
        "colab_type": "text"
      },
      "source": [
        "<a href=\"https://colab.research.google.com/github/Pankaj-sk/Crypto_Influencer_Analysis/blob/main/Scraping_of_Tweets.ipynb\" target=\"_parent\"><img src=\"https://colab.research.google.com/assets/colab-badge.svg\" alt=\"Open In Colab\"/></a>"
      ]
    },
    {
      "cell_type": "code",
      "metadata": {
        "id": "518g5Si592a8"
      },
      "source": [
        "import os\n",
        "\n",
        "import tweepy\n",
        "\n",
        "from tweepy import OAuthHandler\n",
        "\n",
        "import pandas as pd\n",
        "\n",
        "consumer_key= 'OHz9RoX1nmy1Emdup5mKLMUqI'\n",
        "\n",
        "consumer_secret= 'Kxnx7vhzBz9NFqc0htA2ZFp5QyokU1UsFt4kzUOB3ML0DH3quD'\n",
        "\n",
        "access_token= '2528169240-1YBfsaaCfTNGzBbEziRILEjIMLGdXj2Wd1PDqjA'\n",
        "\n",
        "access_token_secret= 'mD5xDzqEU4z9rs272fqhkvIINB9BqIxSSSfD1q2BLJBxw'\n",
        "\n",
        "\n",
        "\n",
        "auth = tweepy.OAuthHandler(consumer_key, consumer_secret)\n",
        "auth.set_access_token(access_token, access_token_secret)\n",
        "\n",
        "api = tweepy.API(auth, wait_on_rate_limit=True)\n"
      ],
      "execution_count": null,
      "outputs": []
    },
    {
      "cell_type": "code",
      "metadata": {
        "id": "zYf48-mJ85Qd"
      },
      "source": [
        "object_methods = [method_name for method_name in dir(api)\n",
        "                  if callable(getattr(api, method_name))]"
      ],
      "execution_count": null,
      "outputs": []
    },
    {
      "cell_type": "code",
      "metadata": {
        "colab": {
          "base_uri": "https://localhost:8080/"
        },
        "id": "dwAfaZyY9Jzx",
        "outputId": "1f22f272-0c1b-4e06-b2e3-3d5eb596dc57"
      },
      "source": [
        "print(object_methods)"
      ],
      "execution_count": null,
      "outputs": [
        {
          "output_type": "stream",
          "name": "stdout",
          "text": [
            "['__class__', '__delattr__', '__dir__', '__eq__', '__format__', '__ge__', '__getattribute__', '__gt__', '__hash__', '__init__', '__init_subclass__', '__le__', '__lt__', '__ne__', '__new__', '__reduce__', '__reduce_ex__', '__repr__', '__setattr__', '__sizeof__', '__str__', '__subclasshook__', '_add_list_members', '_lookup_friendships', '_pack_image', '_remove_list_members', '_send_direct_message', 'add_list_member', 'add_list_members', 'blocks', 'blocks_ids', 'configuration', 'create_block', 'create_favorite', 'create_friendship', 'create_list', 'create_media_metadata', 'create_mute', 'create_saved_search', 'destroy_block', 'destroy_direct_message', 'destroy_favorite', 'destroy_friendship', 'destroy_list', 'destroy_mute', 'destroy_saved_search', 'destroy_status', 'favorites', 'followers', 'followers_ids', 'friends', 'friends_ids', 'friendships_incoming', 'friendships_outgoing', 'geo_id', 'geo_search', 'geo_similar_places', 'get_direct_message', 'get_list', 'get_oembed', 'get_saved_search', 'get_settings', 'get_status', 'get_user', 'home_timeline', 'list_direct_messages', 'list_members', 'list_subscribers', 'list_timeline', 'lists_all', 'lists_memberships', 'lists_subscriptions', 'lookup_friendships', 'lookup_users', 'me', 'media_upload', 'mentions_timeline', 'mutes', 'mutes_ids', 'rate_limit_status', 'related_results', 'remove_list_member', 'remove_list_members', 'report_spam', 'retweet', 'retweeters', 'retweets', 'retweets_of_me', 'reverse_geocode', 'saved_searches', 'search', 'search_30_day', 'search_full_archive', 'search_users', 'send_direct_message', 'set_settings', 'show_friendship', 'show_list_member', 'show_list_subscriber', 'statuses_lookup', 'subscribe_list', 'supported_languages', 'trends_available', 'trends_closest', 'trends_place', 'unretweet', 'unsubscribe_list', 'update_list', 'update_profile', 'update_profile_banner', 'update_profile_image', 'update_status', 'update_with_media', 'user_timeline', 'verify_credentials']\n"
          ]
        }
      ]
    },
    {
      "cell_type": "code",
      "metadata": {
        "colab": {
          "base_uri": "https://localhost:8080/"
        },
        "id": "BbLYllTlWNVs",
        "outputId": "0d9d7db2-c071-4425-83dc-5cba0a34512c"
      },
      "source": [
        "#Define the search term and the date_since date as variables\n",
        "\n",
        "search_words = \"#btc\"\n",
        "\n",
        "date_since = \"2021-03-01\"\n",
        "\n",
        "tweets = []\n",
        "\n",
        "# Collect tweets\n",
        "\n",
        "cursor = tweepy.Cursor(api.search,q=search_words,lang=\"en\",since=date_since).items(1)\n",
        "\n",
        "\n",
        "\n",
        "print(cursor)\n",
        "\n",
        "\n",
        "\n",
        "count = 1"
      ],
      "execution_count": null,
      "outputs": [
        {
          "output_type": "stream",
          "name": "stdout",
          "text": [
            "<tweepy.cursor.ItemIterator object at 0x7f423aa9a210>\n"
          ]
        }
      ]
    },
    {
      "cell_type": "code",
      "metadata": {
        "id": "Zm93ZLnJwVbB",
        "colab": {
          "base_uri": "https://localhost:8080/"
        },
        "outputId": "ae547f53-bf4c-4c22-8434-8dd5e462a816"
      },
      "source": [
        "#JSON format\n",
        "for i in cursor:\n",
        "  print(i)"
      ],
      "execution_count": null,
      "outputs": [
        {
          "output_type": "stream",
          "name": "stdout",
          "text": [
            "Status(_api=<tweepy.api.API object at 0x7f423aa9ae50>, _json={'created_at': 'Wed Dec 01 00:25:49 +0000 2021', 'id': 1465839518032875522, 'id_str': '1465839518032875522', 'text': '@TheMoonCarl SatoshicryptoF2 \\nSatoshi is the new Bitcoin :)\\n\\n@SatoshicryptoF2 #Bitcoin #BTC #btc https://t.co/gYIGXX42p3', 'truncated': False, 'entities': {'hashtags': [{'text': 'Bitcoin', 'indices': [78, 86]}, {'text': 'BTC', 'indices': [87, 91]}, {'text': 'btc', 'indices': [92, 96]}], 'symbols': [], 'user_mentions': [{'screen_name': 'TheMoonCarl', 'name': 'The Moon', 'id': 978732571738755072, 'id_str': '978732571738755072', 'indices': [0, 12]}, {'screen_name': 'SatoshicryptoF2', 'name': 'SatoshiCrypto.Finance', 'id': 1430603304816447491, 'id_str': '1430603304816447491', 'indices': [61, 77]}], 'urls': [], 'media': [{'id': 1465839504233623557, 'id_str': '1465839504233623557', 'indices': [97, 120], 'media_url': 'http://pbs.twimg.com/media/FFe1Q0OUcAU8XkL.jpg', 'media_url_https': 'https://pbs.twimg.com/media/FFe1Q0OUcAU8XkL.jpg', 'url': 'https://t.co/gYIGXX42p3', 'display_url': 'pic.twitter.com/gYIGXX42p3', 'expanded_url': 'https://twitter.com/Prakoso358/status/1465839518032875522/photo/1', 'type': 'photo', 'sizes': {'medium': {'w': 1200, 'h': 675, 'resize': 'fit'}, 'thumb': {'w': 150, 'h': 150, 'resize': 'crop'}, 'large': {'w': 1920, 'h': 1080, 'resize': 'fit'}, 'small': {'w': 680, 'h': 383, 'resize': 'fit'}}}]}, 'extended_entities': {'media': [{'id': 1465839504233623557, 'id_str': '1465839504233623557', 'indices': [97, 120], 'media_url': 'http://pbs.twimg.com/media/FFe1Q0OUcAU8XkL.jpg', 'media_url_https': 'https://pbs.twimg.com/media/FFe1Q0OUcAU8XkL.jpg', 'url': 'https://t.co/gYIGXX42p3', 'display_url': 'pic.twitter.com/gYIGXX42p3', 'expanded_url': 'https://twitter.com/Prakoso358/status/1465839518032875522/photo/1', 'type': 'photo', 'sizes': {'medium': {'w': 1200, 'h': 675, 'resize': 'fit'}, 'thumb': {'w': 150, 'h': 150, 'resize': 'crop'}, 'large': {'w': 1920, 'h': 1080, 'resize': 'fit'}, 'small': {'w': 680, 'h': 383, 'resize': 'fit'}}}]}, 'metadata': {'iso_language_code': 'en', 'result_type': 'recent'}, 'source': '<a href=\"http://twitter.com/download/android\" rel=\"nofollow\">Twitter for Android</a>', 'in_reply_to_status_id': 1465760544200478720, 'in_reply_to_status_id_str': '1465760544200478720', 'in_reply_to_user_id': 978732571738755072, 'in_reply_to_user_id_str': '978732571738755072', 'in_reply_to_screen_name': 'TheMoonCarl', 'user': {'id': 1370043807337639936, 'id_str': '1370043807337639936', 'name': 'PrakosoCrypto', 'screen_name': 'Prakoso358', 'location': '', 'description': 'Crypto Jowo.\\nProbolinggo.', 'url': None, 'entities': {'description': {'urls': []}}, 'protected': False, 'followers_count': 55, 'friends_count': 219, 'listed_count': 0, 'created_at': 'Thu Mar 11 16:08:22 +0000 2021', 'favourites_count': 11003, 'utc_offset': None, 'time_zone': None, 'geo_enabled': False, 'verified': False, 'statuses_count': 5474, 'lang': None, 'contributors_enabled': False, 'is_translator': False, 'is_translation_enabled': False, 'profile_background_color': 'F5F8FA', 'profile_background_image_url': None, 'profile_background_image_url_https': None, 'profile_background_tile': False, 'profile_image_url': 'http://pbs.twimg.com/profile_images/1458375689392910336/ahOPNczI_normal.jpg', 'profile_image_url_https': 'https://pbs.twimg.com/profile_images/1458375689392910336/ahOPNczI_normal.jpg', 'profile_banner_url': 'https://pbs.twimg.com/profile_banners/1370043807337639936/1616970957', 'profile_link_color': '1DA1F2', 'profile_sidebar_border_color': 'C0DEED', 'profile_sidebar_fill_color': 'DDEEF6', 'profile_text_color': '333333', 'profile_use_background_image': True, 'has_extended_profile': False, 'default_profile': True, 'default_profile_image': False, 'following': False, 'follow_request_sent': False, 'notifications': False, 'translator_type': 'none', 'withheld_in_countries': []}, 'geo': None, 'coordinates': None, 'place': None, 'contributors': None, 'is_quote_status': False, 'retweet_count': 0, 'favorite_count': 0, 'favorited': False, 'retweeted': False, 'possibly_sensitive': False, 'lang': 'en'}, created_at=datetime.datetime(2021, 12, 1, 0, 25, 49), id=1465839518032875522, id_str='1465839518032875522', text='@TheMoonCarl SatoshicryptoF2 \\nSatoshi is the new Bitcoin :)\\n\\n@SatoshicryptoF2 #Bitcoin #BTC #btc https://t.co/gYIGXX42p3', truncated=False, entities={'hashtags': [{'text': 'Bitcoin', 'indices': [78, 86]}, {'text': 'BTC', 'indices': [87, 91]}, {'text': 'btc', 'indices': [92, 96]}], 'symbols': [], 'user_mentions': [{'screen_name': 'TheMoonCarl', 'name': 'The Moon', 'id': 978732571738755072, 'id_str': '978732571738755072', 'indices': [0, 12]}, {'screen_name': 'SatoshicryptoF2', 'name': 'SatoshiCrypto.Finance', 'id': 1430603304816447491, 'id_str': '1430603304816447491', 'indices': [61, 77]}], 'urls': [], 'media': [{'id': 1465839504233623557, 'id_str': '1465839504233623557', 'indices': [97, 120], 'media_url': 'http://pbs.twimg.com/media/FFe1Q0OUcAU8XkL.jpg', 'media_url_https': 'https://pbs.twimg.com/media/FFe1Q0OUcAU8XkL.jpg', 'url': 'https://t.co/gYIGXX42p3', 'display_url': 'pic.twitter.com/gYIGXX42p3', 'expanded_url': 'https://twitter.com/Prakoso358/status/1465839518032875522/photo/1', 'type': 'photo', 'sizes': {'medium': {'w': 1200, 'h': 675, 'resize': 'fit'}, 'thumb': {'w': 150, 'h': 150, 'resize': 'crop'}, 'large': {'w': 1920, 'h': 1080, 'resize': 'fit'}, 'small': {'w': 680, 'h': 383, 'resize': 'fit'}}}]}, extended_entities={'media': [{'id': 1465839504233623557, 'id_str': '1465839504233623557', 'indices': [97, 120], 'media_url': 'http://pbs.twimg.com/media/FFe1Q0OUcAU8XkL.jpg', 'media_url_https': 'https://pbs.twimg.com/media/FFe1Q0OUcAU8XkL.jpg', 'url': 'https://t.co/gYIGXX42p3', 'display_url': 'pic.twitter.com/gYIGXX42p3', 'expanded_url': 'https://twitter.com/Prakoso358/status/1465839518032875522/photo/1', 'type': 'photo', 'sizes': {'medium': {'w': 1200, 'h': 675, 'resize': 'fit'}, 'thumb': {'w': 150, 'h': 150, 'resize': 'crop'}, 'large': {'w': 1920, 'h': 1080, 'resize': 'fit'}, 'small': {'w': 680, 'h': 383, 'resize': 'fit'}}}]}, metadata={'iso_language_code': 'en', 'result_type': 'recent'}, source='Twitter for Android', source_url='http://twitter.com/download/android', in_reply_to_status_id=1465760544200478720, in_reply_to_status_id_str='1465760544200478720', in_reply_to_user_id=978732571738755072, in_reply_to_user_id_str='978732571738755072', in_reply_to_screen_name='TheMoonCarl', author=User(_api=<tweepy.api.API object at 0x7f423aa9ae50>, _json={'id': 1370043807337639936, 'id_str': '1370043807337639936', 'name': 'PrakosoCrypto', 'screen_name': 'Prakoso358', 'location': '', 'description': 'Crypto Jowo.\\nProbolinggo.', 'url': None, 'entities': {'description': {'urls': []}}, 'protected': False, 'followers_count': 55, 'friends_count': 219, 'listed_count': 0, 'created_at': 'Thu Mar 11 16:08:22 +0000 2021', 'favourites_count': 11003, 'utc_offset': None, 'time_zone': None, 'geo_enabled': False, 'verified': False, 'statuses_count': 5474, 'lang': None, 'contributors_enabled': False, 'is_translator': False, 'is_translation_enabled': False, 'profile_background_color': 'F5F8FA', 'profile_background_image_url': None, 'profile_background_image_url_https': None, 'profile_background_tile': False, 'profile_image_url': 'http://pbs.twimg.com/profile_images/1458375689392910336/ahOPNczI_normal.jpg', 'profile_image_url_https': 'https://pbs.twimg.com/profile_images/1458375689392910336/ahOPNczI_normal.jpg', 'profile_banner_url': 'https://pbs.twimg.com/profile_banners/1370043807337639936/1616970957', 'profile_link_color': '1DA1F2', 'profile_sidebar_border_color': 'C0DEED', 'profile_sidebar_fill_color': 'DDEEF6', 'profile_text_color': '333333', 'profile_use_background_image': True, 'has_extended_profile': False, 'default_profile': True, 'default_profile_image': False, 'following': False, 'follow_request_sent': False, 'notifications': False, 'translator_type': 'none', 'withheld_in_countries': []}, id=1370043807337639936, id_str='1370043807337639936', name='PrakosoCrypto', screen_name='Prakoso358', location='', description='Crypto Jowo.\\nProbolinggo.', url=None, entities={'description': {'urls': []}}, protected=False, followers_count=55, friends_count=219, listed_count=0, created_at=datetime.datetime(2021, 3, 11, 16, 8, 22), favourites_count=11003, utc_offset=None, time_zone=None, geo_enabled=False, verified=False, statuses_count=5474, lang=None, contributors_enabled=False, is_translator=False, is_translation_enabled=False, profile_background_color='F5F8FA', profile_background_image_url=None, profile_background_image_url_https=None, profile_background_tile=False, profile_image_url='http://pbs.twimg.com/profile_images/1458375689392910336/ahOPNczI_normal.jpg', profile_image_url_https='https://pbs.twimg.com/profile_images/1458375689392910336/ahOPNczI_normal.jpg', profile_banner_url='https://pbs.twimg.com/profile_banners/1370043807337639936/1616970957', profile_link_color='1DA1F2', profile_sidebar_border_color='C0DEED', profile_sidebar_fill_color='DDEEF6', profile_text_color='333333', profile_use_background_image=True, has_extended_profile=False, default_profile=True, default_profile_image=False, following=False, follow_request_sent=False, notifications=False, translator_type='none', withheld_in_countries=[]), user=User(_api=<tweepy.api.API object at 0x7f423aa9ae50>, _json={'id': 1370043807337639936, 'id_str': '1370043807337639936', 'name': 'PrakosoCrypto', 'screen_name': 'Prakoso358', 'location': '', 'description': 'Crypto Jowo.\\nProbolinggo.', 'url': None, 'entities': {'description': {'urls': []}}, 'protected': False, 'followers_count': 55, 'friends_count': 219, 'listed_count': 0, 'created_at': 'Thu Mar 11 16:08:22 +0000 2021', 'favourites_count': 11003, 'utc_offset': None, 'time_zone': None, 'geo_enabled': False, 'verified': False, 'statuses_count': 5474, 'lang': None, 'contributors_enabled': False, 'is_translator': False, 'is_translation_enabled': False, 'profile_background_color': 'F5F8FA', 'profile_background_image_url': None, 'profile_background_image_url_https': None, 'profile_background_tile': False, 'profile_image_url': 'http://pbs.twimg.com/profile_images/1458375689392910336/ahOPNczI_normal.jpg', 'profile_image_url_https': 'https://pbs.twimg.com/profile_images/1458375689392910336/ahOPNczI_normal.jpg', 'profile_banner_url': 'https://pbs.twimg.com/profile_banners/1370043807337639936/1616970957', 'profile_link_color': '1DA1F2', 'profile_sidebar_border_color': 'C0DEED', 'profile_sidebar_fill_color': 'DDEEF6', 'profile_text_color': '333333', 'profile_use_background_image': True, 'has_extended_profile': False, 'default_profile': True, 'default_profile_image': False, 'following': False, 'follow_request_sent': False, 'notifications': False, 'translator_type': 'none', 'withheld_in_countries': []}, id=1370043807337639936, id_str='1370043807337639936', name='PrakosoCrypto', screen_name='Prakoso358', location='', description='Crypto Jowo.\\nProbolinggo.', url=None, entities={'description': {'urls': []}}, protected=False, followers_count=55, friends_count=219, listed_count=0, created_at=datetime.datetime(2021, 3, 11, 16, 8, 22), favourites_count=11003, utc_offset=None, time_zone=None, geo_enabled=False, verified=False, statuses_count=5474, lang=None, contributors_enabled=False, is_translator=False, is_translation_enabled=False, profile_background_color='F5F8FA', profile_background_image_url=None, profile_background_image_url_https=None, profile_background_tile=False, profile_image_url='http://pbs.twimg.com/profile_images/1458375689392910336/ahOPNczI_normal.jpg', profile_image_url_https='https://pbs.twimg.com/profile_images/1458375689392910336/ahOPNczI_normal.jpg', profile_banner_url='https://pbs.twimg.com/profile_banners/1370043807337639936/1616970957', profile_link_color='1DA1F2', profile_sidebar_border_color='C0DEED', profile_sidebar_fill_color='DDEEF6', profile_text_color='333333', profile_use_background_image=True, has_extended_profile=False, default_profile=True, default_profile_image=False, following=False, follow_request_sent=False, notifications=False, translator_type='none', withheld_in_countries=[]), geo=None, coordinates=None, place=None, contributors=None, is_quote_status=False, retweet_count=0, favorite_count=0, favorited=False, retweeted=False, possibly_sensitive=False, lang='en')\n"
          ]
        }
      ]
    },
    {
      "cell_type": "code",
      "metadata": {
        "id": "aAh_gDdQh-wc"
      },
      "source": [
        "#Dir format\n",
        "for i in cursor:\n",
        "  print(dir(i))"
      ],
      "execution_count": null,
      "outputs": []
    },
    {
      "cell_type": "code",
      "metadata": {
        "colab": {
          "base_uri": "https://localhost:8080/"
        },
        "id": "VFJe8vbfh_FO",
        "outputId": "517c5f46-c2ff-4e61-dfd0-c39b276a23ac"
      },
      "source": [
        "cursor2 = tweepy.Cursor(api.user_timeline, id='TheRichKamit',tweet_mode=\"extended\").items(1)\n",
        "dir(cursor2)\n",
        "\n",
        "for i in cursor2:\n",
        "  print(i.full_text)\n"
      ],
      "execution_count": null,
      "outputs": [
        {
          "output_type": "stream",
          "name": "stdout",
          "text": [
            "RT @Nath_Yamb: Depuis minuit, le monde compte une nouvelle république. La reine Élisabeth n’est plus chef de l’Etat de la Barbade. Elle a é…\n"
          ]
        }
      ]
    },
    {
      "cell_type": "code",
      "metadata": {
        "colab": {
          "base_uri": "https://localhost:8080/"
        },
        "id": "o-WrDvH1_aan",
        "outputId": "652918aa-9a0d-4c53-93a7-3e43c4471c2f"
      },
      "source": [
        "user_list"
      ],
      "execution_count": null,
      "outputs": [
        {
          "output_type": "execute_result",
          "data": {
            "text/plain": [
              "[['VitalikButerin'],\n",
              " ['SatoshiLite'],\n",
              " ['aantonop'],\n",
              " ['rogerkver'],\n",
              " ['naval'],\n",
              " ['justinsuntron'],\n",
              " ['ErikVoorhees'],\n",
              " ['cz_binance'],\n",
              " ['brian_armstrong'],\n",
              " ['o4'],\n",
              " ['kevinrose'],\n",
              " ['fredwilson'],\n",
              " ['cdixon'],\n",
              " ['TuurDemeester'],\n",
              " ['WhalePanda'],\n",
              " ['APompliano'],\n",
              " ['lopp'],\n",
              " ['barrysilbert'],\n",
              " ['adam3us'],\n",
              " ['PeterLBrandt'],\n",
              " ['VentureCoinist'],\n",
              " ['ToneVays'],\n",
              " ['AriDavidPaul'],\n",
              " ['CharlieShrem'],\n",
              " ['peterktodd'],\n",
              " ['VinnyLingham'],\n",
              " ['jimmysong'],\n",
              " ['balajis'],\n",
              " ['gavinandresen'],\n",
              " ['CryptoCobain'],\n",
              " ['CryptoYoda1338'],\n",
              " ['cburniske'],\n",
              " ['CarpeNoctom'],\n",
              " ['CryptoBull'],\n",
              " ['tylerwinklevoss'],\n",
              " ['notsofast'],\n",
              " ['crypto_rand'],\n",
              " ['maxkeiser'],\n",
              " ['TheCryptoDog'],\n",
              " ['novogratz'],\n",
              " ['AngeloBTC'],\n",
              " ['woonomic']]"
            ]
          },
          "metadata": {},
          "execution_count": 31
        }
      ]
    },
    {
      "cell_type": "code",
      "metadata": {
        "id": "tUAaW4-0hHdi"
      },
      "source": [
        "for i in cursor:\n",
        "  print(i.text)"
      ],
      "execution_count": null,
      "outputs": []
    },
    {
      "cell_type": "code",
      "metadata": {
        "colab": {
          "base_uri": "https://localhost:8080/"
        },
        "id": "esCQfOXT5mJv",
        "outputId": "c0815590-08cd-4a23-e991-cfedd17f9120"
      },
      "source": [
        "H_df = pd.read_csv('handles.csv')\n",
        "H_df\n",
        "\n",
        "user_list = H_df['userid'].tolist()\n",
        "user_list"
      ],
      "execution_count": null,
      "outputs": [
        {
          "output_type": "execute_result",
          "data": {
            "text/plain": [
              "['VitalikButerin',\n",
              " 'SatoshiLite',\n",
              " 'aantonop',\n",
              " 'rogerkver',\n",
              " 'naval',\n",
              " 'justinsuntron',\n",
              " 'ErikVoorhees',\n",
              " 'cz_binance',\n",
              " 'brian_armstrong',\n",
              " 'kevinrose',\n",
              " 'fredwilson',\n",
              " 'cdixon',\n",
              " 'TuurDemeester',\n",
              " 'WhalePanda',\n",
              " 'APompliano',\n",
              " 'lopp',\n",
              " 'barrysilbert',\n",
              " 'adam3us',\n",
              " 'PeterLBrandt',\n",
              " 'VentureCoinist',\n",
              " 'ToneVays',\n",
              " 'AriDavidPaul',\n",
              " 'CharlieShrem',\n",
              " 'peterktodd',\n",
              " 'VinnyLingham',\n",
              " 'jimmysong',\n",
              " 'balajis',\n",
              " 'gavinandresen',\n",
              " 'CryptoCobain',\n",
              " 'CryptoYoda1338',\n",
              " 'cburniske',\n",
              " 'CarpeNoctom',\n",
              " 'CryptoBull',\n",
              " 'notsofast',\n",
              " 'crypto_rand',\n",
              " 'maxkeiser',\n",
              " 'TheCryptoDog',\n",
              " 'novogratz',\n",
              " 'AngeloBTC',\n",
              " 'woonomic']"
            ]
          },
          "metadata": {},
          "execution_count": 46
        }
      ]
    },
    {
      "cell_type": "code",
      "metadata": {
        "id": "ct6TjTE4yBMK"
      },
      "source": [
        "# By Name\n",
        "tweets = []\n",
        "likes = []\n",
        "time = []\n",
        "user = []\n",
        "geo = []\n",
        "author = []\n",
        "name = []\n",
        "screenname = []\n",
        "number_of_tweets = 500\n",
        "\n",
        "\n",
        "\n",
        "\n",
        "for U_name in user_list :\n",
        "    \n",
        "  for i in tweepy.Cursor(api.user_timeline, id= U_name, q=search_words, tweet_mode=\"extended\").items(number_of_tweets):\n",
        "    print(cursor)\n",
        "    tweets.append(i.full_text)\n",
        "    likes.append(i.favorite_count)\n",
        "    time.append(i.created_at)\n",
        "    user.append(i.user)\n",
        "    name.append(i.user.name)\n",
        "    screenname.append(i.user.screen_name)\n",
        "    geo.append(i.geo)\n",
        "    author.append(i.author)\n",
        "  \n",
        "\n"
      ],
      "execution_count": null,
      "outputs": []
    },
    {
      "cell_type": "code",
      "metadata": {
        "id": "6GfWp58GY2GB",
        "colab": {
          "base_uri": "https://localhost:8080/",
          "height": 380
        },
        "outputId": "dad182c3-18f8-406a-a750-f162422e22a0"
      },
      "source": [
        "#By tag\n",
        "number_of_tweets = 20000\n",
        "search_words = \"BNB\"\n",
        "date_since = \"2021-03-01\"\n",
        "tweets = []\n",
        "likes = []\n",
        "time = []\n",
        "user = []\n",
        "geo = []\n",
        "author = []\n",
        "name = []\n",
        "screenname = []\n",
        "location = []\n",
        "\n",
        "for i in tweepy.Cursor(api.search,q=\"BNB\",lang=\"en\",since=date_since).items(number_of_tweets):\n",
        "  tweets.append(i.text)\n",
        "  likes.append(i.favorite_count)\n",
        "  time.append(i.created_at)\n",
        "  user.append(i.user)\n",
        "  location.append(i.user.location)\n",
        "  name.append(i.user.name)\n",
        "  screenname.append(i.user.screen_name)\n",
        "  geo.append(i.geo)\n",
        "  author.append(i.author)\n",
        "     "
      ],
      "execution_count": null,
      "outputs": [
        {
          "output_type": "error",
          "ename": "KeyboardInterrupt",
          "evalue": "ignored",
          "traceback": [
            "\u001b[0;31m---------------------------------------------------------------------------\u001b[0m",
            "\u001b[0;31mKeyboardInterrupt\u001b[0m                         Traceback (most recent call last)",
            "\u001b[0;32m<ipython-input-9-fced3b2698b1>\u001b[0m in \u001b[0;36m<module>\u001b[0;34m()\u001b[0m\n\u001b[1;32m     13\u001b[0m \u001b[0mlocation\u001b[0m \u001b[0;34m=\u001b[0m \u001b[0;34m[\u001b[0m\u001b[0;34m]\u001b[0m\u001b[0;34m\u001b[0m\u001b[0;34m\u001b[0m\u001b[0m\n\u001b[1;32m     14\u001b[0m \u001b[0;34m\u001b[0m\u001b[0m\n\u001b[0;32m---> 15\u001b[0;31m \u001b[0;32mfor\u001b[0m \u001b[0mi\u001b[0m \u001b[0;32min\u001b[0m \u001b[0mtweepy\u001b[0m\u001b[0;34m.\u001b[0m\u001b[0mCursor\u001b[0m\u001b[0;34m(\u001b[0m\u001b[0mapi\u001b[0m\u001b[0;34m.\u001b[0m\u001b[0msearch\u001b[0m\u001b[0;34m,\u001b[0m\u001b[0mq\u001b[0m\u001b[0;34m=\u001b[0m\u001b[0;34m\"BNB\"\u001b[0m\u001b[0;34m,\u001b[0m\u001b[0mlang\u001b[0m\u001b[0;34m=\u001b[0m\u001b[0;34m\"en\"\u001b[0m\u001b[0;34m,\u001b[0m\u001b[0msince\u001b[0m\u001b[0;34m=\u001b[0m\u001b[0mdate_since\u001b[0m\u001b[0;34m)\u001b[0m\u001b[0;34m.\u001b[0m\u001b[0mitems\u001b[0m\u001b[0;34m(\u001b[0m\u001b[0mnumber_of_tweets\u001b[0m\u001b[0;34m)\u001b[0m\u001b[0;34m:\u001b[0m\u001b[0;34m\u001b[0m\u001b[0;34m\u001b[0m\u001b[0m\n\u001b[0m\u001b[1;32m     16\u001b[0m   \u001b[0mtweets\u001b[0m\u001b[0;34m.\u001b[0m\u001b[0mappend\u001b[0m\u001b[0;34m(\u001b[0m\u001b[0mi\u001b[0m\u001b[0;34m.\u001b[0m\u001b[0mtext\u001b[0m\u001b[0;34m)\u001b[0m\u001b[0;34m\u001b[0m\u001b[0;34m\u001b[0m\u001b[0m\n\u001b[1;32m     17\u001b[0m   \u001b[0mlikes\u001b[0m\u001b[0;34m.\u001b[0m\u001b[0mappend\u001b[0m\u001b[0;34m(\u001b[0m\u001b[0mi\u001b[0m\u001b[0;34m.\u001b[0m\u001b[0mfavorite_count\u001b[0m\u001b[0;34m)\u001b[0m\u001b[0;34m\u001b[0m\u001b[0;34m\u001b[0m\u001b[0m\n",
            "\u001b[0;32m/usr/local/lib/python3.7/dist-packages/tweepy/cursor.py\u001b[0m in \u001b[0;36m__next__\u001b[0;34m(self)\u001b[0m\n\u001b[1;32m     49\u001b[0m \u001b[0;34m\u001b[0m\u001b[0m\n\u001b[1;32m     50\u001b[0m     \u001b[0;32mdef\u001b[0m \u001b[0m__next__\u001b[0m\u001b[0;34m(\u001b[0m\u001b[0mself\u001b[0m\u001b[0;34m)\u001b[0m\u001b[0;34m:\u001b[0m\u001b[0;34m\u001b[0m\u001b[0;34m\u001b[0m\u001b[0m\n\u001b[0;32m---> 51\u001b[0;31m         \u001b[0;32mreturn\u001b[0m \u001b[0mself\u001b[0m\u001b[0;34m.\u001b[0m\u001b[0mnext\u001b[0m\u001b[0;34m(\u001b[0m\u001b[0;34m)\u001b[0m\u001b[0;34m\u001b[0m\u001b[0;34m\u001b[0m\u001b[0m\n\u001b[0m\u001b[1;32m     52\u001b[0m \u001b[0;34m\u001b[0m\u001b[0m\n\u001b[1;32m     53\u001b[0m     \u001b[0;32mdef\u001b[0m \u001b[0mnext\u001b[0m\u001b[0;34m(\u001b[0m\u001b[0mself\u001b[0m\u001b[0;34m)\u001b[0m\u001b[0;34m:\u001b[0m\u001b[0;34m\u001b[0m\u001b[0;34m\u001b[0m\u001b[0m\n",
            "\u001b[0;32m/usr/local/lib/python3.7/dist-packages/tweepy/cursor.py\u001b[0m in \u001b[0;36mnext\u001b[0;34m(self)\u001b[0m\n\u001b[1;32m    241\u001b[0m         \u001b[0;32mif\u001b[0m \u001b[0mself\u001b[0m\u001b[0;34m.\u001b[0m\u001b[0mcurrent_page\u001b[0m \u001b[0;32mis\u001b[0m \u001b[0;32mNone\u001b[0m \u001b[0;32mor\u001b[0m \u001b[0mself\u001b[0m\u001b[0;34m.\u001b[0m\u001b[0mpage_index\u001b[0m \u001b[0;34m==\u001b[0m \u001b[0mlen\u001b[0m\u001b[0;34m(\u001b[0m\u001b[0mself\u001b[0m\u001b[0;34m.\u001b[0m\u001b[0mcurrent_page\u001b[0m\u001b[0;34m)\u001b[0m \u001b[0;34m-\u001b[0m \u001b[0;36m1\u001b[0m\u001b[0;34m:\u001b[0m\u001b[0;34m\u001b[0m\u001b[0;34m\u001b[0m\u001b[0m\n\u001b[1;32m    242\u001b[0m             \u001b[0;31m# Reached end of current page, get the next page...\u001b[0m\u001b[0;34m\u001b[0m\u001b[0;34m\u001b[0m\u001b[0;34m\u001b[0m\u001b[0m\n\u001b[0;32m--> 243\u001b[0;31m             \u001b[0mself\u001b[0m\u001b[0;34m.\u001b[0m\u001b[0mcurrent_page\u001b[0m \u001b[0;34m=\u001b[0m \u001b[0mself\u001b[0m\u001b[0;34m.\u001b[0m\u001b[0mpage_iterator\u001b[0m\u001b[0;34m.\u001b[0m\u001b[0mnext\u001b[0m\u001b[0;34m(\u001b[0m\u001b[0;34m)\u001b[0m\u001b[0;34m\u001b[0m\u001b[0;34m\u001b[0m\u001b[0m\n\u001b[0m\u001b[1;32m    244\u001b[0m             \u001b[0;32mwhile\u001b[0m \u001b[0mlen\u001b[0m\u001b[0;34m(\u001b[0m\u001b[0mself\u001b[0m\u001b[0;34m.\u001b[0m\u001b[0mcurrent_page\u001b[0m\u001b[0;34m)\u001b[0m \u001b[0;34m==\u001b[0m \u001b[0;36m0\u001b[0m\u001b[0;34m:\u001b[0m\u001b[0;34m\u001b[0m\u001b[0;34m\u001b[0m\u001b[0m\n\u001b[1;32m    245\u001b[0m                 \u001b[0mself\u001b[0m\u001b[0;34m.\u001b[0m\u001b[0mcurrent_page\u001b[0m \u001b[0;34m=\u001b[0m \u001b[0mself\u001b[0m\u001b[0;34m.\u001b[0m\u001b[0mpage_iterator\u001b[0m\u001b[0;34m.\u001b[0m\u001b[0mnext\u001b[0m\u001b[0;34m(\u001b[0m\u001b[0;34m)\u001b[0m\u001b[0;34m\u001b[0m\u001b[0;34m\u001b[0m\u001b[0m\n",
            "\u001b[0;32m/usr/local/lib/python3.7/dist-packages/tweepy/cursor.py\u001b[0m in \u001b[0;36mnext\u001b[0;34m(self)\u001b[0m\n\u001b[1;32m    130\u001b[0m \u001b[0;34m\u001b[0m\u001b[0m\n\u001b[1;32m    131\u001b[0m         \u001b[0;32mif\u001b[0m \u001b[0mself\u001b[0m\u001b[0;34m.\u001b[0m\u001b[0mindex\u001b[0m \u001b[0;34m>=\u001b[0m \u001b[0mlen\u001b[0m\u001b[0;34m(\u001b[0m\u001b[0mself\u001b[0m\u001b[0;34m.\u001b[0m\u001b[0mresults\u001b[0m\u001b[0;34m)\u001b[0m \u001b[0;34m-\u001b[0m \u001b[0;36m1\u001b[0m\u001b[0;34m:\u001b[0m\u001b[0;34m\u001b[0m\u001b[0;34m\u001b[0m\u001b[0m\n\u001b[0;32m--> 132\u001b[0;31m             \u001b[0mdata\u001b[0m \u001b[0;34m=\u001b[0m \u001b[0mself\u001b[0m\u001b[0;34m.\u001b[0m\u001b[0mmethod\u001b[0m\u001b[0;34m(\u001b[0m\u001b[0mmax_id\u001b[0m\u001b[0;34m=\u001b[0m\u001b[0mself\u001b[0m\u001b[0;34m.\u001b[0m\u001b[0mmax_id\u001b[0m\u001b[0;34m,\u001b[0m \u001b[0mparser\u001b[0m\u001b[0;34m=\u001b[0m\u001b[0mRawParser\u001b[0m\u001b[0;34m(\u001b[0m\u001b[0;34m)\u001b[0m\u001b[0;34m,\u001b[0m \u001b[0;34m*\u001b[0m\u001b[0mself\u001b[0m\u001b[0;34m.\u001b[0m\u001b[0margs\u001b[0m\u001b[0;34m,\u001b[0m \u001b[0;34m**\u001b[0m\u001b[0mself\u001b[0m\u001b[0;34m.\u001b[0m\u001b[0mkwargs\u001b[0m\u001b[0;34m)\u001b[0m\u001b[0;34m\u001b[0m\u001b[0;34m\u001b[0m\u001b[0m\n\u001b[0m\u001b[1;32m    133\u001b[0m \u001b[0;34m\u001b[0m\u001b[0m\n\u001b[1;32m    134\u001b[0m             \u001b[0;32mif\u001b[0m \u001b[0mhasattr\u001b[0m\u001b[0;34m(\u001b[0m\u001b[0mself\u001b[0m\u001b[0;34m.\u001b[0m\u001b[0mmethod\u001b[0m\u001b[0;34m,\u001b[0m \u001b[0;34m'__self__'\u001b[0m\u001b[0;34m)\u001b[0m\u001b[0;34m:\u001b[0m\u001b[0;34m\u001b[0m\u001b[0;34m\u001b[0m\u001b[0m\n",
            "\u001b[0;32m/usr/local/lib/python3.7/dist-packages/tweepy/binder.py\u001b[0m in \u001b[0;36m_call\u001b[0;34m(*args, **kwargs)\u001b[0m\n\u001b[1;32m    251\u001b[0m                 \u001b[0;32mreturn\u001b[0m \u001b[0mmethod\u001b[0m\u001b[0;34m\u001b[0m\u001b[0;34m\u001b[0m\u001b[0m\n\u001b[1;32m    252\u001b[0m             \u001b[0;32melse\u001b[0m\u001b[0;34m:\u001b[0m\u001b[0;34m\u001b[0m\u001b[0;34m\u001b[0m\u001b[0m\n\u001b[0;32m--> 253\u001b[0;31m                 \u001b[0;32mreturn\u001b[0m \u001b[0mmethod\u001b[0m\u001b[0;34m.\u001b[0m\u001b[0mexecute\u001b[0m\u001b[0;34m(\u001b[0m\u001b[0;34m)\u001b[0m\u001b[0;34m\u001b[0m\u001b[0;34m\u001b[0m\u001b[0m\n\u001b[0m\u001b[1;32m    254\u001b[0m         \u001b[0;32mfinally\u001b[0m\u001b[0;34m:\u001b[0m\u001b[0;34m\u001b[0m\u001b[0;34m\u001b[0m\u001b[0m\n\u001b[1;32m    255\u001b[0m             \u001b[0mmethod\u001b[0m\u001b[0;34m.\u001b[0m\u001b[0msession\u001b[0m\u001b[0;34m.\u001b[0m\u001b[0mclose\u001b[0m\u001b[0;34m(\u001b[0m\u001b[0;34m)\u001b[0m\u001b[0;34m\u001b[0m\u001b[0;34m\u001b[0m\u001b[0m\n",
            "\u001b[0;32m/usr/local/lib/python3.7/dist-packages/tweepy/binder.py\u001b[0m in \u001b[0;36mexecute\u001b[0;34m(self)\u001b[0m\n\u001b[1;32m    161\u001b[0m                                     \u001b[0;32mif\u001b[0m \u001b[0mself\u001b[0m\u001b[0;34m.\u001b[0m\u001b[0mwait_on_rate_limit_notify\u001b[0m\u001b[0;34m:\u001b[0m\u001b[0;34m\u001b[0m\u001b[0;34m\u001b[0m\u001b[0m\n\u001b[1;32m    162\u001b[0m                                         \u001b[0mlog\u001b[0m\u001b[0;34m.\u001b[0m\u001b[0mwarning\u001b[0m\u001b[0;34m(\u001b[0m\u001b[0;34m\"Rate limit reached. Sleeping for: %d\"\u001b[0m \u001b[0;34m%\u001b[0m \u001b[0msleep_time\u001b[0m\u001b[0;34m)\u001b[0m\u001b[0;34m\u001b[0m\u001b[0;34m\u001b[0m\u001b[0m\n\u001b[0;32m--> 163\u001b[0;31m                                     \u001b[0mtime\u001b[0m\u001b[0;34m.\u001b[0m\u001b[0msleep\u001b[0m\u001b[0;34m(\u001b[0m\u001b[0msleep_time\u001b[0m \u001b[0;34m+\u001b[0m \u001b[0;36m5\u001b[0m\u001b[0;34m)\u001b[0m  \u001b[0;31m# sleep for few extra sec\u001b[0m\u001b[0;34m\u001b[0m\u001b[0;34m\u001b[0m\u001b[0m\n\u001b[0m\u001b[1;32m    164\u001b[0m \u001b[0;34m\u001b[0m\u001b[0m\n\u001b[1;32m    165\u001b[0m                 \u001b[0;31m# if self.wait_on_rate_limit and self._reset_time is not None and \\\u001b[0m\u001b[0;34m\u001b[0m\u001b[0;34m\u001b[0m\u001b[0;34m\u001b[0m\u001b[0m\n",
            "\u001b[0;31mKeyboardInterrupt\u001b[0m: "
          ]
        }
      ]
    },
    {
      "cell_type": "code",
      "metadata": {
        "id": "9Kj2N5JiyBVC"
      },
      "source": [
        "extract = pd.DataFrame()\n",
        "extract = pd.DataFrame({'screenname':screenname,'name':name,'tweets':tweets,'likes':likes,'time':time,'user':user,'geo':geo,'author':author})\n",
        "\n",
        "\n",
        "extract.to_csv(\"sample_extract.csv\")"
      ],
      "execution_count": null,
      "outputs": []
    },
    {
      "cell_type": "code",
      "metadata": {
        "id": "-t3VdVGPt82o"
      },
      "source": [
        "# Scrapping between dates\n",
        "\n",
        "import snscrape.modules.twitter\n",
        "import snscrape.modules.twitter as sntwitter\n",
        "import pandas as pd\n",
        "\n",
        "# Setting variables to be used below\n",
        "maxTweets = 20000\n",
        "# Creating list to append tweet data to\n",
        "tweets_list2 = []\n",
        "\n",
        "# Using TwitterSearchScraper to scrape data and append tweets to list\n",
        "for i,tweet in enumerate(sntwitter.TwitterSearchScraper('#FreeAfghanistan since:2021-07-01 until:2021-10-01').get_items()):\n",
        "if i>maxTweets:\n",
        "break\n",
        "\n",
        "tweets_list2.append([tweet.date, tweet.id, tweet.content, tweet.username])\n",
        "# Creating a dataframe from the tweets list above\n",
        "tweets_df2 = pd.DataFrame(tweets_list2, columns=['Datetime', 'Tweet Id', 'Text', 'Username'])\n",
        "# Display first 5 entries from dataframe\n",
        "tweets_df2.head()"
      ],
      "execution_count": null,
      "outputs": []
    },
    {
      "cell_type": "code",
      "metadata": {
        "id": "QuSxmRG1yBYY"
      },
      "source": [
        ""
      ],
      "execution_count": null,
      "outputs": []
    },
    {
      "cell_type": "code",
      "metadata": {
        "id": "zX2g3Xw_yBbW"
      },
      "source": [
        ""
      ],
      "execution_count": null,
      "outputs": []
    },
    {
      "cell_type": "code",
      "metadata": {
        "id": "blCxI2v5yBe3"
      },
      "source": [
        ""
      ],
      "execution_count": null,
      "outputs": []
    },
    {
      "cell_type": "markdown",
      "metadata": {
        "id": "YN0SGxHTulXF"
      },
      "source": [
        "**Rough work - Do not run** "
      ]
    },
    {
      "cell_type": "code",
      "metadata": {
        "colab": {
          "base_uri": "https://localhost:8080/"
        },
        "id": "6Vz1wiJmoEtg",
        "outputId": "ff46d5dc-9265-4a1f-f00a-bacb2af433f3"
      },
      "source": [
        "#tweets\n",
        "#likes\n",
        "#time\n",
        "#user\n",
        "#geo\n",
        "#author\n",
        "screenname"
      ],
      "execution_count": null,
      "outputs": [
        {
          "output_type": "execute_result",
          "data": {
            "text/plain": [
              "['BitcoinNetwork_',\n",
              " 'raj___n',\n",
              " 'KswapCrypto',\n",
              " 'rakaimut4',\n",
              " 'JohanGroen6',\n",
              " 'btc_home',\n",
              " 'AlfiahAzizatil',\n",
              " 'chitaJaemcityx',\n",
              " 'rzoro_o',\n",
              " 'coinrbicom',\n",
              " 'thewoolfofcoin',\n",
              " 'bruindesimon',\n",
              " 'justiceoo',\n",
              " 'MetaZeero',\n",
              " 'SOL_Execute',\n",
              " 'Crypto_news2021',\n",
              " 'kriptopsi',\n",
              " 'C22nolimit',\n",
              " '1t_x',\n",
              " 'lovelycityx_']"
            ]
          },
          "metadata": {},
          "execution_count": 9
        }
      ]
    },
    {
      "cell_type": "code",
      "metadata": {
        "id": "JQ7h4_q-mrSH"
      },
      "source": [
        "import os\n",
        "\n",
        "import tweepy\n",
        "\n",
        "from tweepy import OAuthHandler\n",
        "\n",
        "import pandas as pd\n",
        "\n",
        "consumer_key= 'OHz9RoX1nmy1Emdup5mKLMUqI'\n",
        "\n",
        "consumer_secret= 'Kxnx7vhzBz9NFqc0htA2ZFp5QyokU1UsFt4kzUOB3ML0DH3quD'\n",
        "\n",
        "access_token= '2528169240-1YBfsaaCfTNGzBbEziRILEjIMLGdXj2Wd1PDqjA'\n",
        "\n",
        "access_token_secret= 'mD5xDzqEU4z9rs272fqhkvIINB9BqIxSSSfD1q2BLJBxw'\n",
        "\n",
        "\n",
        "\n",
        "auth = tweepy.OAuthHandler(consumer_key, consumer_secret)\n",
        "auth.set_access_token(access_token, access_token_secret)\n",
        "\n",
        "api = tweepy.API(auth, wait_on_rate_limit=True)\n"
      ],
      "execution_count": null,
      "outputs": []
    },
    {
      "cell_type": "code",
      "metadata": {
        "colab": {
          "base_uri": "https://localhost:8080/",
          "height": 380
        },
        "id": "aCiGI5jPWNo5",
        "outputId": "f1305c63-0a5d-40ad-c106-12ad18ac32cf"
      },
      "source": [
        "\"\"\"Twitter will automatically sample the last 7 days of data. Depending on how many total tweets there are with the specific hashtag, keyword, handle, or key phrase that you are looking for, you can set the date back further by adding since= as one of the parameters. You can also manually add in the number of tweets you want to get back in the items() section.\"\"\"\n",
        "\n",
        "\n",
        "\n",
        "for tweet in tweepy.Cursor(api.search, q=\"#btc\", count=450, since='2021-03-01').items(450):\n",
        "\n",
        "   \n",
        "\n",
        "    print(count)\n",
        "\n",
        "    count += 1\n",
        "\n",
        "\n",
        "\n",
        "    try:\n",
        "\n",
        "        data = [tweet.created_at, tweet.id, tweet.text, tweet.user._json['screen_name'], tweet.user._json['name'], tweet.user._json['created_at'], tweet.entities['urls']]\n",
        "\n",
        "        data = tuple(data)\n",
        "\n",
        "        tweets.append(data)\n",
        "\n",
        "\n",
        "\n",
        "    except tweepy.TweepError as e:\n",
        "\n",
        "        print(e.reason)\n",
        "\n",
        "        continue\n",
        "\n",
        "\n",
        "\n",
        "    except StopIteration:\n",
        "\n",
        "        break"
      ],
      "execution_count": null,
      "outputs": [
        {
          "output_type": "error",
          "ename": "TweepError",
          "evalue": "ignored",
          "traceback": [
            "\u001b[0;31m---------------------------------------------------------------------------\u001b[0m",
            "\u001b[0;31mTweepError\u001b[0m                                Traceback (most recent call last)",
            "\u001b[0;32m<ipython-input-10-39e347aecb9d>\u001b[0m in \u001b[0;36m<module>\u001b[0;34m()\u001b[0m\n\u001b[1;32m      3\u001b[0m \u001b[0;34m\u001b[0m\u001b[0m\n\u001b[1;32m      4\u001b[0m \u001b[0;34m\u001b[0m\u001b[0m\n\u001b[0;32m----> 5\u001b[0;31m \u001b[0;32mfor\u001b[0m \u001b[0mtweet\u001b[0m \u001b[0;32min\u001b[0m \u001b[0mtweepy\u001b[0m\u001b[0;34m.\u001b[0m\u001b[0mCursor\u001b[0m\u001b[0;34m(\u001b[0m\u001b[0mapi\u001b[0m\u001b[0;34m.\u001b[0m\u001b[0msearch\u001b[0m\u001b[0;34m,\u001b[0m \u001b[0mq\u001b[0m\u001b[0;34m=\u001b[0m\u001b[0;34m\"#btc\"\u001b[0m\u001b[0;34m,\u001b[0m \u001b[0mcount\u001b[0m\u001b[0;34m=\u001b[0m\u001b[0;36m450\u001b[0m\u001b[0;34m,\u001b[0m \u001b[0msince\u001b[0m\u001b[0;34m=\u001b[0m\u001b[0;34m'2021-03-01'\u001b[0m\u001b[0;34m)\u001b[0m\u001b[0;34m.\u001b[0m\u001b[0mitems\u001b[0m\u001b[0;34m(\u001b[0m\u001b[0;36m450\u001b[0m\u001b[0;34m)\u001b[0m\u001b[0;34m:\u001b[0m\u001b[0;34m\u001b[0m\u001b[0;34m\u001b[0m\u001b[0m\n\u001b[0m\u001b[1;32m      6\u001b[0m \u001b[0;34m\u001b[0m\u001b[0m\n\u001b[1;32m      7\u001b[0m \u001b[0;34m\u001b[0m\u001b[0m\n",
            "\u001b[0;32m/usr/local/lib/python3.7/dist-packages/tweepy/cursor.py\u001b[0m in \u001b[0;36m__next__\u001b[0;34m(self)\u001b[0m\n\u001b[1;32m     49\u001b[0m \u001b[0;34m\u001b[0m\u001b[0m\n\u001b[1;32m     50\u001b[0m     \u001b[0;32mdef\u001b[0m \u001b[0m__next__\u001b[0m\u001b[0;34m(\u001b[0m\u001b[0mself\u001b[0m\u001b[0;34m)\u001b[0m\u001b[0;34m:\u001b[0m\u001b[0;34m\u001b[0m\u001b[0;34m\u001b[0m\u001b[0m\n\u001b[0;32m---> 51\u001b[0;31m         \u001b[0;32mreturn\u001b[0m \u001b[0mself\u001b[0m\u001b[0;34m.\u001b[0m\u001b[0mnext\u001b[0m\u001b[0;34m(\u001b[0m\u001b[0;34m)\u001b[0m\u001b[0;34m\u001b[0m\u001b[0;34m\u001b[0m\u001b[0m\n\u001b[0m\u001b[1;32m     52\u001b[0m \u001b[0;34m\u001b[0m\u001b[0m\n\u001b[1;32m     53\u001b[0m     \u001b[0;32mdef\u001b[0m \u001b[0mnext\u001b[0m\u001b[0;34m(\u001b[0m\u001b[0mself\u001b[0m\u001b[0;34m)\u001b[0m\u001b[0;34m:\u001b[0m\u001b[0;34m\u001b[0m\u001b[0;34m\u001b[0m\u001b[0m\n",
            "\u001b[0;32m/usr/local/lib/python3.7/dist-packages/tweepy/cursor.py\u001b[0m in \u001b[0;36mnext\u001b[0;34m(self)\u001b[0m\n\u001b[1;32m    241\u001b[0m         \u001b[0;32mif\u001b[0m \u001b[0mself\u001b[0m\u001b[0;34m.\u001b[0m\u001b[0mcurrent_page\u001b[0m \u001b[0;32mis\u001b[0m \u001b[0;32mNone\u001b[0m \u001b[0;32mor\u001b[0m \u001b[0mself\u001b[0m\u001b[0;34m.\u001b[0m\u001b[0mpage_index\u001b[0m \u001b[0;34m==\u001b[0m \u001b[0mlen\u001b[0m\u001b[0;34m(\u001b[0m\u001b[0mself\u001b[0m\u001b[0;34m.\u001b[0m\u001b[0mcurrent_page\u001b[0m\u001b[0;34m)\u001b[0m \u001b[0;34m-\u001b[0m \u001b[0;36m1\u001b[0m\u001b[0;34m:\u001b[0m\u001b[0;34m\u001b[0m\u001b[0;34m\u001b[0m\u001b[0m\n\u001b[1;32m    242\u001b[0m             \u001b[0;31m# Reached end of current page, get the next page...\u001b[0m\u001b[0;34m\u001b[0m\u001b[0;34m\u001b[0m\u001b[0;34m\u001b[0m\u001b[0m\n\u001b[0;32m--> 243\u001b[0;31m             \u001b[0mself\u001b[0m\u001b[0;34m.\u001b[0m\u001b[0mcurrent_page\u001b[0m \u001b[0;34m=\u001b[0m \u001b[0mself\u001b[0m\u001b[0;34m.\u001b[0m\u001b[0mpage_iterator\u001b[0m\u001b[0;34m.\u001b[0m\u001b[0mnext\u001b[0m\u001b[0;34m(\u001b[0m\u001b[0;34m)\u001b[0m\u001b[0;34m\u001b[0m\u001b[0;34m\u001b[0m\u001b[0m\n\u001b[0m\u001b[1;32m    244\u001b[0m             \u001b[0;32mwhile\u001b[0m \u001b[0mlen\u001b[0m\u001b[0;34m(\u001b[0m\u001b[0mself\u001b[0m\u001b[0;34m.\u001b[0m\u001b[0mcurrent_page\u001b[0m\u001b[0;34m)\u001b[0m \u001b[0;34m==\u001b[0m \u001b[0;36m0\u001b[0m\u001b[0;34m:\u001b[0m\u001b[0;34m\u001b[0m\u001b[0;34m\u001b[0m\u001b[0m\n\u001b[1;32m    245\u001b[0m                 \u001b[0mself\u001b[0m\u001b[0;34m.\u001b[0m\u001b[0mcurrent_page\u001b[0m \u001b[0;34m=\u001b[0m \u001b[0mself\u001b[0m\u001b[0;34m.\u001b[0m\u001b[0mpage_iterator\u001b[0m\u001b[0;34m.\u001b[0m\u001b[0mnext\u001b[0m\u001b[0;34m(\u001b[0m\u001b[0;34m)\u001b[0m\u001b[0;34m\u001b[0m\u001b[0;34m\u001b[0m\u001b[0m\n",
            "\u001b[0;32m/usr/local/lib/python3.7/dist-packages/tweepy/cursor.py\u001b[0m in \u001b[0;36mnext\u001b[0;34m(self)\u001b[0m\n\u001b[1;32m    130\u001b[0m \u001b[0;34m\u001b[0m\u001b[0m\n\u001b[1;32m    131\u001b[0m         \u001b[0;32mif\u001b[0m \u001b[0mself\u001b[0m\u001b[0;34m.\u001b[0m\u001b[0mindex\u001b[0m \u001b[0;34m>=\u001b[0m \u001b[0mlen\u001b[0m\u001b[0;34m(\u001b[0m\u001b[0mself\u001b[0m\u001b[0;34m.\u001b[0m\u001b[0mresults\u001b[0m\u001b[0;34m)\u001b[0m \u001b[0;34m-\u001b[0m \u001b[0;36m1\u001b[0m\u001b[0;34m:\u001b[0m\u001b[0;34m\u001b[0m\u001b[0;34m\u001b[0m\u001b[0m\n\u001b[0;32m--> 132\u001b[0;31m             \u001b[0mdata\u001b[0m \u001b[0;34m=\u001b[0m \u001b[0mself\u001b[0m\u001b[0;34m.\u001b[0m\u001b[0mmethod\u001b[0m\u001b[0;34m(\u001b[0m\u001b[0mmax_id\u001b[0m\u001b[0;34m=\u001b[0m\u001b[0mself\u001b[0m\u001b[0;34m.\u001b[0m\u001b[0mmax_id\u001b[0m\u001b[0;34m,\u001b[0m \u001b[0mparser\u001b[0m\u001b[0;34m=\u001b[0m\u001b[0mRawParser\u001b[0m\u001b[0;34m(\u001b[0m\u001b[0;34m)\u001b[0m\u001b[0;34m,\u001b[0m \u001b[0;34m*\u001b[0m\u001b[0mself\u001b[0m\u001b[0;34m.\u001b[0m\u001b[0margs\u001b[0m\u001b[0;34m,\u001b[0m \u001b[0;34m**\u001b[0m\u001b[0mself\u001b[0m\u001b[0;34m.\u001b[0m\u001b[0mkwargs\u001b[0m\u001b[0;34m)\u001b[0m\u001b[0;34m\u001b[0m\u001b[0;34m\u001b[0m\u001b[0m\n\u001b[0m\u001b[1;32m    133\u001b[0m \u001b[0;34m\u001b[0m\u001b[0m\n\u001b[1;32m    134\u001b[0m             \u001b[0;32mif\u001b[0m \u001b[0mhasattr\u001b[0m\u001b[0;34m(\u001b[0m\u001b[0mself\u001b[0m\u001b[0;34m.\u001b[0m\u001b[0mmethod\u001b[0m\u001b[0;34m,\u001b[0m \u001b[0;34m'__self__'\u001b[0m\u001b[0;34m)\u001b[0m\u001b[0;34m:\u001b[0m\u001b[0;34m\u001b[0m\u001b[0;34m\u001b[0m\u001b[0m\n",
            "\u001b[0;32m/usr/local/lib/python3.7/dist-packages/tweepy/binder.py\u001b[0m in \u001b[0;36m_call\u001b[0;34m(*args, **kwargs)\u001b[0m\n\u001b[1;32m    251\u001b[0m                 \u001b[0;32mreturn\u001b[0m \u001b[0mmethod\u001b[0m\u001b[0;34m\u001b[0m\u001b[0;34m\u001b[0m\u001b[0m\n\u001b[1;32m    252\u001b[0m             \u001b[0;32melse\u001b[0m\u001b[0;34m:\u001b[0m\u001b[0;34m\u001b[0m\u001b[0;34m\u001b[0m\u001b[0m\n\u001b[0;32m--> 253\u001b[0;31m                 \u001b[0;32mreturn\u001b[0m \u001b[0mmethod\u001b[0m\u001b[0;34m.\u001b[0m\u001b[0mexecute\u001b[0m\u001b[0;34m(\u001b[0m\u001b[0;34m)\u001b[0m\u001b[0;34m\u001b[0m\u001b[0;34m\u001b[0m\u001b[0m\n\u001b[0m\u001b[1;32m    254\u001b[0m         \u001b[0;32mfinally\u001b[0m\u001b[0;34m:\u001b[0m\u001b[0;34m\u001b[0m\u001b[0;34m\u001b[0m\u001b[0m\n\u001b[1;32m    255\u001b[0m             \u001b[0mmethod\u001b[0m\u001b[0;34m.\u001b[0m\u001b[0msession\u001b[0m\u001b[0;34m.\u001b[0m\u001b[0mclose\u001b[0m\u001b[0;34m(\u001b[0m\u001b[0;34m)\u001b[0m\u001b[0;34m\u001b[0m\u001b[0;34m\u001b[0m\u001b[0m\n",
            "\u001b[0;32m/usr/local/lib/python3.7/dist-packages/tweepy/binder.py\u001b[0m in \u001b[0;36mexecute\u001b[0;34m(self)\u001b[0m\n\u001b[1;32m    232\u001b[0m                     \u001b[0;32mraise\u001b[0m \u001b[0mRateLimitError\u001b[0m\u001b[0;34m(\u001b[0m\u001b[0merror_msg\u001b[0m\u001b[0;34m,\u001b[0m \u001b[0mresp\u001b[0m\u001b[0;34m)\u001b[0m\u001b[0;34m\u001b[0m\u001b[0;34m\u001b[0m\u001b[0m\n\u001b[1;32m    233\u001b[0m                 \u001b[0;32melse\u001b[0m\u001b[0;34m:\u001b[0m\u001b[0;34m\u001b[0m\u001b[0;34m\u001b[0m\u001b[0m\n\u001b[0;32m--> 234\u001b[0;31m                     \u001b[0;32mraise\u001b[0m \u001b[0mTweepError\u001b[0m\u001b[0;34m(\u001b[0m\u001b[0merror_msg\u001b[0m\u001b[0;34m,\u001b[0m \u001b[0mresp\u001b[0m\u001b[0;34m,\u001b[0m \u001b[0mapi_code\u001b[0m\u001b[0;34m=\u001b[0m\u001b[0mapi_error_code\u001b[0m\u001b[0;34m)\u001b[0m\u001b[0;34m\u001b[0m\u001b[0;34m\u001b[0m\u001b[0m\n\u001b[0m\u001b[1;32m    235\u001b[0m \u001b[0;34m\u001b[0m\u001b[0m\n\u001b[1;32m    236\u001b[0m             \u001b[0;31m# Parse the response payload\u001b[0m\u001b[0;34m\u001b[0m\u001b[0;34m\u001b[0m\u001b[0;34m\u001b[0m\u001b[0m\n",
            "\u001b[0;31mTweepError\u001b[0m: Twitter error response: status code = 403"
          ]
        }
      ]
    },
    {
      "cell_type": "code",
      "metadata": {
        "id": "1CDZ4xwjWN0p"
      },
      "source": [
        "df = pd.DataFrame(tweets, columns = ['created_at','tweet_id', 'tweet_text', 'screen_name', 'name', 'account_creation_date', 'urls'])\n",
        "\n",
        "print(df)\n",
        "\n",
        "\"\"\"Add the path to the folder you want to save the CSV file in as well as what you want the CSV file to be named inside the single quotations\"\"\"\n",
        "\n",
        "#df.to_csv(path_or_buf= 'C:\\\\Users\\\\sucha\\\\Documents\\\\GitHub\\\\homework\\\\project\\\\car-price-inflation\\\\data.csv', index=False)"
      ],
      "execution_count": null,
      "outputs": []
    },
    {
      "cell_type": "code",
      "metadata": {
        "id": "9f4xbBSAWN8t"
      },
      "source": [
        ""
      ],
      "execution_count": null,
      "outputs": []
    }
  ]
}
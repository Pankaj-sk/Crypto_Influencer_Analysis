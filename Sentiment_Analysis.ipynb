{
  "nbformat": 4,
  "nbformat_minor": 0,
  "metadata": {
    "colab": {
      "name": "Sentiment_Analysis.ipynb",
      "provenance": [],
      "include_colab_link": true
    },
    "kernelspec": {
      "display_name": "Python 3",
      "name": "python3"
    },
    "language_info": {
      "name": "python"
    }
  },
  "cells": [
    {
      "cell_type": "markdown",
      "metadata": {
        "id": "view-in-github",
        "colab_type": "text"
      },
      "source": [
        "<a href=\"https://colab.research.google.com/github/Pankaj-sk/Crypto_Influencer_Analysis/blob/main/Sentiment_Analysis.ipynb\" target=\"_parent\"><img src=\"https://colab.research.google.com/assets/colab-badge.svg\" alt=\"Open In Colab\"/></a>"
      ]
    },
    {
      "cell_type": "code",
      "metadata": {
        "id": "pxFXGJLidRGA"
      },
      "source": [
        "#Libraries \n",
        "import tweepy\n",
        "from textblob import TextBlob\n",
        "from wordcloud import wordcloud\n",
        "import pandas as pd\n",
        "import numpy as np\n",
        "import re\n",
        "import matplotlib.pyplot as plt\n",
        "import string\n",
        "import nltk\n",
        "from nltk.corpus import stopwords\n",
        "nltk.download('stopwords')\n",
        "nltk.download('punkt')\n",
        "from nltk.tokenize import word_tokenize\n",
        "plt.style.use('fivethirtyeight')"
      ],
      "execution_count": null,
      "outputs": []
    },
    {
      "cell_type": "markdown",
      "metadata": {
        "id": "viBMCBs7U79i"
      },
      "source": [
        "https://www.youtube.com/watch?v=TKjjlp5_r7o"
      ]
    },
    {
      "cell_type": "code",
      "metadata": {
        "id": "bFPPq1erFyYL"
      },
      "source": [
        "# reading the file \n",
        "df = pd.read_csv('/content/BNB_2k_live.csv')\n",
        "#converting data type of tweets from object to string\n",
        "df['tweets'] = df['tweets'].astype('str')"
      ],
      "execution_count": null,
      "outputs": []
    },
    {
      "cell_type": "code",
      "metadata": {
        "id": "LamVbekaFyYL"
      },
      "source": [
        "# function to extract hashtags from tweets\n",
        "def extract_hashtags(text):\n",
        "     \n",
        "    # initializing hashtag_list variable\n",
        "    hashtag_list = []\n",
        "     \n",
        "    # splitting the text into words\n",
        "    for word in text.split():\n",
        "         \n",
        "        # checking the first character of every word\n",
        "        if word[0] == '#':\n",
        "             \n",
        "            # adding the word to the hashtag_list\n",
        "            hashtag_list.append(word[1:])\n",
        "    return hashtag_list\n",
        "\n",
        "#creating new column with hastags as variable\n",
        "df['hastags'] = df['tweets'].apply(extract_hashtags)\n"
      ],
      "execution_count": null,
      "outputs": []
    },
    {
      "cell_type": "code",
      "metadata": {
        "id": "SQM41rw5b1Z9"
      },
      "source": [
        "#Clean text function\n",
        "\n",
        "def cleanTxt(text):\n",
        "  text = re.sub(r'@[A-za-z0-9]+','',text) # Removing mentions\n",
        "  text = re.sub(r'$[A-za-z0-9]+','',text) #dollar signs\n",
        "  text = re.sub(r'#','',text) #Removing hash tags\n",
        "  text = re.sub(r'RT[\\s]+','',text) #Removing rt\n",
        "  text = re.sub(r'https?:\\/\\/\\S+','',text) #Removing url\n",
        "\n",
        "  return text"
      ],
      "execution_count": null,
      "outputs": []
    },
    {
      "cell_type": "code",
      "metadata": {
        "id": "6uuxmnt_FyYM"
      },
      "source": [
        "#text preprocessing to perform sentiment Analysis\n",
        "df['tweets'] = df['tweets'].apply(cleanTxt)\n",
        "\n",
        "#==========================================\n",
        "# Adjust the case of the text so that all\n",
        "# values are lowercase\n",
        "#==========================================\n",
        "df['tweets'] = df['tweets'].apply(lambda x: \" \".join(x.lower() for x in x.split()))\n",
        "\n",
        "#=========================================\n",
        "# Remove the numerical values as well as\n",
        "# punctuation from the text.\n",
        "#=========================================\n",
        "patterndigits = '\\\\b[0-9]+\\\\b'\n",
        "df['tweets'] = df['tweets'].str.replace(patterndigits,'')\n",
        "\n",
        "patternpunc = '[^\\w\\s]'\n",
        "df['tweets'] = df['tweets'].str.replace(patternpunc,'')\n",
        "\n",
        "#=====================================\n",
        "# Remove stop words from the data by\n",
        "# using the dataset stop_words found\n",
        "# in the nltk library\n",
        "#=====================================\n",
        "stop = stopwords.words('english')\n",
        "\n",
        "\n",
        "df['tweets'] = df['tweets'].apply(lambda x: \" \".join(x for x in x.split() if x not in stop))\n",
        "\n",
        "\n",
        "df.tweets.head(5)"
      ],
      "execution_count": null,
      "outputs": []
    },
    {
      "cell_type": "code",
      "metadata": {
        "id": "kBjrT4l3b1fM"
      },
      "source": [
        "#Subjectivity - function\n",
        "def getSubjectivity(text):\n",
        "  return TextBlob(text).sentiment.subjectivity\n",
        "\n"
      ],
      "execution_count": null,
      "outputs": []
    },
    {
      "cell_type": "code",
      "metadata": {
        "id": "rX4jf_hnb1qW"
      },
      "source": [
        "#Polarity - function\n",
        "def getPolarity(text):\n",
        "  return TextBlob(text).sentiment.polarity"
      ],
      "execution_count": null,
      "outputs": []
    },
    {
      "cell_type": "code",
      "metadata": {
        "id": "IYFA_-BMFyYO"
      },
      "source": [
        "df['subjectivity'] = df['tweets'].apply(getSubjectivity)\n",
        "df['polarity'] = df['tweets'].apply(getPolarity)\n",
        "\n",
        "df.head(5)"
      ],
      "execution_count": null,
      "outputs": []
    },
    {
      "cell_type": "code",
      "metadata": {
        "id": "3pFwVUs3iPlV"
      },
      "source": [
        "#compute Negative Neutral and Positive\n",
        "def getAnalysis(score):\n",
        "  if score <0 :\n",
        "    return 'Negative'\n",
        "  elif score == 0:\n",
        "    return 'Neutral'\n",
        "  else:\n",
        "    return 'Positive'\n",
        "\n",
        "# Adding sentiment column to the dataframe\n",
        "df['Analysis'] = df['polarity'].apply(getAnalysis)\n",
        "\n",
        "df.head(10)"
      ],
      "execution_count": null,
      "outputs": []
    },
    {
      "cell_type": "code",
      "metadata": {
        "id": "cwBsegnvFyYO"
      },
      "source": [
        "#converting the data frame into CSV\n",
        "df.to_csv('BNB_2K_sentiment.csv')"
      ],
      "execution_count": null,
      "outputs": []
    }
  ]
}
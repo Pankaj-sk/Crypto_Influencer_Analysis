{
  "nbformat": 4,
  "nbformat_minor": 0,
  "metadata": {
    "colab": {
      "name": "Topic_Modelling.ipynb",
      "provenance": [],
      "collapsed_sections": [],
      "toc_visible": true,
      "authorship_tag": "ABX9TyMLlPBG+pmM23iLdKsbrvEc",
      "include_colab_link": true
    },
    "kernelspec": {
      "name": "python3",
      "display_name": "Python 3"
    },
    "language_info": {
      "name": "python"
    }
  },
  "cells": [
    {
      "cell_type": "markdown",
      "metadata": {
        "id": "view-in-github",
        "colab_type": "text"
      },
      "source": [
        "<a href=\"https://colab.research.google.com/github/Pankaj-sk/Crypto_Influencer_Analysis/blob/main/Topic_Modelling.ipynb\" target=\"_parent\"><img src=\"https://colab.research.google.com/assets/colab-badge.svg\" alt=\"Open In Colab\"/></a>"
      ]
    },
    {
      "cell_type": "markdown",
      "metadata": {
        "id": "mJJlxzyJ6_EK"
      },
      "source": [
        "# Approach 2\n",
        "\n"
      ]
    },
    {
      "cell_type": "code",
      "metadata": {
        "colab": {
          "base_uri": "https://localhost:8080/",
          "height": 1000
        },
        "id": "8duyC5g-r4tR",
        "outputId": "33aec43c-edd3-4ef4-bfb8-efa870bddfd2"
      },
      "source": [
        "#https://www.machinelearningplus.com/nlp/topic-modeling-gensim-python/#1introduction\n",
        "import nltk\n",
        "nltk.download(\"stopwords\")\n",
        "import numpy as np\n",
        "import json\n",
        "import glob\n",
        "\n",
        "#Gensim\n",
        "import gensim\n",
        "import gensim.corpora as corpora\n",
        "from gensim.utils import simple_preprocess\n",
        "from gensim.models import CoherenceModel\n",
        "\n",
        "#spacy\n",
        "import spacy\n",
        "from nltk.corpus import stopwords\n",
        "\n",
        "#vis\n",
        "!pip install pyLDAvis\n",
        "\n",
        "import pyLDAvis\n",
        "import pyLDAvis.gensim_models\n",
        "\n",
        "pyLDAvis.enable_notebook()\n",
        "\n",
        "\n",
        "\n",
        "import warnings\n",
        "warnings.filterwarnings(\"ignore\", category=DeprecationWarning)"
      ],
      "execution_count": null,
      "outputs": [
        {
          "output_type": "stream",
          "name": "stdout",
          "text": [
            "[nltk_data] Downloading package stopwords to /root/nltk_data...\n",
            "[nltk_data]   Unzipping corpora/stopwords.zip.\n",
            "Collecting pyLDAvis\n",
            "  Downloading pyLDAvis-3.3.1.tar.gz (1.7 MB)\n",
            "\u001b[K     |████████████████████████████████| 1.7 MB 15.4 MB/s \n",
            "\u001b[?25h  Installing build dependencies ... \u001b[?25l\u001b[?25hdone\n",
            "  Getting requirements to build wheel ... \u001b[?25l\u001b[?25hdone\n",
            "  Installing backend dependencies ... \u001b[?25l\u001b[?25hdone\n",
            "    Preparing wheel metadata ... \u001b[?25l\u001b[?25hdone\n",
            "Requirement already satisfied: numexpr in /usr/local/lib/python3.7/dist-packages (from pyLDAvis) (2.7.3)\n",
            "Collecting pandas>=1.2.0\n",
            "  Downloading pandas-1.3.4-cp37-cp37m-manylinux_2_17_x86_64.manylinux2014_x86_64.whl (11.3 MB)\n",
            "\u001b[K     |████████████████████████████████| 11.3 MB 36.2 MB/s \n",
            "\u001b[?25hCollecting numpy>=1.20.0\n",
            "  Downloading numpy-1.21.4-cp37-cp37m-manylinux_2_12_x86_64.manylinux2010_x86_64.whl (15.7 MB)\n",
            "\u001b[K     |████████████████████████████████| 15.7 MB 23.7 MB/s \n",
            "\u001b[?25hRequirement already satisfied: future in /usr/local/lib/python3.7/dist-packages (from pyLDAvis) (0.16.0)\n",
            "Requirement already satisfied: joblib in /usr/local/lib/python3.7/dist-packages (from pyLDAvis) (1.1.0)\n",
            "Requirement already satisfied: jinja2 in /usr/local/lib/python3.7/dist-packages (from pyLDAvis) (2.11.3)\n",
            "Requirement already satisfied: gensim in /usr/local/lib/python3.7/dist-packages (from pyLDAvis) (3.6.0)\n",
            "Collecting funcy\n",
            "  Downloading funcy-1.16-py2.py3-none-any.whl (32 kB)\n",
            "Requirement already satisfied: sklearn in /usr/local/lib/python3.7/dist-packages (from pyLDAvis) (0.0)\n",
            "Requirement already satisfied: setuptools in /usr/local/lib/python3.7/dist-packages (from pyLDAvis) (57.4.0)\n",
            "Requirement already satisfied: scipy in /usr/local/lib/python3.7/dist-packages (from pyLDAvis) (1.4.1)\n",
            "Requirement already satisfied: scikit-learn in /usr/local/lib/python3.7/dist-packages (from pyLDAvis) (1.0.1)\n",
            "Requirement already satisfied: pytz>=2017.3 in /usr/local/lib/python3.7/dist-packages (from pandas>=1.2.0->pyLDAvis) (2018.9)\n",
            "Requirement already satisfied: python-dateutil>=2.7.3 in /usr/local/lib/python3.7/dist-packages (from pandas>=1.2.0->pyLDAvis) (2.8.2)\n",
            "Requirement already satisfied: six>=1.5 in /usr/local/lib/python3.7/dist-packages (from python-dateutil>=2.7.3->pandas>=1.2.0->pyLDAvis) (1.15.0)\n",
            "Requirement already satisfied: smart-open>=1.2.1 in /usr/local/lib/python3.7/dist-packages (from gensim->pyLDAvis) (5.2.1)\n",
            "Requirement already satisfied: MarkupSafe>=0.23 in /usr/local/lib/python3.7/dist-packages (from jinja2->pyLDAvis) (2.0.1)\n",
            "Requirement already satisfied: threadpoolctl>=2.0.0 in /usr/local/lib/python3.7/dist-packages (from scikit-learn->pyLDAvis) (3.0.0)\n",
            "Building wheels for collected packages: pyLDAvis\n",
            "  Building wheel for pyLDAvis (PEP 517) ... \u001b[?25l\u001b[?25hdone\n",
            "  Created wheel for pyLDAvis: filename=pyLDAvis-3.3.1-py2.py3-none-any.whl size=136897 sha256=95c596dc5566b65b5a462f9770a06b89f27620fa7b95eefc8fa3d82c26a23ec0\n",
            "  Stored in directory: /root/.cache/pip/wheels/c9/21/f6/17bcf2667e8a68532ba2fbf6d5c72fdf4c7f7d9abfa4852d2f\n",
            "Successfully built pyLDAvis\n",
            "Installing collected packages: numpy, pandas, funcy, pyLDAvis\n",
            "  Attempting uninstall: numpy\n",
            "    Found existing installation: numpy 1.19.5\n",
            "    Uninstalling numpy-1.19.5:\n",
            "      Successfully uninstalled numpy-1.19.5\n",
            "  Attempting uninstall: pandas\n",
            "    Found existing installation: pandas 1.1.5\n",
            "    Uninstalling pandas-1.1.5:\n",
            "      Successfully uninstalled pandas-1.1.5\n",
            "\u001b[31mERROR: pip's dependency resolver does not currently take into account all the packages that are installed. This behaviour is the source of the following dependency conflicts.\n",
            "yellowbrick 1.3.post1 requires numpy<1.20,>=1.16.0, but you have numpy 1.21.4 which is incompatible.\n",
            "google-colab 1.0.0 requires pandas~=1.1.0; python_version >= \"3.0\", but you have pandas 1.3.4 which is incompatible.\n",
            "datascience 0.10.6 requires folium==0.2.1, but you have folium 0.8.3 which is incompatible.\n",
            "albumentations 0.1.12 requires imgaug<0.2.7,>=0.2.5, but you have imgaug 0.2.9 which is incompatible.\u001b[0m\n",
            "Successfully installed funcy-1.16 numpy-1.21.4 pandas-1.3.4 pyLDAvis-3.3.1\n"
          ]
        },
        {
          "output_type": "display_data",
          "data": {
            "application/vnd.colab-display-data+json": {
              "pip_warning": {
                "packages": [
                  "numpy",
                  "pandas"
                ]
              }
            }
          },
          "metadata": {}
        },
        {
          "output_type": "stream",
          "name": "stderr",
          "text": [
            "/usr/local/lib/python3.7/dist-packages/past/types/oldstr.py:5: DeprecationWarning: Using or importing the ABCs from 'collections' instead of from 'collections.abc' is deprecated since Python 3.3,and in 3.9 it will stop working\n",
            "  from collections import Iterable\n"
          ]
        }
      ]
    },
    {
      "cell_type": "code",
      "metadata": {
        "id": "coEeVNL1t7Tx"
      },
      "source": [
        "#preparing the data\n",
        "def load_data(file):\n",
        "    with open (file, \"r\", encoding=\"utf-8\") as f:\n",
        "        data = json.load(f) \n",
        "    return (data)\n",
        "\n",
        "def write_data(file, data):\n",
        "    with open (file, \"w\", encoding=\"utf-8\") as f:\n",
        "        json.dump(data, f, indent=4)"
      ],
      "execution_count": null,
      "outputs": []
    },
    {
      "cell_type": "markdown",
      "metadata": {
        "id": "kF9PPJD2t7mL"
      },
      "source": [
        ""
      ]
    },
    {
      "cell_type": "code",
      "metadata": {
        "id": "KpB3AC8it7_z"
      },
      "source": [
        "#importing stopwords\n",
        "stopwords = stopwords.words(\"english\")"
      ],
      "execution_count": null,
      "outputs": []
    },
    {
      "cell_type": "code",
      "metadata": {
        "colab": {
          "base_uri": "https://localhost:8080/"
        },
        "id": "SR9DvTFXt8CU",
        "outputId": "df97de8a-3384-47f7-8236-9eb515f0c904"
      },
      "source": [
        "#checking stopwords\n",
        "print (stopwords)"
      ],
      "execution_count": null,
      "outputs": [
        {
          "output_type": "stream",
          "name": "stdout",
          "text": [
            "['i', 'me', 'my', 'myself', 'we', 'our', 'ours', 'ourselves', 'you', \"you're\", \"you've\", \"you'll\", \"you'd\", 'your', 'yours', 'yourself', 'yourselves', 'he', 'him', 'his', 'himself', 'she', \"she's\", 'her', 'hers', 'herself', 'it', \"it's\", 'its', 'itself', 'they', 'them', 'their', 'theirs', 'themselves', 'what', 'which', 'who', 'whom', 'this', 'that', \"that'll\", 'these', 'those', 'am', 'is', 'are', 'was', 'were', 'be', 'been', 'being', 'have', 'has', 'had', 'having', 'do', 'does', 'did', 'doing', 'a', 'an', 'the', 'and', 'but', 'if', 'or', 'because', 'as', 'until', 'while', 'of', 'at', 'by', 'for', 'with', 'about', 'against', 'between', 'into', 'through', 'during', 'before', 'after', 'above', 'below', 'to', 'from', 'up', 'down', 'in', 'out', 'on', 'off', 'over', 'under', 'again', 'further', 'then', 'once', 'here', 'there', 'when', 'where', 'why', 'how', 'all', 'any', 'both', 'each', 'few', 'more', 'most', 'other', 'some', 'such', 'no', 'nor', 'not', 'only', 'own', 'same', 'so', 'than', 'too', 'very', 's', 't', 'can', 'will', 'just', 'don', \"don't\", 'should', \"should've\", 'now', 'd', 'll', 'm', 'o', 're', 've', 'y', 'ain', 'aren', \"aren't\", 'couldn', \"couldn't\", 'didn', \"didn't\", 'doesn', \"doesn't\", 'hadn', \"hadn't\", 'hasn', \"hasn't\", 'haven', \"haven't\", 'isn', \"isn't\", 'ma', 'mightn', \"mightn't\", 'mustn', \"mustn't\", 'needn', \"needn't\", 'shan', \"shan't\", 'shouldn', \"shouldn't\", 'wasn', \"wasn't\", 'weren', \"weren't\", 'won', \"won't\", 'wouldn', \"wouldn't\"]\n"
          ]
        }
      ]
    },
    {
      "cell_type": "code",
      "metadata": {
        "colab": {
          "base_uri": "https://localhost:8080/",
          "height": 345
        },
        "id": "ctvgK5L_t8Ez",
        "outputId": "19e13d98-142f-40a2-c479-bf441209b28c"
      },
      "source": [
        "#imorting the data\n",
        "import pandas as pd\n",
        "data = pd.read_excel(\"/Base_Data.xlsx\")\n"
      ],
      "execution_count": null,
      "outputs": [
        {
          "output_type": "error",
          "ename": "FileNotFoundError",
          "evalue": "ignored",
          "traceback": [
            "\u001b[0;31m---------------------------------------------------------------------------\u001b[0m",
            "\u001b[0;31mFileNotFoundError\u001b[0m                         Traceback (most recent call last)",
            "\u001b[0;32m<ipython-input-6-d2d95c00301e>\u001b[0m in \u001b[0;36m<module>\u001b[0;34m()\u001b[0m\n\u001b[1;32m      1\u001b[0m \u001b[0;31m#imorting the data\u001b[0m\u001b[0;34m\u001b[0m\u001b[0;34m\u001b[0m\u001b[0;34m\u001b[0m\u001b[0m\n\u001b[1;32m      2\u001b[0m \u001b[0;32mimport\u001b[0m \u001b[0mpandas\u001b[0m \u001b[0;32mas\u001b[0m \u001b[0mpd\u001b[0m\u001b[0;34m\u001b[0m\u001b[0;34m\u001b[0m\u001b[0m\n\u001b[0;32m----> 3\u001b[0;31m \u001b[0mdata\u001b[0m \u001b[0;34m=\u001b[0m \u001b[0mpd\u001b[0m\u001b[0;34m.\u001b[0m\u001b[0mread_excel\u001b[0m\u001b[0;34m(\u001b[0m\u001b[0;34m\"/Base_Data.xlsx\"\u001b[0m\u001b[0;34m)\u001b[0m\u001b[0;34m\u001b[0m\u001b[0;34m\u001b[0m\u001b[0m\n\u001b[0m",
            "\u001b[0;32m/usr/local/lib/python3.7/dist-packages/pandas/util/_decorators.py\u001b[0m in \u001b[0;36mwrapper\u001b[0;34m(*args, **kwargs)\u001b[0m\n\u001b[1;32m    294\u001b[0m             \u001b[0mallow_args\u001b[0m \u001b[0;34m=\u001b[0m \u001b[0mspec\u001b[0m\u001b[0;34m.\u001b[0m\u001b[0margs\u001b[0m\u001b[0;34m[\u001b[0m\u001b[0;34m:\u001b[0m \u001b[0;34m-\u001b[0m\u001b[0mlen\u001b[0m\u001b[0;34m(\u001b[0m\u001b[0mspec\u001b[0m\u001b[0;34m.\u001b[0m\u001b[0mdefaults\u001b[0m\u001b[0;34m)\u001b[0m\u001b[0;34m]\u001b[0m\u001b[0;34m\u001b[0m\u001b[0;34m\u001b[0m\u001b[0m\n\u001b[1;32m    295\u001b[0m \u001b[0;34m\u001b[0m\u001b[0m\n\u001b[0;32m--> 296\u001b[0;31m         \u001b[0mnum_allow_args\u001b[0m \u001b[0;34m=\u001b[0m \u001b[0mlen\u001b[0m\u001b[0;34m(\u001b[0m\u001b[0mallow_args\u001b[0m\u001b[0;34m)\u001b[0m\u001b[0;34m\u001b[0m\u001b[0;34m\u001b[0m\u001b[0m\n\u001b[0m\u001b[1;32m    297\u001b[0m         msg = (\n\u001b[1;32m    298\u001b[0m             \u001b[0;34mf\"{future_version_msg(version)} all arguments of \"\u001b[0m\u001b[0;34m\u001b[0m\u001b[0;34m\u001b[0m\u001b[0m\n",
            "\u001b[0;32m/usr/local/lib/python3.7/dist-packages/pandas/io/excel/_base.py\u001b[0m in \u001b[0;36mread_excel\u001b[0;34m(io, sheet_name, header, names, index_col, usecols, squeeze, dtype, engine, converters, true_values, false_values, skiprows, nrows, na_values, keep_default_na, na_filter, verbose, parse_dates, date_parser, thousands, comment, skipfooter, convert_float, mangle_dupe_cols)\u001b[0m\n\u001b[1;32m    302\u001b[0m ...               dtype={'Name': str, 'Value': float})  # doctest: +SKIP\n\u001b[1;32m    303\u001b[0m        \u001b[0mName\u001b[0m  \u001b[0mValue\u001b[0m\u001b[0;34m\u001b[0m\u001b[0;34m\u001b[0m\u001b[0m\n\u001b[0;32m--> 304\u001b[0;31m \u001b[0;36m0\u001b[0m   \u001b[0mstring1\u001b[0m    \u001b[0;36m1.0\u001b[0m\u001b[0;34m\u001b[0m\u001b[0;34m\u001b[0m\u001b[0m\n\u001b[0m\u001b[1;32m    305\u001b[0m \u001b[0;36m1\u001b[0m   \u001b[0mstring2\u001b[0m    \u001b[0;36m2.0\u001b[0m\u001b[0;34m\u001b[0m\u001b[0;34m\u001b[0m\u001b[0m\n\u001b[1;32m    306\u001b[0m \u001b[0;36m2\u001b[0m  \u001b[0;31m#Comment    3.0\u001b[0m\u001b[0;34m\u001b[0m\u001b[0;34m\u001b[0m\u001b[0m\n",
            "\u001b[0;32m/usr/local/lib/python3.7/dist-packages/pandas/io/excel/_base.py\u001b[0m in \u001b[0;36m__init__\u001b[0;34m(self, path_or_buffer, engine)\u001b[0m\n\u001b[1;32m    865\u001b[0m     \u001b[0;34m@\u001b[0m\u001b[0mproperty\u001b[0m\u001b[0;34m\u001b[0m\u001b[0;34m\u001b[0m\u001b[0m\n\u001b[1;32m    866\u001b[0m     \u001b[0;34m@\u001b[0m\u001b[0mabc\u001b[0m\u001b[0;34m.\u001b[0m\u001b[0mabstractmethod\u001b[0m\u001b[0;34m\u001b[0m\u001b[0;34m\u001b[0m\u001b[0m\n\u001b[0;32m--> 867\u001b[0;31m     \u001b[0;32mdef\u001b[0m \u001b[0mengine\u001b[0m\u001b[0;34m(\u001b[0m\u001b[0mself\u001b[0m\u001b[0;34m)\u001b[0m\u001b[0;34m:\u001b[0m\u001b[0;34m\u001b[0m\u001b[0;34m\u001b[0m\u001b[0m\n\u001b[0m\u001b[1;32m    868\u001b[0m         \u001b[0;34m\"\"\"Name of engine.\"\"\"\u001b[0m\u001b[0;34m\u001b[0m\u001b[0;34m\u001b[0m\u001b[0m\n\u001b[1;32m    869\u001b[0m         \u001b[0;32mpass\u001b[0m\u001b[0;34m\u001b[0m\u001b[0;34m\u001b[0m\u001b[0m\n",
            "\u001b[0;32m/usr/local/lib/python3.7/dist-packages/pandas/io/excel/_xlrd.py\u001b[0m in \u001b[0;36m__init__\u001b[0;34m(self, filepath_or_buffer)\u001b[0m\n\u001b[1;32m     20\u001b[0m         \u001b[0mstorage_options\u001b[0m \u001b[0;34m:\u001b[0m \u001b[0mdict\u001b[0m\u001b[0;34m,\u001b[0m \u001b[0moptional\u001b[0m\u001b[0;34m\u001b[0m\u001b[0;34m\u001b[0m\u001b[0m\n\u001b[1;32m     21\u001b[0m             \u001b[0mpassed\u001b[0m \u001b[0mto\u001b[0m \u001b[0mfsspec\u001b[0m \u001b[0;32mfor\u001b[0m \u001b[0mappropriate\u001b[0m \u001b[0mURLs\u001b[0m \u001b[0;34m(\u001b[0m\u001b[0msee\u001b[0m\u001b[0;31m \u001b[0m\u001b[0;31m`\u001b[0m\u001b[0;31m`\u001b[0m\u001b[0m_get_filepath_or_buffer\u001b[0m\u001b[0;31m`\u001b[0m\u001b[0;31m`\u001b[0m\u001b[0;34m)\u001b[0m\u001b[0;34m\u001b[0m\u001b[0;34m\u001b[0m\u001b[0m\n\u001b[0;32m---> 22\u001b[0;31m         \"\"\"\n\u001b[0m\u001b[1;32m     23\u001b[0m         \u001b[0merr_msg\u001b[0m \u001b[0;34m=\u001b[0m \u001b[0;34m\"Install xlrd >= 1.0.0 for Excel support\"\u001b[0m\u001b[0;34m\u001b[0m\u001b[0;34m\u001b[0m\u001b[0m\n\u001b[1;32m     24\u001b[0m         \u001b[0mimport_optional_dependency\u001b[0m\u001b[0;34m(\u001b[0m\u001b[0;34m\"xlrd\"\u001b[0m\u001b[0;34m,\u001b[0m \u001b[0mextra\u001b[0m\u001b[0;34m=\u001b[0m\u001b[0merr_msg\u001b[0m\u001b[0;34m)\u001b[0m\u001b[0;34m\u001b[0m\u001b[0;34m\u001b[0m\u001b[0m\n",
            "\u001b[0;32m/usr/local/lib/python3.7/dist-packages/pandas/io/excel/_base.py\u001b[0m in \u001b[0;36m__init__\u001b[0;34m(self, filepath_or_buffer)\u001b[0m\n\u001b[1;32m    351\u001b[0m     \u001b[0mparse_dates\u001b[0m\u001b[0;34m=\u001b[0m\u001b[0;32mFalse\u001b[0m\u001b[0;34m,\u001b[0m\u001b[0;34m\u001b[0m\u001b[0;34m\u001b[0m\u001b[0m\n\u001b[1;32m    352\u001b[0m     \u001b[0mdate_parser\u001b[0m\u001b[0;34m=\u001b[0m\u001b[0;32mNone\u001b[0m\u001b[0;34m,\u001b[0m\u001b[0;34m\u001b[0m\u001b[0;34m\u001b[0m\u001b[0m\n\u001b[0;32m--> 353\u001b[0;31m     \u001b[0mthousands\u001b[0m\u001b[0;34m=\u001b[0m\u001b[0;32mNone\u001b[0m\u001b[0;34m,\u001b[0m\u001b[0;34m\u001b[0m\u001b[0;34m\u001b[0m\u001b[0m\n\u001b[0m\u001b[1;32m    354\u001b[0m     \u001b[0mcomment\u001b[0m\u001b[0;34m=\u001b[0m\u001b[0;32mNone\u001b[0m\u001b[0;34m,\u001b[0m\u001b[0;34m\u001b[0m\u001b[0;34m\u001b[0m\u001b[0m\n\u001b[1;32m    355\u001b[0m     \u001b[0mskipfooter\u001b[0m\u001b[0;34m=\u001b[0m\u001b[0;36m0\u001b[0m\u001b[0;34m,\u001b[0m\u001b[0;34m\u001b[0m\u001b[0;34m\u001b[0m\u001b[0m\n",
            "\u001b[0;32m/usr/local/lib/python3.7/dist-packages/pandas/io/excel/_xlrd.py\u001b[0m in \u001b[0;36mload_workbook\u001b[0;34m(self, filepath_or_buffer)\u001b[0m\n\u001b[1;32m     35\u001b[0m \u001b[0;34m\u001b[0m\u001b[0m\n\u001b[1;32m     36\u001b[0m         \u001b[0;32mif\u001b[0m \u001b[0mhasattr\u001b[0m\u001b[0;34m(\u001b[0m\u001b[0mfilepath_or_buffer\u001b[0m\u001b[0;34m,\u001b[0m \u001b[0;34m\"read\"\u001b[0m\u001b[0;34m)\u001b[0m\u001b[0;34m:\u001b[0m\u001b[0;34m\u001b[0m\u001b[0;34m\u001b[0m\u001b[0m\n\u001b[0;32m---> 37\u001b[0;31m             \u001b[0mdata\u001b[0m \u001b[0;34m=\u001b[0m \u001b[0mfilepath_or_buffer\u001b[0m\u001b[0;34m.\u001b[0m\u001b[0mread\u001b[0m\u001b[0;34m(\u001b[0m\u001b[0;34m)\u001b[0m\u001b[0;34m\u001b[0m\u001b[0;34m\u001b[0m\u001b[0m\n\u001b[0m\u001b[1;32m     38\u001b[0m             \u001b[0;32mreturn\u001b[0m \u001b[0mopen_workbook\u001b[0m\u001b[0;34m(\u001b[0m\u001b[0mfile_contents\u001b[0m\u001b[0;34m=\u001b[0m\u001b[0mdata\u001b[0m\u001b[0;34m)\u001b[0m\u001b[0;34m\u001b[0m\u001b[0;34m\u001b[0m\u001b[0m\n\u001b[1;32m     39\u001b[0m         \u001b[0;32melse\u001b[0m\u001b[0;34m:\u001b[0m\u001b[0;34m\u001b[0m\u001b[0;34m\u001b[0m\u001b[0m\n",
            "\u001b[0;32m/usr/local/lib/python3.7/dist-packages/xlrd/__init__.py\u001b[0m in \u001b[0;36mopen_workbook\u001b[0;34m(filename, logfile, verbosity, use_mmap, file_contents, encoding_override, formatting_info, on_demand, ragged_rows)\u001b[0m\n\u001b[1;32m    114\u001b[0m         \u001b[0mpeek\u001b[0m \u001b[0;34m=\u001b[0m \u001b[0mfile_contents\u001b[0m\u001b[0;34m[\u001b[0m\u001b[0;34m:\u001b[0m\u001b[0mpeeksz\u001b[0m\u001b[0;34m]\u001b[0m\u001b[0;34m\u001b[0m\u001b[0;34m\u001b[0m\u001b[0m\n\u001b[1;32m    115\u001b[0m     \u001b[0;32melse\u001b[0m\u001b[0;34m:\u001b[0m\u001b[0;34m\u001b[0m\u001b[0;34m\u001b[0m\u001b[0m\n\u001b[0;32m--> 116\u001b[0;31m         \u001b[0;32mwith\u001b[0m \u001b[0mopen\u001b[0m\u001b[0;34m(\u001b[0m\u001b[0mfilename\u001b[0m\u001b[0;34m,\u001b[0m \u001b[0;34m\"rb\"\u001b[0m\u001b[0;34m)\u001b[0m \u001b[0;32mas\u001b[0m \u001b[0mf\u001b[0m\u001b[0;34m:\u001b[0m\u001b[0;34m\u001b[0m\u001b[0;34m\u001b[0m\u001b[0m\n\u001b[0m\u001b[1;32m    117\u001b[0m             \u001b[0mpeek\u001b[0m \u001b[0;34m=\u001b[0m \u001b[0mf\u001b[0m\u001b[0;34m.\u001b[0m\u001b[0mread\u001b[0m\u001b[0;34m(\u001b[0m\u001b[0mpeeksz\u001b[0m\u001b[0;34m)\u001b[0m\u001b[0;34m\u001b[0m\u001b[0;34m\u001b[0m\u001b[0m\n\u001b[1;32m    118\u001b[0m     \u001b[0;32mif\u001b[0m \u001b[0mpeek\u001b[0m \u001b[0;34m==\u001b[0m \u001b[0;34mb\"PK\\x03\\x04\"\u001b[0m\u001b[0;34m:\u001b[0m \u001b[0;31m# a ZIP file\u001b[0m\u001b[0;34m\u001b[0m\u001b[0;34m\u001b[0m\u001b[0m\n",
            "\u001b[0;31mFileNotFoundError\u001b[0m: [Errno 2] No such file or directory: '/Base_Data.xlsx'"
          ]
        }
      ]
    },
    {
      "cell_type": "code",
      "metadata": {
        "id": "Rt4lVGFRfhFn"
      },
      "source": [
        "data = data[\"tweets\"].values.tolist()"
      ],
      "execution_count": null,
      "outputs": []
    },
    {
      "cell_type": "markdown",
      "metadata": {
        "id": "Et-DR82Zf_Gd"
      },
      "source": [
        ""
      ]
    },
    {
      "cell_type": "code",
      "metadata": {
        "colab": {
          "base_uri": "https://localhost:8080/"
        },
        "id": "G2u5Yz-Lt8IC",
        "outputId": "9d8c9979-0225-44d5-de11-0e904bfac0ab"
      },
      "source": [
        "#lemmatization the text to core root words\n",
        "def lemmatization(texts, allowed_postags=[\"NOUN\", \"ADJ\", \"VERB\", \"ADV\"]):\n",
        "    nlp = spacy.load(\"en_core_web_sm\", disable=[\"parser\", \"ner\"])\n",
        "    texts_out = []\n",
        "    for text in texts:\n",
        "        doc = nlp(text)\n",
        "        new_text = []\n",
        "        for token in doc:\n",
        "            if token.pos_ in allowed_postags:\n",
        "                new_text.append(token.lemma_)\n",
        "        final = \" \".join(new_text)\n",
        "        texts_out.append(final)\n",
        "    return (texts_out)\n",
        "\n",
        "\n",
        "lemmatized_texts = lemmatization(data)\n",
        "print (lemmatized_texts[0][0:90])"
      ],
      "execution_count": null,
      "outputs": [
        {
          "output_type": "stream",
          "name": "stdout",
          "text": [
            "would much rather see community come appreciate virtue pos\n"
          ]
        }
      ]
    },
    {
      "cell_type": "code",
      "metadata": {
        "colab": {
          "base_uri": "https://localhost:8080/"
        },
        "id": "rpl4ia5Zt8K4",
        "outputId": "b8a23953-f8f6-4052-ff3c-9f54a65d1041"
      },
      "source": [
        "#converting into individual words\n",
        "def gen_words(texts):\n",
        "    final = []\n",
        "    for text in texts:\n",
        "        new = gensim.utils.simple_preprocess(text, deacc=True)\n",
        "        final.append(new)\n",
        "    return (final)\n",
        "\n",
        "data_words = gen_words(lemmatized_texts)\n",
        "\n",
        "print (data_words[0][0:20])"
      ],
      "execution_count": null,
      "outputs": [
        {
          "output_type": "stream",
          "name": "stdout",
          "text": [
            "['would', 'much', 'rather', 'see', 'community', 'come', 'appreciate', 'virtue', 'pos']\n"
          ]
        }
      ]
    },
    {
      "cell_type": "code",
      "metadata": {
        "colab": {
          "base_uri": "https://localhost:8080/"
        },
        "id": "RISOdn67t8Nm",
        "outputId": "19d78101-3a56-4f1b-d268-17ea171cabbb"
      },
      "source": [
        "#creating a bag of words\n",
        "id2word = corpora.Dictionary(data_words)\n",
        "\n",
        "corpus = []\n",
        "for text in data_words:\n",
        "    new = id2word.doc2bow(text)\n",
        "    corpus.append(new)\n",
        "\n",
        "print (corpus[0][0:20])\n",
        "\n",
        "word = id2word[[0][:1][0]]\n",
        "print (word)"
      ],
      "execution_count": null,
      "outputs": [
        {
          "output_type": "stream",
          "name": "stdout",
          "text": [
            "[(0, 1), (1, 1), (2, 1), (3, 1), (4, 1), (5, 1), (6, 1), (7, 1), (8, 1)]\n",
            "appreciate\n"
          ]
        }
      ]
    },
    {
      "cell_type": "code",
      "metadata": {
        "id": "24_PcJurt8Qo"
      },
      "source": [
        "lda_model = gensim.models.ldamodel.LdaModel(corpus=corpus,\n",
        "                                           id2word=id2word,\n",
        "                                           num_topics=30,\n",
        "                                           random_state=100,\n",
        "                                           update_every=1,\n",
        "                                           chunksize=100,\n",
        "                                           passes=10,\n",
        "                                           alpha=\"auto\")"
      ],
      "execution_count": null,
      "outputs": []
    },
    {
      "cell_type": "code",
      "metadata": {
        "colab": {
          "base_uri": "https://localhost:8080/"
        },
        "id": "EpnkbQK0uNLb",
        "outputId": "6e97234c-20cc-4c63-a3f2-1aba601cbf0a"
      },
      "source": [
        "#visualising the data\n",
        "\n",
        "pyLDAvis.enable_notebook()\n",
        "\n",
        "# feed the LDA model into the pyLDAvis instance\n",
        "#pyLDAvis.sklearn.prepare(lda_model, dtm_tf, tf_vectorizer)\n",
        "\n",
        "dir(lda_model)\n",
        "\n",
        "#vis = gensim.prepare(lda_model, corpus, id2word, mds=\"mmds\", R=30)\n",
        "#vis"
      ],
      "execution_count": null,
      "outputs": [
        {
          "output_type": "execute_result",
          "data": {
            "text/plain": [
              "['__class__',\n",
              " '__delattr__',\n",
              " '__dict__',\n",
              " '__dir__',\n",
              " '__doc__',\n",
              " '__eq__',\n",
              " '__format__',\n",
              " '__ge__',\n",
              " '__getattribute__',\n",
              " '__getitem__',\n",
              " '__gt__',\n",
              " '__hash__',\n",
              " '__init__',\n",
              " '__init_subclass__',\n",
              " '__le__',\n",
              " '__lt__',\n",
              " '__module__',\n",
              " '__ne__',\n",
              " '__new__',\n",
              " '__reduce__',\n",
              " '__reduce_ex__',\n",
              " '__repr__',\n",
              " '__setattr__',\n",
              " '__sizeof__',\n",
              " '__str__',\n",
              " '__subclasshook__',\n",
              " '__weakref__',\n",
              " '_adapt_by_suffix',\n",
              " '_apply',\n",
              " '_load_specials',\n",
              " '_save_specials',\n",
              " '_smart_save',\n",
              " 'alpha',\n",
              " 'bound',\n",
              " 'callbacks',\n",
              " 'chunksize',\n",
              " 'clear',\n",
              " 'decay',\n",
              " 'diff',\n",
              " 'dispatcher',\n",
              " 'distributed',\n",
              " 'do_estep',\n",
              " 'do_mstep',\n",
              " 'dtype',\n",
              " 'eta',\n",
              " 'eval_every',\n",
              " 'expElogbeta',\n",
              " 'gamma_threshold',\n",
              " 'get_document_topics',\n",
              " 'get_term_topics',\n",
              " 'get_topic_terms',\n",
              " 'get_topics',\n",
              " 'id2word',\n",
              " 'inference',\n",
              " 'init_dir_prior',\n",
              " 'iterations',\n",
              " 'load',\n",
              " 'log_perplexity',\n",
              " 'minimum_phi_value',\n",
              " 'minimum_probability',\n",
              " 'num_terms',\n",
              " 'num_topics',\n",
              " 'num_updates',\n",
              " 'numworkers',\n",
              " 'offset',\n",
              " 'optimize_alpha',\n",
              " 'optimize_eta',\n",
              " 'passes',\n",
              " 'per_word_topics',\n",
              " 'print_topic',\n",
              " 'print_topics',\n",
              " 'random_state',\n",
              " 'save',\n",
              " 'show_topic',\n",
              " 'show_topics',\n",
              " 'state',\n",
              " 'sync_state',\n",
              " 'top_topics',\n",
              " 'update',\n",
              " 'update_alpha',\n",
              " 'update_eta',\n",
              " 'update_every']"
            ]
          },
          "metadata": {},
          "execution_count": 43
        }
      ]
    },
    {
      "cell_type": "code",
      "metadata": {
        "colab": {
          "base_uri": "https://localhost:8080/",
          "height": 165
        },
        "id": "kby6uuolnbpz",
        "outputId": "ad5f9359-2393-4ca1-a48d-bdf04e7ccd52"
      },
      "source": [
        "lda_model.show_topics()"
      ],
      "execution_count": null,
      "outputs": [
        {
          "output_type": "error",
          "ename": "NameError",
          "evalue": "ignored",
          "traceback": [
            "\u001b[0;31m---------------------------------------------------------------------------\u001b[0m",
            "\u001b[0;31mNameError\u001b[0m                                 Traceback (most recent call last)",
            "\u001b[0;32m<ipython-input-1-92bd99d5d42b>\u001b[0m in \u001b[0;36m<module>\u001b[0;34m()\u001b[0m\n\u001b[0;32m----> 1\u001b[0;31m \u001b[0mlda_model\u001b[0m\u001b[0;34m.\u001b[0m\u001b[0mshow_topics\u001b[0m\u001b[0;34m(\u001b[0m\u001b[0;34m)\u001b[0m\u001b[0;34m\u001b[0m\u001b[0;34m\u001b[0m\u001b[0m\n\u001b[0m",
            "\u001b[0;31mNameError\u001b[0m: name 'lda_model' is not defined"
          ]
        }
      ]
    },
    {
      "cell_type": "code",
      "metadata": {
        "id": "iHBQyHg4uNN6"
      },
      "source": [
        ""
      ],
      "execution_count": null,
      "outputs": []
    },
    {
      "cell_type": "markdown",
      "metadata": {
        "id": "bxz-dU2f6mSQ"
      },
      "source": [
        "# Approach 1\n"
      ]
    },
    {
      "cell_type": "code",
      "metadata": {
        "id": "NozhQyCD6hVP"
      },
      "source": [
        "import pandas as pd\n",
        "import matplotlib.pyplot as plt\n",
        "import os\n",
        "\n",
        "import nltk\n",
        "#nltk.download('stopwords')\n",
        "from nltk import word_tokenize, sent_tokenize\n",
        "from nltk.corpus import stopwords\n",
        "from nltk.stem import LancasterStemmer, WordNetLemmatizer, PorterStemmer"
      ],
      "execution_count": null,
      "outputs": []
    },
    {
      "cell_type": "code",
      "metadata": {
        "id": "xRqBi8c46hVS",
        "outputId": "8bff7956-b405-4fc8-8439-a81be8771d57"
      },
      "source": [
        "tweets_data = pd.read_excel('Base_Data_Working_File.xlsx')\n",
        "tweets_data.columns"
      ],
      "execution_count": null,
      "outputs": [
        {
          "data": {
            "text/plain": [
              "Index(['Topic_Coin', 'screenname', 'name', 'tweettext', 'likes', 'time',\n",
              "       'Date', 'Date+1', 'Date+3', 'Date+7',\n",
              "       ...\n",
              "       'M_BNB.30.Open', 'M_BNB.30.High', 'M_BNB.30.Low', 'M_BNB.30.Close',\n",
              "       'M_BNB.30.VoluM_BNB.e', 'M_BNB.30.M_BNB.arket cap', 'M_BNB.30.Profit',\n",
              "       'M_BNB.30.Percentage Change', 'M_BNB.30.Risk', 'M_BNB.30.Span_Price'],\n",
              "      dtype='object', length=197)"
            ]
          },
          "execution_count": 8,
          "metadata": {},
          "output_type": "execute_result"
        }
      ]
    },
    {
      "cell_type": "code",
      "metadata": {
        "id": "OzaEPz6s6hVS",
        "outputId": "69f51250-fbe4-4eb7-f872-7a5c02644fe6"
      },
      "source": [
        "#Preparing the Data\n",
        "#The first step is to convert the text to lowercase so that \n",
        "#all words with similar spelling are treated the same. Look at an entry in the data.\n",
        "tweets_data['tweettext'][2]"
      ],
      "execution_count": null,
      "outputs": [
        {
          "data": {
            "text/plain": [
              "'also important antiinfluences like seeing toxic btc maximalism becoming even back wanting build culture thats far away like'"
            ]
          },
          "execution_count": 9,
          "metadata": {},
          "output_type": "execute_result"
        }
      ]
    },
    {
      "cell_type": "code",
      "metadata": {
        "id": "ahvLdsj86hVT"
      },
      "source": [
        "tweets_data['tweettext'] = tweets_data['tweettext'].apply(lambda x: \" \".join(x.lower() for x in x.split()))"
      ],
      "execution_count": null,
      "outputs": []
    },
    {
      "cell_type": "code",
      "metadata": {
        "id": "dMfsNupY6hVT",
        "outputId": "678f45ea-90da-4776-dc07-ad4381dbeb9d"
      },
      "source": [
        "#confirm that only lowercase values are present in the data\n",
        "tweets_data['tweettext'][2]\n",
        "tweets_data['tweettext'][5]"
      ],
      "execution_count": null,
      "outputs": [
        {
          "data": {
            "text/plain": [
              "'new podcast episode vitalik buterin creator ethereum understanding ethereum eth vs btc'"
            ]
          },
          "execution_count": 11,
          "metadata": {},
          "output_type": "execute_result"
        }
      ]
    },
    {
      "cell_type": "code",
      "metadata": {
        "id": "U7ppBeb76hVU"
      },
      "source": [
        "#The next step is to remove the numerical values and punctuation from the words. \n",
        "#This process is performed using regular expressions. \n",
        "#First, remove the numerical values.\n",
        "patterndigits = '\\\\b[0-9]+\\\\b'\n",
        "tweets_data['tweettext'] = tweets_data['tweettext'].str.replace(patterndigits,'')"
      ],
      "execution_count": null,
      "outputs": []
    },
    {
      "cell_type": "code",
      "metadata": {
        "id": "ZHwpN1BC6hVV"
      },
      "source": [
        "#remove the punctuation\n",
        "patternpunc = '[^\\w\\s]'\n",
        "tweets_data['tweettext'] = tweets_data['tweettext'].str.replace(patternpunc,'')"
      ],
      "execution_count": null,
      "outputs": []
    },
    {
      "cell_type": "code",
      "metadata": {
        "id": "5PVBqnnU6hVV",
        "outputId": "3e888a34-f04e-41b2-abd4-daf9370d01aa"
      },
      "source": [
        "#confirm that the changes occurred\n",
        "tweets_data['tweettext'][2]\n",
        "tweets_data['tweettext'][5]"
      ],
      "execution_count": null,
      "outputs": [
        {
          "data": {
            "text/plain": [
              "'new podcast episode vitalik buterin creator ethereum understanding ethereum eth vs btc'"
            ]
          },
          "execution_count": 14,
          "metadata": {},
          "output_type": "execute_result"
        }
      ]
    },
    {
      "cell_type": "code",
      "metadata": {
        "id": "33vb6puR6hVW"
      },
      "source": [
        "#Remove stop words from the data by using the library nltk. \n",
        "#Obviously, we will choose english because the Tweets are in English\n",
        "stop = stopwords.words('english')\n",
        "\n",
        "tweets_data['tweettext'] = tweets_data['tweettext'].apply(lambda x: \" \".join(x for x in x.split() if x not in stop))"
      ],
      "execution_count": null,
      "outputs": []
    },
    {
      "cell_type": "code",
      "metadata": {
        "id": "kiJK12Ig6hVW"
      },
      "source": [
        "#Remove the Twitter account names of each crypto from the data. \n",
        "airline_names = ['bitcoin','binance','ethereum','btc', 'eth', 'bnb']\n",
        "\n",
        "tweets_data['tweettext'] = tweets_data['tweettext'].apply(lambda x: \" \".join(x for x in x.split() if x not in airline_names)) "
      ],
      "execution_count": null,
      "outputs": []
    },
    {
      "cell_type": "code",
      "metadata": {
        "id": "UKb6f9Bx6hVX",
        "outputId": "519686d5-0583-4c4e-a066-82cd15d7f841"
      },
      "source": [
        "#confirm the changes\n",
        "tweets_data['tweettext'][2]\n",
        "tweets_data['tweettext'][5]"
      ],
      "execution_count": null,
      "outputs": [
        {
          "data": {
            "text/plain": [
              "'new podcast episode vitalik buterin creator understanding vs'"
            ]
          },
          "execution_count": 24,
          "metadata": {},
          "output_type": "execute_result"
        }
      ]
    },
    {
      "cell_type": "code",
      "metadata": {
        "id": "6ZBCOIve6hVX"
      },
      "source": [
        "#The next step is to stem the words. \n",
        "#nltk provides an easy-to-use function, PorterStemmer(), to help.\n",
        "porstem = PorterStemmer()\n",
        "\n",
        "tweets_data['tweettext'] = tweets_data['tweettext'].apply(lambda x: \" \".join([porstem.stem(word) for word in x.split()]))"
      ],
      "execution_count": null,
      "outputs": []
    },
    {
      "cell_type": "code",
      "metadata": {
        "id": "Uv7NGTkh6hVX",
        "outputId": "f40565ed-4af3-4cf6-e761-c7f87e87fe93"
      },
      "source": [
        "#confirm the changes\n",
        "tweets_data['tweettext'][2]\n",
        "tweets_data['tweettext'][5]"
      ],
      "execution_count": null,
      "outputs": [
        {
          "data": {
            "text/plain": [
              "'new podcast episod vitalik buterin creator understand vs'"
            ]
          },
          "execution_count": 26,
          "metadata": {},
          "output_type": "execute_result"
        }
      ]
    },
    {
      "cell_type": "code",
      "metadata": {
        "id": "ZBc7e3Hf6hVX"
      },
      "source": [
        "#last step is creating a document-term matrix. We use a vectorizer from scikitlearn.\n",
        "from sklearn.feature_extraction.text import CountVectorizer\n",
        "vectorizer = CountVectorizer()\n",
        "\n",
        "tokens_data = pd.DataFrame(vectorizer.fit_transform(tweets_data['tweettext']).toarray(), columns=vectorizer.get_feature_names())"
      ],
      "execution_count": null,
      "outputs": []
    },
    {
      "cell_type": "code",
      "metadata": {
        "id": "b8EvMUZx6hVY",
        "outputId": "09af856a-159c-4131-f512-f94218521b50"
      },
      "source": [
        "#This contains a lot of columns. So much so that the majority of them are truncated and not displayed.\n",
        "#To overcome this, you can use the following code.\n",
        "print(tokens_data.columns.tolist())"
      ],
      "execution_count": null,
      "outputs": [
        {
          "name": "stdout",
          "output_type": "stream",
          "text": [
            "['000', '0007btc', '000m', '000th', '04am', '0s', '0x303ccc9f560244da4f575aa6288a80ab3fc81879', '1000btc', '1000x', '100bn', '100k', '100m', '100mil', '100x', '10ampst', '10b', '10k', '10m', '10milbtc', '10min', '10th', '10tr', '10x', '10xing', '10yeae', '10year', '10yearsltc', '11th', '120k', '12k', '12m', '12th', '130k', '130m', '130x', '13k', '13th', '140k', '144k', '14k', '150bn', '150m', '15k', '15th', '16k', '17th', '190k', '1950', '19k', '1b', '1bil', '1btc', '1d', '1d3d', '1hr', '1inch', '1k', '1m', '1mb', '1mil', '1million', '1min', '1oy', '1pm', '1s', '1st', '1t', '1x', '20', '2000', '200ema', '200k', '200m', '200x', '2020', '20c', '20k', '20x', '213k', '21m', '21share', '21st', '23rd', '24h', '24hr', '250k', '258k', '25b', '25k', '25million', '25th', '26th', '286mm', '28th', '2d', '2hr', '2k', '2m', '2mb', '2nd', '2x', '30', '3000', '30k', '30m', '30min', '30th', '320k', '32k', '33k', '35m', '36mo', '374mm', '38k', '390m', '3d', '3hour', '3k', '3pm', '3rd', '3t', '3x', '4000', '400k', '40k', '40m', '41k', '42k', '440k', '45k', '46k', '475k', '48k', '4am', '4h', '4k', '4m', '4min', '4th', '4x', '500m', '500mil', '500t', '50am', '50k', '50k60k', '50m', '50t', '52k', '53k', '55k', '58k', '5am', '5b', '5billion', '5bn', '5byear', '5k', '5m', '5th', '5x', '600m', '6050i', '60k', '60t', '60yr', '62k', '62million', '63k', '65k', '69k', '6b', '6k', '6month', '6th', '70', '70k', '73k', '750k', '760k', '7k', '7min', '7th', '800cc', '840t', '8hitcoin', '8k', '8th', '90', '900btc', '93k', '97k', '98k', '9tb', '9th', '_before_', '_bitcoin', '_how', '_many_', '_more_', '_not_', '_redefine_', '_strongly_', '_ãƒ_', 'aabtc', 'aantonop', 'aantonopshop', 'aav', 'aaverari', 'abandon', 'abarcado', 'abc', 'aberr', 'abid', 'abierta', 'abil', 'abl', 'abolish', 'abou', 'abroad', 'absent', 'absolut', 'absorb', 'abstin', 'abstract', 'absurd', 'absurdli', 'abus', 'academ', 'academi', 'acceler', 'accept', 'access', 'accid', 'accident', 'accommod', 'accomplish', 'accord', 'account', 'accru', 'accumul', 'accur', 'accuraci', 'accus', 'achiev', 'acknowledg', 'acquir', 'acrimoni', 'across', 'acryl', 'act', 'acti', 'action', 'activ', 'activateit', 'activatetaproot', 'activist', 'actor', 'actual', 'ad', 'ada', 'adam', 'add', 'addit', 'addon', 'address', 'adequ', 'adhes', 'adjud', 'adjust', 'administr', 'admir', 'admit', 'adopt', 'adopt21', 'adorn', 'adress', 'adult', 'advanc', 'advantag', 'adventur', 'advers', 'advertis', 'advic', 'advis', 'advoc', 'advocaci', 'aerosol', 'af', 'afaik', 'aff', 'affair', 'affect', 'affili', 'afflict', 'afford', 'afghanistan', 'afraid', 'africa', 'afternoon', 'afterward', 'agam', 'age', 'agenc', 'agenda', 'agent', 'aggreg', 'aggress', 'agil', 'ago', 'agre', 'agreement', 'agri', 'ah', 'aha', 'ahead', 'ai', 'aim', 'aint', 'air', 'airbnb', 'airdrop', 'airlin', 'airplan', 'aka', 'akin', 'al', 'alameda', 'albeit', 'alcohol', 'alert', 'alex', 'algebra', 'algo', 'algorand', 'algorithm', 'alguna', 'alguno', 'alibaba', 'alic', 'alien', 'align', 'aliv', 'alli', 'allianc', 'allo', 'alloc', 'allow', 'allti', 'alltim', 'alltimehigh', 'alltoimport', 'almost', 'alon', 'along', 'alongsid', 'alreadi', 'also', 'alt', 'altbtc', 'altcoin', 'altern', 'although', 'altitud', 'altl1', 'altogeth', 'altseason', 'altsusdt', 'altusdt', 'alway', 'ama', 'amagansett', 'amateur', 'amaz', 'amazingli', 'amazon', 'amc', 'amend', 'america', 'american', 'aml', 'amok', 'among', 'amount', 'amp', 'amplifi', 'amsterdam', 'amus', 'analysi', 'analyz', 'anarchocapitalist', 'anchor', 'ancient', 'ancor', 'anderson', 'andor', 'andrea', 'andrew', 'anemia', 'ang', 'angel', 'anger', 'angri', 'anim', 'ann', 'anna', 'anniversari', 'announc', 'annoy', 'annual', 'annualis', 'anon', 'anonym', 'anoth', 'answer', 'antarctica', 'anthem', 'anthoni', 'anti', 'antialtcoin', 'antibiot', 'anticip', 'anticoin', 'anticrypto', 'antidilut', 'antiethereum', 'antiexfil', 'antifragil', 'antigua', 'antiinflu', 'antist', 'antisybil', 'antitoken', 'antler', 'anto', 'antonopoulo', 'anunciar', 'anxiou', 'anybodi', 'anymor', 'anyon', 'anyonecanspend', 'anyth', 'anythi', 'anytim', 'anyway', 'anywher', 'aok', 'ap', 'apart', 'ape', 'apenft', 'apex', 'aphor', 'api', 'apoelstra', 'apoeltoo', 'apolitica', 'apolog', 'apologist', 'app', 'appar', 'appear', 'appl', 'appli', 'applic', 'appreci', 'approach', 'approv', 'approx', 'approxim', 'apr', 'april', 'aquã', 'arab', 'arb', 'arbitrag', 'arbitrari', 'arbitrum', 'arc', 'arca', 'architect', 'architectur', 'architecturegt', 'archiv', 'arctic', 'area', 'arent', 'aretha', 'argentina', 'argentinian', 'argu', 'arguabl', 'argument', 'aristocraci', 'aristocrat', 'arizona', 'ark', 'arm', 'armi', 'armstrong', 'around', 'arrest', 'arriv', 'art', 'articl', 'articul', 'artifici', 'artisan', 'artist', 'arttimelinesetc', 'asap', 'ascend', 'ascent', 'asia', 'asic', 'asid', 'ask', 'askanythingcep', 'aspect', 'aspir', 'ass', 'assert', 'asset', 'asshol', 'assign', 'assist', 'associ', 'assum', 'assumevalid', 'assur', 'astley', 'astor', 'astrophys', 'asymmetr', 'asymptomat', 'ate', 'ath', 'ath8k', 'atheist', 'atl', 'atm', 'atmospher', 'atom', 'attach', 'attack', 'attacknet', 'attempt', 'attend', 'attende', 'attent', 'attest', 'attitud', 'attorney', 'attract', 'attribut', 'auction', 'audienc', 'audio', 'audiobook', 'audit', 'auditor', 'aug', 'augment', 'august', 'aum', 'australia', 'australian', 'austrian', 'author', 'authoritarian', 'autoglyph', 'autoinvest', 'autom', 'automat', 'autonom', 'autonomi', 'avail', 'aval', 'avalanch', 'avatar', 'avax', 'avenu', 'averag', 'avg', 'aviat', 'avoid', 'await', 'awar', 'award', 'awash', 'away', 'awesom', 'awhil', 'awoken', 'ax', 'axe', 'axel', 'axi', 'ayãºdenm', 'babi', 'back', 'backbon', 'backer', 'background', 'backlash', 'backstop', 'backtest', 'backtoback', 'backtrack', 'backup', 'backward', 'bad', 'badass', 'badger', 'badli', 'bag', 'baghold', 'bah', 'bailout', 'bait', 'baklava', 'balaji', 'balajiseth', 'balanc', 'balanceunbal', 'ball', 'ballot', 'balrog', 'bamboohr', 'bamboozl', 'ban', 'bancornetwork', 'band', 'banga', 'banger', 'banggah', 'bank', 'banker', 'bankmanfri', 'bankrupt', 'bankruptci', 'bankster', 'banner', 'banter', 'bar', 'barbado', 'bare', 'barn', 'barri', 'base', 'base32', 'base58', 'basebal', 'baseless', 'bash', 'basi', 'basic', 'basket', 'bastiat', 'bastion', 'bat', 'batch', 'batteri', 'battl', 'bayc', 'bayesian', 'bb', 'bbbb', 'bbg', 'bbut', 'bc', 'bch', 'bcha', 'bchbsv', 'bchg', 'bd', 'beach', 'beachish', 'beacon', 'bear', 'bearer', 'bearish', 'beat', 'beatdown', 'beauti', 'becam', 'beckham', 'becom', 'bed', 'bedroom', 'beef', 'beefi', 'beer', 'beereth', 'beg', 'began', 'beggar', 'begin', 'begun', 'behalf', 'behav', 'behavior', 'behaviour', 'behind', 'belgium', 'belief', 'believ', 'believethat', 'belittl', 'beliv', 'bell', 'belong', 'belov', 'benchmark', 'benefici', 'benefit', 'benqi', 'bensasson', 'bep', 'bep2', 'bep20', 'berkeley', 'berlin', 'besid', 'best', 'bestofbg', 'bestperform', 'bet', 'beta', 'beth', 'better', 'betterfocu', 'bewar', 'beyond', 'bezo', 'bft', 'bi', 'bia', 'bibl', 'biblic', 'bid', 'biden', 'bifrost', 'big', 'bigblock', 'bigcubebtc', 'bigdawgcryptopodcast', 'bigg', 'bigger', 'biggerb', 'biggest', 'bil', 'bill', 'billboard', 'billion', 'billionair', 'billionbtc', 'binanc', 'binancechain', 'binancecoin', 'binanceforal', 'binancefutur', 'binanceib', 'binancenft', 'binancesmartchain', 'binanceu', 'binari', 'bio', 'bip', 'bip32', 'bip341', 'bip39', 'bip9', 'bipartisan', 'bir', 'birth', 'birthday', 'bit', 'bitamin', 'bitblockboom', 'bitch', 'bitco', 'bitcoin', 'bitcoin2022', 'bitcoinadopt', 'bitcoinand', 'bitcoinback', 'bitcoinband', 'bitcoinbas', 'bitcoinbeach', 'bitcoinbearsindisbelief', 'bitcoinbond', 'bitcoinc', 'bitcoinca', 'bitcoincash', 'bitcoincrypto', 'bitcoinenergi', 'bitcoinfiat', 'bitcoinfixesthi', 'bitcoinfutur', 'bitcoinhack', 'bitcoinhalv', 'bitcoinid', 'bitcoinifi', 'bitcoinlaw', 'bitcoinlibertarian', 'bitcoinlitecoin', 'bitcoinmin', 'bitcoinmost', 'bitcoinmuseum', 'bitcoinnodesandlightningcapac', 'bitcoinon', 'bitcoinonli', 'bitcoinrel', 'bitcoinstandard', 'bitcoinsv', 'bitcointalk', 'bitcoinurban', 'bitcoinweek', 'bitcoinwisdom', 'bitconnect', 'bitfinex', 'bitgo', 'bitmain', 'bitmex', 'bito', 'bitplaza', 'bitrefil', 'bitstamp', 'bittorr', 'biz', 'black', 'blacklist', 'blake', 'blame', 'blatantli', 'bleak', 'bleed', 'bless', 'blew', 'blind', 'blister', 'bloat', 'block', 'blockchain', 'blockchainbas', 'blockchainenforc', 'blockchainissu', 'blockchainvot', 'blockchian', 'blocker', 'blockfi', 'blockrat', 'blocksign', 'blocksiz', 'blockspac', 'blockstream', 'blockstreamjad', 'blockstreamsatellit', 'blockti', 'blog', 'blood', 'bloomberg', 'bloqu', 'blow', 'blown', 'blowoff', 'blue', 'bluebil', 'bmn', 'bnb', 'bni', 'board', 'boat', 'bobbi', 'bodi', 'boe', 'boggl', 'bogu', 'bolling', 'bolshi', 'bolt12', 'bomb', 'bomba', 'bomd', 'bond', 'bone', 'bonker', 'bonu', 'book', 'boom', 'boomdem', 'boomer', 'boost', 'boostagram', 'bootstrap', 'booz', 'border', 'borderless', 'bore', 'born', 'borrow', 'borrowtostack', 'boss', 'bot', 'bother', 'bottom', 'bought', 'bounc', 'boundari', 'boundri', 'bounti', 'bout', 'box', 'boy', 'brad', 'brag', 'bragworthi', 'braidpool', 'braiin', 'brain', 'braindead', 'brainwash', 'brand', 'brandt', 'brave', 'braveri', 'bravo', 'brazenli', 'brazil', 'brazilian', 'breach', 'bread', 'break', 'breakdown', 'breakfast', 'breakout', 'breakthrough', 'breath', 'breed', 'brew', 'brexit', 'brian', 'bridg', 'brief', 'briefli', 'bright', 'brightest', 'brilliant', 'brine', 'bring', 'brink', 'brisket', 'brit', 'britain', 'british', 'bro', 'broadcast', 'broader', 'broadli', 'broch', 'broke', 'broken', 'broker', 'brokerag', 'brooklyn', 'brother', 'brought', 'brown', 'brows', 'browser', 'bruh', 'bruno', 'brutal', 'bs', 'bsc', 'bsv', 'bsver', 'bt', 'btc', 'btcbmn', 'btcc', 'btcchina', 'btcd', 'btcdca', 'btcdomin', 'btce', 'btceth', 'btclike', 'btcln', 'btcmore', 'btcpayserv', 'btcperp', 'btcusd', 'btf', 'btfd', 'btt', 'bttc', 'btw', 'bubbl', 'buck', 'bucket', 'buckl', 'bud', 'budget', 'bueno', 'buffett', 'bug', 'buidl', 'build', 'builder', 'buildout', 'built', 'bukel', 'bulk', 'bull', 'bullbear', 'bulletproofstyl', 'bulliev', 'bullish', 'bullmarket', 'bullporn', 'bullshit', 'bump', 'bumpin', 'bundl', 'bureaucraci', 'bureaucrat', 'burglari', 'burn', 'burst', 'busd', 'busi', 'busin', 'businessmen', 'bust', 'buterin', 'butt', 'butter', 'buy', 'buyer', 'buyhold', 'buysel', 'bword', 'bybit', 'bye', 'bystand', 'c4', 'ca', 'cach', 'caddi', 'cadena', 'cage', 'cake', 'calam', 'calcul', 'caldwel', 'calendar', 'california', 'call', 'caller', 'callou', 'callum', 'calm', 'calvin', 'came', 'camilo', 'camp', 'campaign', 'canada', 'canadian', 'cancel', 'cancelcultur', 'cancoup', 'candac', 'candid', 'candl', 'cannon', 'cannot', 'canola', 'canon', 'cant', 'cantillionair', 'cantillon', 'cap', 'capabl', 'capac', 'capit', 'capita', 'capitalist', 'capitul', 'capm', 'capsiz', 'captain', 'captur', 'car', 'carb', 'carbid', 'carbon', 'carbssugar', 'card', 'cardano', 'cardsani', 'care', 'career', 'carefre', 'caribbean', 'carri', 'carrier', 'cartel', 'cartoon', 'carv', 'casasciu', 'cascad', 'case', 'cash', 'cashflow', 'cashfus', 'cast', 'casual', 'cat', 'catalog', 'catalyst', 'catastroph', 'catch', 'catchal', 'catchi', 'categori', 'cathi', 'caught', 'caus', 'caution', 'cautiou', 'cb', 'cbd', 'cbdc', 'cc', 'ccp', 'cdbc', 'cdc', 'cdrom', 'cdss', 'cdt', 'cede', 'ceil', 'celebdriven', 'celebr', 'cell', 'cement', 'cen', 'censor', 'censorship', 'censorshipresist', 'cent', 'center', 'centerleft', 'centillion', 'central', 'centralis', 'centric', 'centuri', 'ceo', 'ceopunk', 'cep', 'certain', 'certainli', 'certainti', 'certif', 'certifi', 'cesspool', 'cet', 'cftc', 'chain', 'chainalysi', 'chaincheck', 'chaincod', 'chair', 'chairman', 'challeng', 'chamber', 'champaign', 'champion', 'chanc', 'chancellor', 'chang', 'channel', 'chao', 'chapter', 'char', 'charact', 'characterist', 'charg', 'charismat', 'chariti', 'charl', 'charli', 'chart', 'chartslex', 'chat', 'chattrol', 'chaum', 'chaumian', 'cheap', 'cheaper', 'cheapest', 'cheat', 'check', 'checker', 'checkout', 'checksum', 'cheer', 'cheerlead', 'chemistri', 'cherri', 'chest', 'chevron', 'chief', 'child', 'children', 'chill', 'chillgo', 'china', 'chines', 'chinesecontrol', 'chivo', 'choic', 'choo', 'choos', 'chose', 'christian', 'christin', 'christma', 'chromi', 'chuckl', 'chunk', 'church', 'cierr', 'cinema', 'cineworld', 'circl', 'circul', 'circular', 'circumv', 'circus', 'citadel', 'cite', 'citi', 'citizen', 'citizenship', 'civil', 'civiliz', 'cix', 'cj', 'cl', 'claim', 'clam', 'clarifi', 'clariti', 'class', 'classic', 'classifi', 'cle', 'clean', 'cleaner', 'cleanup', 'clear', 'clearer', 'clearli', 'clevel', 'clever', 'click', 'client', 'clientserv', 'clientsid', 'cliff', 'cliffhang', 'clightn', 'climat', 'climb', 'cling', 'clinic', 'clinton', 'clip', 'clock', 'clockwork', 'clog', 'clone', 'close', 'closer', 'closur', 'cloth', 'cloud', 'clowncorn', 'clownlevel', 'clue', 'cluster', 'cme', 'cmon', 'cnbc', 'cni', 'cnn', 'co', 'coal', 'coalfac', 'coauthor', 'coceo', 'cochair', 'code', 'codebas', 'coder', 'codersdevelop', 'coerc', 'coercion', 'coffe', 'coffeesurfbitcoin', 'cofound', 'coher', 'cohort', 'coin', 'coinbas', 'coinbasespecif', 'coincid', 'coindesk', 'coinflip', 'coinjoin', 'coino', 'cointelegraph', 'colaborando', 'cold', 'coldcard', 'coldstorag', 'collab', 'collabor', 'collaps', 'collater', 'collateralis', 'colleagu', 'collect', 'collector', 'colombia', 'colon', 'coloni', 'color', 'colorado', 'columbu', 'com', 'combin', 'combo', 'come', 'comer', 'comfi', 'comfier', 'comfort', 'commenc', 'comment', 'commentari', 'commerc', 'commerci', 'commiss', 'commit', 'committe', 'commod', 'common', 'commonli', 'commun', 'communicationunderstand', 'communityl', 'como', 'comp', 'compa', 'compact', 'compani', 'companion', 'compar', 'comparison', 'compassion', 'compat', 'compel', 'compens', 'compet', 'competit', 'competitio', 'competitor', 'compil', 'complain', 'complement', 'complet', 'complex', 'complianc', 'compliant', 'complic', 'compliment', 'compon', 'compos', 'compound', 'compromis', 'compsci', 'comput', 'comunidad', 'con', 'conceiv', 'concentr', 'concept', 'conceptu', 'concern', 'concessio', 'concierg', 'concret', 'concur', 'condens', 'condit', 'conf', 'confer', 'conferencia', 'conferencista', 'confid', 'confidenti', 'confirm', 'confirmado', 'confirmationthen', 'confisc', 'conflagr', 'conflat', 'conflict', 'conform', 'conformist', 'confront', 'confus', 'congest', 'congo', 'congrat', 'congratul', 'congress', 'congressman', 'congressmen', 'conmigo', 'connect', 'consciou', 'consecut', 'consensu', 'consensuslay', 'consent', 'consequ', 'conserv', 'conservationist', 'consid', 'consider', 'consist', 'consol', 'consolid', 'conspiraci', 'constant', 'constantli', 'constel', 'constitut', 'constraint', 'construct', 'consum', 'consumpt', 'contact', 'contagi', 'contagion', 'contain', 'contango', 'contemporan', 'contemptu', 'contend', 'content', 'contenti', 'contest', 'context', 'continu', 'contour', 'contra', 'contract', 'contractor', 'contractssit', 'contradict', 'contrari', 'contrast', 'contribut', 'contributor', 'control', 'controversi', 'conundrum', 'convent', 'convers', 'convert', 'convict', 'convinc', 'convo', 'coo', 'cook', 'cooki', 'cool', 'coopt', 'coordin', 'cop', 'cope', 'copi', 'copper', 'copyabl', 'copyright', 'core', 'core2', 'corner', 'corp', 'corpor', 'correct', 'correctli', 'correl', 'correspond', 'corrupt', 'cosmet', 'cosmo', 'cosmonaut', 'cosmostendermint', 'cost', 'costprohibit', 'costum', 'could', 'couldnt', 'couldv', 'council', 'count', 'countdown', 'counter', 'counterexampl', 'counterparti', 'countri', 'coup', 'coupl', 'coupon', 'courag', 'cours', 'coursethi', 'court', 'courtesi', 'coven', 'cover', 'coverag', 'covid', 'covid19', 'covid2019', 'coward', 'cozi', 'coâ', 'cp', 'cpu', 'cr', 'crack', 'crackdown', 'crackpot', 'craft', 'craig', 'crap', 'crappi', 'crash', 'craze', 'crazi', 'crazyhigh', 'creat', 'creation', 'creativ', 'creator', 'creatorsand', 'credenti', 'credibl', 'credit', 'creditor', 'credlib', 'cri', 'cricket', 'crime', 'crimin', 'cring', 'cringey', 'crippl', 'cripto', 'crisi', 'criteria', 'criterion', 'critic', 'criticis', 'critters', 'croni', 'crono', 'crook', 'cross', 'crosschain', 'crowd', 'crown', 'crude', 'cruis', 'crush', 'cryptanalit', 'crypto', 'cryptoasset', 'cryptocur', 'cryptocurr', 'cryptocurrenc', 'cryptocurrencyrel', 'cryptograph', 'cryptographi', 'cryptomod', 'cryptonetwork', 'cryptonew', 'cryptonot', 'cryptopunk', 'cryptotrad', 'cryptowallet', 'cs', 'cso', 'csw', 'ct', 'cto', 'ctosu', 'cu', 'cuba', 'cuck', 'cue', 'cuff', 'cult', 'cultur', 'cuma', 'cumul', 'cup', 'curat', 'curiou', 'currenc', 'current', 'curriculum', 'curs', 'cursori', 'curv', 'cusp', 'custodi', 'custodian', 'custom', 'cut', 'cuter', 'cwar', 'cwarbtc', 'cwarusdt', 'cya', 'cyan', 'cybermonday', 'cyborg', 'cycl', 'cynic', 'cypherpunk', 'cypru', 'cz', 'cã³digo', 'dafi', 'dai', 'daili', 'dalio', 'damag', 'damien', 'damn', 'dan', 'danc', 'danger', 'dao', 'daoemploy', 'dapp', 'darkpool', 'darl', 'darren', 'dash', 'dashboard', 'data', 'dataavailabilitybas', 'databas', 'datacent', 'dataset', 'date', 'daunt', 'davi', 'david', 'day', 'daytoday', 'db', 'dbridg', 'dca', 'dcr', 'dcrasic', 'ddont', 'de', 'dead', 'deadli', 'deadlin', 'deal', 'dealer', 'dear', 'death', 'debas', 'debat', 'debit', 'debt', 'debtbas', 'debtgdp', 'debunk', 'debut', 'dec', 'decad', 'decay', 'decemb', 'decen', 'decent', 'decentr', 'decentralis', 'decept', 'decid', 'decim', 'decis', 'decisiontim', 'decivil', 'deck', 'decker', 'declar', 'declin', 'decoupl', 'decr', 'dedinero', 'deduct', 'deep', 'deeper', 'deepli', 'def', 'defacto', 'default', 'defeat', 'defend', 'defens', 'defer', 'defi', 'deficit', 'defin', 'definit', 'defiperp', 'deflat', 'deflationari', 'degen', 'degre', 'deja', 'del', 'delay', 'delenda', 'delet', 'deliarwd', 'delight', 'delist', 'deliv', 'deliver', 'deliveri', 'dell', 'delta', 'delus', 'delusion', 'demand', 'demeest', 'democid', 'democraci', 'democrat', 'demograph', 'demon', 'demonet', 'demonin', 'demonstr', 'demora', 'deni', 'denial', 'denialofserv', 'denomin', 'dentacoin', 'depart', 'depend', 'depict', 'deploy', 'deposit', 'depress', 'depth', 'derang', 'deriv', 'desc', 'descend', 'describ', 'descript', 'descubr', 'desert', 'deserv', 'deservedli', 'design', 'designstructur', 'desir', 'desk', 'desktop', 'despair', 'desper', 'despit', 'destabil', 'destroy', 'destruct', 'detail', 'detect', 'deter', 'determin', 'determinist', 'deuda', 'deutsch', 'dev', 'devalu', 'devcon', 'develop', 'deviat', 'devic', 'devil', 'devnet', 'devoid', 'devot', 'dex', 'di', 'diabol', 'dial', 'dialect', 'diamond', 'dicen', 'dickish', 'dictat', 'didnt', 'die', 'diem', 'diet', 'dif', 'diff', 'differ', 'differenti', 'difficult', 'difficulti', 'difundir', 'digest', 'digiconomist', 'digieuro', 'digiphys', 'digit', 'digitalasset', 'dilemmaand', 'dilut', 'dime', 'dimens', 'diminish', 'dimon', 'dinheiro', 'dinner', 'dino', 'dinofi', 'dinosaur', 'dip', 'diplomaci', 'direct', 'directli', 'director', 'directv', 'dirt', 'disagr', 'disagre', 'disappear', 'disarray', 'disast', 'disastr', 'disc', 'discipl', 'disclos', 'disclosur', 'discomfort', 'discord', 'discordlikeshould', 'discount', 'discours', 'discov', 'discoveri', 'discredit', 'discreetli', 'discuss', 'diseas', 'disenfranchis', 'disguis', 'disgust', 'dish', 'dishonest', 'disinfo', 'disinform', 'disingenu', 'disintermedi', 'disk', 'dismiss', 'display', 'dispon', 'disproof', 'disprov', 'disput', 'disrespect', 'disrupt', 'disruptionhavoc', 'dissect', 'dissent', 'dissid', 'distanc', 'distinct', 'distinguish', 'distort', 'distract', 'distribu', 'distribut', 'ditch', 'div', 'dive', 'divedao', 'diverg', 'divers', 'diversif', 'diversifi', 'divert', 'divest', 'divid', 'dividend', 'divis', 'diworsifi', 'dixon', 'dlc', 'dm', 'doc', 'doctor', 'document', 'documentari', 'dodont', 'doesnt', 'dog', 'doge', 'dogecoin', 'dogeortesla', 'dogmat', 'doin', 'doj', 'dollar', 'domain', 'domin', 'dominican', 'domino', 'donat', 'done', 'dont', 'dontsellyoursol', 'doom', 'door', 'dor', 'dorahack', 'dorsey', 'dot', 'doubl', 'doublespend', 'doubt', 'doug', 'dow', 'downgrad', 'download', 'downsid', 'downsiz', 'downtim', 'downtrend', 'downward', 'dox', 'dozen', 'draconian', 'draft', 'drag', 'drain', 'drake', 'drama', 'dramat', 'draw', 'drawback', 'drawdown', 'dream', 'drew', 'dri', 'drier', 'drill', 'drink', 'drive', 'driven', 'driver', 'drmfree', 'drone', 'drop', 'dror', 'drove', 'drug', 'drumrol', 'dryer', 'dsl', 'du', 'dubai', 'dubiou', 'duck', 'dude', 'due', 'dug', 'duhbuh', 'duke', 'dumb', 'dumbest', 'dump', 'dunk', 'dunno', 'durabl', 'durant', 'durat', 'dust', 'dutch', 'duti', 'dutroux', 'dw', 'dwarf', 'dx_f', 'dxdi', 'dxi', 'dynam', 'dyor', 'e1781', 'e2e', 'e724', 'ea', 'eagerli', 'earli', 'earlier', 'earn', 'earth', 'earther', 'eas', 'easi', 'easier', 'easiest', 'easili', 'eastern', 'eat', 'ebook', 'ecash', 'ecashcredenti', 'echo', 'eclips', 'ecolog', 'ecommerc', 'econ', 'econom', 'economi', 'economist', 'ecosystem', 'edatv', 'edg', 'edit', 'edt', 'educ', 'educatio', 'eea', 'ef', 'eff', 'effect', 'effici', 'efficientsecur', 'effort', 'effortsvalu', 'eg', 'egg', 'egld', 'egocentr', 'eh', 'ehrsam', 'eigenvalu', 'eight', 'einstein', 'eip', 'eip1559', 'either', 'el', 'elabor', 'elaps', 'elect', 'electr', 'electron', 'element', 'elementari', 'eli', 'elig', 'elissabeth', 'elit', 'elitecoin', 'ellig', 'ellipsoid', 'ello', 'elon', 'elrond', 'els', 'elsalvador', 'elsewher', 'elzont', 'em', 'ema', 'ema20', 'ema200', 'email', 'embarass', 'embark', 'embarrass', 'embed', 'embodi', 'embrac', 'emerg', 'emiss', 'emit', 'emmer', 'emoji', 'emot', 'emperor', 'empir', 'empl', 'employ', 'employe', 'empow', 'empower', 'empti', 'en', 'enabl', 'encantado', 'encod', 'encount', 'encourag', 'end', 'endgam', 'endless', 'endload', 'endorphin', 'endors', 'endow', 'endur', 'enemi', 'ener', 'energi', 'enforc', 'engag', 'engin', 'england', 'english', 'engulf', 'enhanc', 'enjoy', 'enlighten', 'enough', 'enslav', 'ensu', 'ensur', 'enter', 'enterpris', 'entertain', 'enthusiasm', 'enthusiast', 'entir', 'entiti', 'entitl', 'entr', 'entrepreneur', 'entrepreneurship', 'entrevista', 'entri', 'entropi', 'envelop', 'enviro', 'environ', 'environment', 'environmentalist', 'envis', 'eo', 'eoy', 'ep', 'epic', 'epidemiologist', 'episod', 'epistem', 'epoch', 'epstein', 'epub', 'equal', 'equat', 'equilibrium', 'equiti', 'equival', 'er', 'era', 'erc', 'erc20', 'erdogan', 'erigon', 'eritrea', 'errata', 'error', 'erupt', 'es', 'escal', 'escap', 'escenario', 'escort', 'esg', 'esp', 'espaãol', 'especi', 'espous', 'espresso', 'essay', 'essenti', 'est', 'establish', 'estado', 'estat', 'estim', 'esto', 'estonia', 'estoy', 'estã', 'et', 'etc', 'etceth', 'etcg', 'etern', 'etf', 'etfboom', 'etfyet', 'eth', 'eth1', 'eth2', 'ethan', 'ethbtc', 'ether', 'etheream', 'etherean', 'ethereelum', 'ethereu', 'ethereum', 'ethereumbas', 'ethereumeip', 'etherscan', 'etheruem', 'ethhead', 'ethic', 'ethiopia', 'ethiopian', 'ethmin', 'ethnic', 'etho', 'ethstabl', 'ethusd', 'etp', 'eu', 'euphor', 'euphoria', 'eur', 'eurbmn', 'eurmo', 'euro', 'europ', 'eutelsat', 'euthan', 'ev', 'evad', 'evangel', 'even', 'evenli', 'event', 'eventu', 'ever', 'evergrand', 'evergreen', 'everi', 'everybodi', 'everyday', 'everyon', 'everyoneanyon', 'everyth', 'everythingfor', 'everytim', 'everywher', 'evid', 'evil', 'evm', 'evolut', 'evolv', 'evr', 'exact', 'exactli', 'exagger', 'exam', 'examin', 'exampl', 'exceed', 'excel', 'except', 'excerpt', 'excess', 'exch', 'exchang', 'exchangetrad', 'excit', 'excl', 'exclud', 'exclus', 'excus', 'execut', 'exempl', 'exempt', 'exercis', 'exhaust', 'exhibit', 'exist', 'existenti', 'exit', 'exodu', 'exp', 'expand', 'expans', 'expatri', 'expect', 'expens', 'experi', 'experien', 'experienc', 'experienti', 'experiment', 'expert', 'expir', 'expiri', 'expla', 'explain', 'explan', 'explanationinpictur', 'explicit', 'explicitli', 'explod', 'exploit', 'explor', 'exponenti', 'expos', 'exposur', 'express', 'expresso', 'exta', 'extend', 'extens', 'extort', 'extra', 'extract', 'extraregulatori', 'extrem', 'eye', 'eyebal', 'eyelid', 'eyemaximalist', 'fabl', 'face', 'facebook', 'facebooketh', 'facemask', 'facepalm', 'facial', 'facilit', 'fact', 'faction', 'facto', 'factor', 'factual', 'fad', 'fade', 'fail', 'failur', 'fair', 'fairer', 'fairest', 'fairli', 'fairweath', 'faith', 'fake', 'falisifi', 'fall', 'fallaci', 'fallen', 'fals', 'falsifi', 'fam', 'fame', 'famili', 'familiar', 'famou', 'fan', 'fanbas', 'fanci', 'fantasi', 'fantast', 'fantom', 'far', 'faraway', 'farm', 'fascin', 'fascist', 'fast', 'fasten', 'faster', 'fastest', 'fat', 'fatal', 'father', 'faucet', 'fault', 'favor', 'favorit', 'favour', 'favourit', 'fax', 'fbb', 'fbi', 'fck', 'fcking', 'fda', 'fdic', 'fear', 'featur', 'feb', 'februari', 'fed', 'feder', 'federalreserv', 'fedwir', 'fee', 'feed', 'feedback', 'feel', 'feelthebit', 'feet', 'feifox', 'fell', 'fellow', 'felt', 'femal', 'fest', 'festiv', 'fewer', 'fiancã', 'fiat', 'fiataltcoin', 'fiatif', 'fibonacci', 'fiction', 'fidel', 'fiduciari', 'field', 'fierc', 'fifth', 'fight', 'figur', 'file', 'filecoin', 'fill', 'film', 'filmmak', 'filter', 'fin', 'final', 'finalment', 'financ', 'financi', 'financingmor', 'find', 'fine', 'finex', 'fing', 'finger', 'finish', 'finit', 'fintech', 'fir', 'fire', 'firefight', 'firm', 'firmli', 'firmwar', 'firmwid', 'first', 'firstev', 'firstli', 'fiscal', 'fish', 'fit', 'five', 'fix', 'fjord', 'flag', 'flagship', 'flare', 'flash', 'flashback', 'flat', 'flavor', 'flaw', 'flexibl', 'flexusd', 'fli', 'flight', 'flip', 'flippant', 'flippen', 'flirt', 'float', 'flock', 'flood', 'floor', 'florida', 'flourish', 'flow', 'flower', 'floyd', 'fltx', 'fluctuat', 'fluffi', 'fluid', 'flunk', 'flush', 'fo', 'focu', 'focus', 'fold', 'folder', 'folk', 'follow', 'fomo', 'food', 'fool', 'foolish', 'footag', 'footbal', 'footprint', 'forb', 'forc', 'ford', 'forebod', 'forecast', 'forecastsit', 'foreign', 'forese', 'foresight', 'forev', 'forex', 'forg', 'forget', 'forgot', 'forgotten', 'fork', 'form', 'forma', 'formal', 'formar', 'format', 'former', 'formul', 'formula', 'fort', 'fortun', 'forward', 'foto', 'fought', 'found', 'foundat', 'founder', 'foundri', 'four', 'fourmodul', 'fourth', 'fox', 'foxeth', 'foxrun', 'fr', 'fractal', 'fraction', 'fractionalreserv', 'fragil', 'frail', 'frame', 'franci', 'frank', 'frankli', 'fraud', 'fray', 'freak', 'fred', 'free', 'freedom', 'freedommind', 'freeli', 'freemarket', 'freer', 'freeross', 'freespeech', 'freez', 'french', 'frenzi', 'frequenc', 'frequent', 'fresh', 'friday', 'fridaymonday', 'friend', 'friendli', 'friendship', 'friendsit', 'fring', 'frodo', 'fromthearch', 'front', 'frontend', 'frontier', 'frontload', 'frontrun', 'fruit', 'frustrat', 'ftcoin', 'ftm', 'ftx', 'fu', 'fuck', 'fuckin', 'fud', 'fuel', 'fulcrum', 'fulfil', 'full', 'fulli', 'fun', 'function', 'functionari', 'fund', 'fundament', 'fundi', 'fundrais', 'funghi', 'fungibl', 'funki', 'funni', 'fup', 'further', 'futil', 'futur', 'futurebit', 'futuresbas', 'fwiw', 'fx', 'ga', 'gag', 'gain', 'gala', 'galaxi', 'gallon', 'gallop', 'gambl', 'game', 'gamefi', 'gamestonk', 'gamestop', 'gandalf', 'gang', 'gap', 'garbag', 'gaslight', 'gate', 'gatekeep', 'gateway', 'gather', 'gattaca', 'gave', 'gavin', 'gb', 'gbtc', 'gc_f', 'gd', 'gdax', 'gdp', 'ge', 'gener', 'genesi', 'genet', 'geniu', 'gensler', 'genslersec', 'gentlemen', 'genuin', 'genz', 'geograph', 'geometr', 'georg', 'geotherm', 'gere', 'german', 'germani', 'gestur', 'get', 'gfx', 'gg', 'gh', 'giabo', 'giant', 'giddi', 'gift', 'gigachad', 'gigant', 'girlfriend', 'github', 'giustra', 'give', 'givebtc', 'given', 'giveth', 'glad', 'gladli', 'glanc', 'glass', 'glassnod', 'glimmer', 'glitch', 'glo', 'gloat', 'glob', 'global', 'globant', 'globe', 'glorious', 'glove', 'glu', 'glue', 'glut', 'glxi', 'gm', 'gmaxwel', 'gme', 'gmi', 'gmt', 'go', 'goa', 'goal', 'goalpost', 'goat', 'gocrypto', 'god', 'godaddi', 'godelqu', 'goe', 'goge', 'golang', 'gold', 'golden', 'goldman', 'gone', 'gonna', 'good', 'goodol', 'googl', 'goosebump', 'gorgeou', 'gospel', 'got', 'gotcha', 'gotta', 'gotten', 'goug', 'gov', 'govern', 'governmentrun', 'govt', 'gox', 'gpt3alphazerolik', 'gpu', 'gpubas', 'gracia', 'gradual', 'grain', 'grand', 'grandma', 'grant', 'graph', 'grass', 'grassroot', 'grate', 'grati', 'gratitud', 'gratuita', 'graven', 'graviti', 'grayscal', 'great', 'greater', 'greatest', 'greatli', 'greec', 'greedi', 'green', 'greenest', 'greenlight', 'greenlit', 'grew', 'grid', 'grip', 'gripe', 'groan', 'groceri', 'grou', 'ground', 'group', 'groupthink', 'grow', 'grown', 'growth', 'grubhungri', 'gt', 'gtfo', 'gtgt', 'gtvaluabl', 'guadeloup', 'guarante', 'guess', 'guesstim', 'guest', 'guid', 'guidanc', 'gumsho', 'gun', 'guy', 'gym', 'gymnast', 'gãrã¼åÿm', 'gã¼nã¼', 'gã¼zel', 'ha', 'haberl', 'habla', 'hack', 'hackloss', 'hadnt', 'hah', 'half', 'halfpivot', 'haliburton', 'halo', 'halv', 'hammer', 'hamp', 'han', 'hand', 'handcuf', 'handl', 'handpaint', 'handwavi', 'hang', 'hank', 'happen', 'happeningbitcoin', 'happi', 'happyhalloween', 'happynewyear2020', 'har', 'harar', 'hard', 'hardcov', 'harder', 'hardest', 'hardfork', 'hardli', 'hardwar', 'harm', 'harrison', 'hash', 'hashcash', 'hashpow', 'hashrat', 'hashtag', 'hasnt', 'hastili', 'hate', 'hater', 'hatespeech', 'hatr', 'hav', 'havent', 'hawk', 'hazard', 'hd', 'he', 'head', 'headach', 'header', 'headlin', 'headquart', 'heal', 'health', 'healthi', 'healthier', 'hear', 'heard', 'heart', 'heartbeat', 'hearti', 'heat', 'heavi', 'heavili', 'heck', 'hed', 'hedg', 'heel', 'heir', 'hel', 'held', 'hell', 'hello', 'help', 'hemo', 'henc', 'here', 'herewith', 'hermitag', 'hero', 'hesit', 'heterogen', 'heurist', 'hex', 'hexachlorithingi', 'hey', 'hf', 'hf1', 'hfsp', 'hi', 'hidden', 'hide', 'hierarch', 'hierarchi', 'high', 'higher', 'highest', 'highjack', 'highli', 'highlight', 'highperform', 'highprofil', 'hijack', 'hilarant', 'hilari', 'hill', 'hillari', 'hindsight', 'hire', 'hirst', 'hispana', 'histor', 'histori', 'hit', 'hivemind', 'hk', 'hmm', 'hmmm', 'hn', 'hoax', 'hobbl', 'hobbyist', 'hodl', 'hodler', 'hodloevski', 'hola', 'hold', 'holder', 'hole', 'holi', 'holiday', 'holiday21', 'hollywood', 'home', 'homeless', 'homeschool', 'homi', 'honest', 'honestli', 'honey', 'honeypot', 'honor', 'honour', 'hood', 'hoodi', 'hook', 'hope', 'hopeless', 'hopelessli', 'horizon', 'horribl', 'horrifi', 'horror', 'hors', 'hose', 'hospit', 'host', 'hostil', 'hot', 'hotel', 'hotli', 'hottest', 'hou', 'hour', 'hourli', 'hous', 'household', 'hover', 'howev', 'howl', 'howto', 'hoy', 'hr', 'hsm', 'ht', 'htt', 'http', 'huawei', 'hub', 'hubri', 'huddl', 'huge', 'huh', 'hulkwork', 'human', 'humbl', 'hunch', 'hundr', 'hundredsofyearsold', 'hunt', 'hurdl', 'hurl', 'hurrican', 'hurt', 'hustl', 'hww', 'hybrid', 'hydro', 'hyip', 'hype', 'hyperbitcoin', 'hyperbol', 'hyperinfl', 'hyperinflationari', 'hypocrisi', 'hzen', 'ib', 'ibc', 'icaru', 'iceberg', 'ico', 'icymi', 'icymileapfrog', 'id', 'idea', 'ideal', 'ideasfor', 'ident', 'identifi', 'ideolog', 'idioci', 'idiocraci', 'idiot', 'idk', 'idolis', 'ie', 'ieow', 'ifonc', 'ifwhen', 'ignor', 'igo', 'ii', 'ikb', 'ile', 'ilimitado', 'ill', 'illeg', 'illicit', 'illiquid', 'illiter', 'illustr', 'im', 'imag', 'imagey', 'imagin', 'imagineth', 'imf', 'imho', 'imit', 'imm', 'immedi', 'immens', 'immigr', 'immin', 'immun', 'immut', 'imo', 'impact', 'imparti', 'impati', 'impend', 'imperi', 'imperson', 'implement', 'impli', 'implic', 'implicit', 'implicitli', 'implod', 'import', 'imposs', 'impresiã³n', 'impress', 'imprison', 'improp', 'improv', 'impuls', 'inabl', 'inaccur', 'inact', 'inapp', 'inb4', 'inbound', 'inbox', 'inc', 'incarcer', 'incent', 'incentiv', 'incentivis', 'incept', 'incess', 'incl', 'inclin', 'includ', 'includin', 'inclus', 'incom', 'incompat', 'incompet', 'incongru', 'inconsist', 'inconveni', 'inconvenienc', 'incorpor', 'incorrect', 'increas', 'increasingli', 'incred', 'increment', 'incumb', 'ind', 'inde', 'indefinit', 'independ', 'index', 'indi', 'india', 'indian', 'indic', 'indirect', 'indistinguish', 'individu', 'indoor', 'induc', 'industri', 'inevit', 'inexpens', 'infanc', 'infect', 'infin', 'infinit', 'inflat', 'inflationari', 'inflow', 'influenc', 'influenti', 'influx', 'info', 'infoann', 'inform', 'infra', 'infrastructur', 'infuri', 'ingam', 'inher', 'inherit', 'inheritanceplan', 'initi', 'inject', 'injustic', 'inlin', 'inlineon', 'innat', 'inner', 'innoc', 'innov', 'innovaciã³n', 'input', 'insan', 'insecur', 'insert', 'insid', 'insidethemechan', 'insight', 'insignific', 'insolv', 'inspir', 'instacart', 'instagram', 'instanc', 'instant', 'instantli', 'instead', 'institut', 'institution', 'institutionalgrad', 'instruct', 'instrum', 'instrument', 'insult', 'insur', 'insurrect', 'int', 'integr', 'intel', 'intellectu', 'intellig', 'intend', 'intens', 'intensifi', 'intent', 'inter', 'interact', 'interest', 'interestearn', 'interfac', 'interfer', 'interject', 'intermediari', 'intern', 'interna', 'internet', 'interop', 'interoper', 'interoperabilitycompos', 'interplay', 'interrupt', 'interstellar', 'interv', 'interven', 'intervent', 'interview', 'intim', 'intranet', 'intrins', 'intro', 'introduc', 'introduct', 'introductori', 'intuit', 'inur', 'invad', 'invalid', 'invas', 'invent', 'invers', 'inversebart', 'invesco', 'invescogalaxi', 'invest', 'investig', 'investmentss', 'investor', 'investortrad', 'invit', 'invitado', 'invoic', 'involv', 'io', 'iocoin', 'ion', 'iota', 'iou', 'iphon', 'ipo', 'iq', 'ir', 'iran', 'iren', 'ireport', 'irl', 'iron', 'ironi', 'irr', 'irrelev', 'irrevoc', 'ish', 'isnt', 'isol', 'issu', 'issuanc', 'issuer', 'istanbul', 'itali', 'itch', 'itd', 'iter', 'itll', 'ivan', 'ive', 'ixcoin', 'iyi', 'jab', 'jabe', 'jack', 'jackson', 'jacob', 'jade', 'jail', 'jam', 'jami', 'jan', 'januari', 'japan', 'jargon', 'jasmin', 'jb', 'jealous', 'jeff', 'jeje', 'jerom', 'jersey', 'jest', 'jet', 'jewelri', 'jihan', 'jimmi', 'jinx', 'job', 'jobsel', 'joe', 'john', 'join', 'joke', 'jone', 'jose', 'josh', 'jour', 'journal', 'journalist', 'journey', 'journo', 'joy', 'jpeg', 'jpi', 'jpmorgan', 'jr', 'js', 'jst', 'jud', 'judg', 'judgement', 'juici', 'juicier', 'jule', 'juli', 'jump', 'june', 'jure', 'juri', 'jurisdict', 'juror', 'justifi', 'justin', 'juxtapos', 'kane', 'karpelã', 'kasta', 'kcomposit', 'keep', 'kei', 'keiser', 'keiserreport', 'keith', 'kek', 'kelli', 'kept', 'kevbro', 'key', 'kfactor', 'khazaddãm', 'kick', 'kicker', 'kickstart', 'kickstarterlik', 'kid', 'kidnap', 'kill', 'killer', 'killeralt', 'killerw', 'kind', 'kindli', 'king', 'kiosk', 'kiss', 'kit', 'kneel', 'knew', 'knive', 'kno', 'knock', 'know', 'knowledg', 'known', 'kodriä', 'koolaid', 'korea', 'korean', 'kraken', 'kroger', 'krolu', 'krugman', 'kucoin', 'kucoinsp', 'kudo', 'kumo', 'kyc', 'kycd', 'l1', 'l2', 'la', 'lab', 'label', 'labitconf', 'labor', 'lack', 'ladder', 'lag', 'lagard', 'laid', 'lambo', 'lamp', 'land', 'landscap', 'languag', 'larg', 'larger', 'largest', 'laser', 'laserey', 'last', 'lastli', 'latam', 'latam10', 'late', 'latebutloud', 'later', 'latest', 'latin', 'latinum', 'latter', 'laud', 'laugh', 'laughabl', 'launch', 'launchpad', 'launchpool', 'law', 'lawsuit', 'lawsuitenforc', 'lawyer', 'lay', 'layer', 'layer1', 'layer2', 'lazi', 'lazio', 'lb', 'lbtc', 'lead', 'leader', 'leadership', 'leak', 'lean', 'leap', 'learn', 'least', 'leather', 'leav', 'lebanon', 'led', 'ledger', 'lee', 'leech', 'left', 'leg', 'legaci', 'legal', 'legend', 'legislatur', 'legit', 'legitim', 'legitimaci', 'legitimis', 'lego', 'len', 'lender', 'length', 'leprechaun', 'less', 'lesson', 'let', 'letdown', 'lethal', 'letter', 'level', 'leveldb', 'lever', 'leverag', 'levit', 'lfg', 'li', 'liabil', 'libbitcoin', 'libertarian', 'liberti', 'libr', 'libra', 'librari', 'licens', 'lie', 'life', 'lifeboat', 'lifesav', 'lifethreaten', 'lifetim', 'lift', 'light', 'lighter', 'lighthous', 'lightli', 'lightn', 'lightningnetwork', 'lik', 'like', 'likekind', 'likewould', 'limit', 'lincoln', 'line', 'lineup', 'lingo', 'link', 'linkbtc', 'linker', 'lion', 'liqui', 'liquid', 'liquidonli', 'lira', 'list', 'listen', 'lit', 'litcoin', 'lite', 'litec', 'litecoin', 'litecoin10', 'litecoinfam', 'liter', 'literaci', 'literali', 'litter', 'littl', 'liv', 'live', 'livep', 'livestream', 'lmao', 'ln', 'lnconf', 'lnurl', 'lo', 'load', 'loan', 'lobbi', 'local', 'localbitcoincash', 'localis', 'locat', 'lock', 'lockdown', 'lockedin', 'lockin', 'lockup', 'log', 'logic', 'logicallyeth', 'logo', 'logterm', 'lol', 'london', 'lone', 'long', 'longawait', 'longer', 'longerterm', 'longestchain', 'longestserv', 'longev', 'longoverdu', 'longterm', 'look', 'lookup', 'loom', 'loop', 'loopr', 'loos', 'lose', 'loser', 'loss', 'lost', 'lot', 'lotteri', 'lottomax', 'loud', 'louder', 'loudmouth', 'love', 'low', 'lowcost', 'lower', 'lowest', 'lowhigh', 'lp', 'lpt', 'lrc', 'lt', 'lt1week', 'ltc', 'ltcbtc', 'ltcusd', 'ltessay', 'ltgt', 'ltinsert', 'luck', 'lucki', 'luckier', 'luckili', 'lui', 'lumberjack', 'lumen', 'lummi', 'lump', 'luna', 'lunch', 'lung', 'lusdt', 'luxembourg', 'luxuri', 'lyric', 'm2', 'ma', 'macd', 'machin', 'macro', 'mad', 'made', 'madrid', 'magazin', 'magic', 'magnetswhat', 'magnitud', 'mail', 'main', 'mainbtcchain', 'mainchain', 'mainli', 'mainnet', 'mainstream', 'maintain', 'mainten', 'major', 'mak', 'make', 'maker', 'makeraavecompound', 'maketh', 'malinvest', 'malleabl', 'malta', 'man', 'mana', 'manag', 'mancrush', 'mandat', 'mandatori', 'mani', 'mania', 'manifest', 'manipul', 'mankind', 'manner', 'manslaught', 'manu', 'manual', 'manufactur', 'manuscript', 'map', 'mar', 'marbl', 'march', 'marcu', 'margin', 'mark', 'marker', 'market', 'marketcap', 'marketplac', 'marshmallow', 'mask', 'mass', 'massiv', 'master', 'mastercard', 'masteringethereum', 'mastodon', 'match', 'materi', 'math', 'mathemat', 'mathematician', 'mathlet', 'matrix', 'matt', 'matter', 'matur', 'max', 'maxi', 'maxim', 'maximalist', 'maximum', 'maxstaci', 'may', 'mayb', 'mayor', 'mayweath', 'mb', 'mcarthur', 'mccullough', 'mcdonald', 'mea', 'meal', 'mean', 'meaning', 'meaningless', 'meant', 'meantim', 'meanwhil', 'measur', 'meat', 'mecha', 'mechan', 'mechanismdesign', 'media', 'median', 'mediango', 'medic', 'medicin', 'mediocr', 'medit', 'medium', 'meet', 'meetup', 'mega', 'megabyt', 'megamillion', 'megaupload', 'megawatt', 'meh', 'melbourn', 'mellon', 'melt', 'meltup', 'member', 'membran', 'meme', 'memo', 'memori', 'mempool', 'men', 'mensaj', 'mental', 'mention', 'meow', 'mercado', 'mercenari', 'merch', 'merchant', 'merci', 'mere', 'merg', 'merit', 'merkleproof', 'merri', 'mess', 'messag', 'messi', 'met', 'meta', 'metakovan', 'metal', 'metallurgi', 'metamask', 'metaphor', 'metavers', 'metcalf', 'metha', 'method', 'methodolog', 'metric', 'mev', 'mexican', 'mexico', 'mfa', 'mi', 'miami', 'mic', 'michael', 'micre', 'micro', 'microsoft', 'microstrategi', 'mid', 'mida', 'midbullcycl', 'middl', 'middleman', 'midseason', 'midterm', 'migh', 'might', 'mightv', 'migrat', 'mike', 'mildli', 'mile', 'mileston', 'militari', 'milki', 'mill', 'milleni', 'miller', 'millio', 'million', 'millionair', 'min', 'mind', 'mindblow', 'mindset', 'mine', 'mineabl', 'miner', 'mini', 'miniapp', 'miniatur', 'minim', 'minimalist', 'minimax', 'minimis', 'minimum', 'miningamass', 'miningenvironment', 'miniscul', 'ministri', 'minor', 'mint', 'minuscul', 'minut', 'mira', 'mirror', 'misalloc', 'mise', 'misfit', 'misguid', 'mishmash', 'mislead', 'misread', 'misrepres', 'miss', 'mission', 'missionari', 'misstat', 'mistak', 'misthink', 'misunderstand', 'mitig', 'mix', 'mixtap', 'ml', 'mlm', 'mmt', 'mnemon', 'mo', 'mobikindl', 'mode', 'model', 'moder', 'modern', 'modulo', 'molecul', 'mom', 'moment', 'momentarili', 'momentum', 'monday', 'monero', 'monet', 'monetari', 'money', 'moneyobsess', 'moneyrel', 'monger', 'monkey', 'monkeyfan', 'monolith', 'month', 'monthli', 'moon', 'moor', 'moral', 'moraleth', 'morethan21million', 'morethi', 'morgan', 'morn', 'moron', 'morph', 'mortgag', 'mostli', 'mother', 'motion', 'motiv', 'mount', 'mountain', 'mous', 'mouth', 'move', 'moveabl', 'movement', 'mover', 'movi', 'mow', 'mr', 'mri', 'msm', 'mstr', 'mt', 'mtgox', 'much', 'mucha', 'mucu', 'mudsling', 'mue', 'mug', 'muggi', 'mullvad', 'mulroy', 'multi', 'multiasset', 'multichain', 'multicoin', 'multimillion', 'multipl', 'multipli', 'multisig', 'multitrillion', 'multiyear', 'mundan', 'mundo', 'muneebbtc', 'munger', 'municip', 'murad', 'murder', 'music', 'musig2', 'musk', 'must', 'mustach', 'mustwatch', 'mute', 'mutual', 'muun', 'mvp', 'mvrv', 'mweb', 'mwh', 'mybitcoin', 'myspac', 'mysteri', 'myth', 'mythic', 'na', 'nah', 'nail', 'nakamoto', 'name', 'namecoin', 'namra', 'nap', 'narr', 'narrativesscenario', 'narrow', 'nasdaq', 'nate', 'nation', 'nationst', 'nativ', 'nativecoingt', 'natur', 'nav', 'navajo', 'navig', 'nb', 'nba', 'ne', 'near', 'nearbottom', 'nearli', 'nearterm', 'neat', 'necess', 'necessari', 'necessarili', 'need', 'needl', 'needless', 'needlessli', 'neg', 'neglig', 'negoti', 'neither', 'nejc', 'neo', 'neobank', 'nerd', 'nervou', 'net', 'netflix', 'neth', 'netherland', 'networ', 'network', 'neural', 'neutral', 'neutrino', 'never', 'nevertheless', 'new', 'newbi', 'newcom', 'newer', 'newest', 'newfork', 'newli', 'news', 'newsflash', 'newslett', 'newspap', 'newtobitcoin', 'newton', 'newtonian', 'next', 'nextbitcoin', 'nfa', 'nfl', 'nft', 'nftcollect', 'nftfi', 'ngmi', 'ngn', 'ngu', 'nibbl', 'nice', 'nicer', 'nich', 'nick', 'niec', 'nigeria', 'nigh', 'night', 'nightclub', 'nightmar', 'nikolayevski', 'nimbl', 'nimbu', 'nine', 'nk', 'nobel', 'nobodi', 'nocoin', 'node', 'nodeal', 'nois', 'non', 'nonarchiv', 'nonavail', 'nonbtc', 'noncompli', 'noncorrel', 'noncustodi', 'nondistort', 'none', 'nonethelessand', 'nonethereumrel', 'nonfinanci', 'nonfung', 'nongreedi', 'nonindustri', 'noninflationari', 'nonobvi', 'nonracist', 'nonreal', 'nonsens', 'nontechn', 'nontox', 'noob', 'noon', 'nop', 'nope', 'norm', 'normal', 'normi', 'north', 'norwegian', 'nosethroatlung', 'nostr', 'notabl', 'note', 'noth', 'notic', 'noticiero', 'notif', 'notifi', 'notion', 'nottoodist', 'nov', 'novagratz', 'novel', 'novemb', 'novi', 'novo', 'nowaday', 'nowher', 'npc', 'nra', 'ns', 'nuanc', 'nuke', 'nukem', 'number', 'numer', 'numeri', 'numismat', 'nunca', 'nurtur', 'nusret', 'nut', 'nutrit', 'nvda', 'nvidia', 'ny', 'nyc', 'nym', 'nyse', 'nytim', 'oatmeal', 'obey', 'obituari', 'obj', 'object', 'oblig', 'obliter', 'observ', 'obsess', 'obsolesc', 'obsolet', 'obtain', 'obv', 'obviou', 'obvious', 'occasion', 'occup', 'occur', 'oct', 'octob', 'odd', 'oddsnic', 'oddz', 'oddzvers', 'odel', 'odeon', 'ofc', 'offchain', 'offenc', 'offens', 'offer', 'offic', 'offici', 'offlin', 'offlinegener', 'ofici', 'often', 'og', 'oh', 'ohio', 'ohm', 'oi', 'oil', 'oilpow', 'ok', 'okay', 'okcoin', 'okex', 'ol', 'old', 'oldcoin', 'older', 'oldschool', 'omicron', 'omiss', 'omni', 'omnilit', 'onboard', 'onchain', 'one', 'onecycl', 'oneofakind', 'onethank', 'onetim', 'ongo', 'onion', 'onlin', 'onlyfan', 'onlynow', 'onnew', 'onramp', 'onto', 'onward', 'ooda', 'oof', 'op', 'op43', 'opcod', 'ope', 'open', 'openclos', 'openli', 'opensour', 'opensourc', 'oper', 'opinion', 'oppon', 'opportun', 'oppos', 'opposit', 'oppositon', 'oppress', 'opsec', 'optic', 'optim', 'optimis', 'optimist', 'option', 'oracl', 'orador', 'orang', 'orangepil', 'orbit', 'ordeal', 'order', 'ordi', 'ordinari', 'org', 'organ', 'origin', 'oro', 'orphan', 'otc', 'otcqx', 'other', 'otherwis', 'otoh', 'ought', 'outcom', 'outcompet', 'outdoor', 'outer', 'outflow', 'outing', 'outlaw', 'outlet', 'outlook', 'outnumb', 'outperform', 'output', 'outright', 'outrun', 'outsid', 'outsideethereum', 'outsidethemechan', 'outsmart', 'outsourc', 'outspent', 'outspoken', 'outswim', 'outwardli', 'overal', 'overalloc', 'overcollater', 'overhang', 'overhead', 'overheard', 'overlap', 'overli', 'overpay', 'overr', 'overreach', 'overreact', 'overrepres', 'oversight', 'oversimplif', 'oversubscrib', 'overtak', 'overthrown', 'overvalu', 'overwhelm', 'owe', 'own', 'owner', 'ownership', 'oxygen', 'oz', 'p2p', 'p2tr', 'pace', 'pack', 'packag', 'page', 'paid', 'pain', 'paint', 'pair', 'pakistan', 'palantir', 'palestin', 'pandem', 'panel', 'panic', 'paper', 'paperback', 'par', 'parabl', 'parabol', 'parabola', 'paradigm', 'parallel', 'paramet', 'paramount', 'paranoia', 'paranoid', 'parasit', 'parent', 'pari', 'pariti', 'park', 'parser', 'part', 'parti', 'partial', 'particip', 'participarã', 'particular', 'particularli', 'partli', 'partner', 'pasc', 'pass', 'passag', 'passion', 'passiv', 'passport', 'password', 'past', 'patel', 'patent', 'path', 'patienc', 'patient', 'patoshi', 'patreon', 'patrick', 'patriot', 'patron', 'pattern', 'paul', 'paus', 'pave', 'pavilion', 'paxlovid', 'pay', 'payabl', 'paych', 'paycheck', 'payload', 'payment', 'payout', 'paypal', 'payrol', 'paywithlitecoin', 'pboc', 'pdf', 'pe', 'peac', 'peak', 'peek', 'peep', 'peer', 'peerswap', 'peertop', 'peg', 'pelosi', 'pelositantrum', 'penalti', 'pend', 'penetr', 'pension', 'peo', 'peopl', 'peopleth', 'pepe', 'pepemillion', 'per', 'perceiv', 'percent', 'percentag', 'percept', 'perfect', 'perfectli', 'perform', 'perhap', 'period', 'perish', 'permabul', 'perman', 'permiss', 'permissionless', 'permit', 'pernici', 'pero', 'perp', 'persecut', 'persist', 'perso', 'person', 'personfamilycitycountri', 'personifi', 'perspect', 'perth', 'peter', 'petrodollar', 'pf', 'pfp', 'pharma', 'phase', 'phenomenon', 'philosoph', 'philosoraptor', 'phone', 'photo', 'photograph', 'phrase', 'phunk', 'physic', 'physicallyback', 'pic', 'pick', 'pictur', 'piec', 'pig', 'pigeon', 'pigovian', 'pile', 'pill', 'pillar', 'pimco', 'pinnacl', 'pioneer', 'pipelin', 'pitch', 'pitchfork', 'piti', 'pitt', 'pizza', 'pl', 'place', 'placebo', 'placehold', 'plagu', 'plaintiff', 'plan', 'planb', 'planet', 'planner', 'plant', 'plastic', 'plate', 'platform', 'plausibl', 'play', 'playbook', 'player', 'playlist', 'pleas', 'pleasantli', 'pleasur', 'pleb', 'pleblab', 'plebnet', 'pledg', 'plenti', 'plot', 'plu', 'plug', 'plussiz', 'plutocraci', 'pm', 'po', 'poc', 'pocket', 'pod', 'podcast', 'podcastmostli', 'poder', 'podium', 'poelstra', 'poet', 'point', 'pois', 'poison', 'poker', 'polar', 'polic', 'polici', 'polit', 'politboro', 'politicalcorpor', 'politician', 'politico', 'polk', 'polkadot', 'poll', 'pollut', 'polo', 'poloniex', 'polygon', 'polymarket', 'polynomi', 'ponder', 'ponzi', 'ponzinom', 'pooh', 'pool', 'pooltogeth', 'poor', 'poorest', 'poorli', 'pop', 'popcorn', 'popul', 'popular', 'populationeconomi', 'popup', 'por', 'port', 'portal', 'portfolio', 'portion', 'portman', 'porto', 'portug', 'portugues', 'pose', 'posi', 'posit', 'possess', 'possibl', 'possiblebut', 'post', 'postchina', 'postcoin', 'posthypercrypto', 'postmodern', 'postpon', 'pot', 'potenti', 'pound', 'pour', 'poverti', 'pow', 'powel', 'power', 'powerballplu', 'powerup', 'ppl', 'pr', 'practic', 'practicecommunityinstruct', 'prais', 'pray', 'prayer', 'prayingforbitcoin', 'pre', 'preach', 'precisa', 'precursor', 'predat', 'predict', 'predominantli', 'preemptiv', 'preexist', 'prefer', 'prejudic', 'premer', 'premier', 'premin', 'premis', 'premium', 'prep', 'prepar', 'preponder', 'preposter', 'prepresal', 'prequalifi', 'prerequisit', 'prescienc', 'prescient', 'presenc', 'presenci', 'present', 'preserv', 'presid', 'president', 'prespecifi', 'press', 'pressur', 'presum', 'pretend', 'pretti', 'prevail', 'prevent', 'previou', 'previous', 'price', 'priceact', 'pricein', 'pride', 'priest', 'primari', 'primarili', 'prime', 'primer', 'primexbt', 'primit', 'princeton', 'principl', 'print', 'printer', 'prior', 'priorit', 'prioriti', 'prison', 'privaci', 'privacyfeatur', 'privat', 'privatebydefault', 'privatekey', 'privileg', 'prize', 'pro', 'proactiv', 'proantivaxpass', 'prob', 'probabilist', 'probabl', 'probe', 'probitcoin', 'problem', 'proce', 'process', 'processor', 'procrastin', 'proctologist', 'produc', 'product', 'production', 'productmarket', 'productmarketfit', 'prof', 'profession', 'profil', 'profit', 'profitrevenu', 'profound', 'program', 'programm', 'programmat', 'progress', 'project', 'proletariat', 'proliberti', 'promin', 'promis', 'promot', 'pronoun', 'proof', 'proofofhuman', 'proofofli', 'proofofreserv', 'proofofstak', 'proofofwork', 'prop', 'propaganda', 'propel', 'proper', 'properli', 'properti', 'propheci', 'prophet', 'propon', 'propos', 'propow', 'proprieti', 'prorata', 'prosecut', 'proshar', 'prospect', 'prospectu', 'prosper', 'prot', 'protect', 'protectyourwealth', 'protest', 'protestantworketh', 'protip', 'protocol', 'protodiscoveri', 'proud', 'proudli', 'provabl', 'prove', 'provid', 'provinc', 'provoc', 'prowess', 'proxi', 'proxim', 'prune', 'ps', 'psa', 'psbt', 'pseudonym', 'psychohistori', 'psycholog', 'psychosi', 'psychosoci', 'pt', 'ptj', 'ptlc', 'public', 'publicgood', 'publicli', 'publish', 'pudieran', 'puke', 'pull', 'pullback', 'puller', 'pump', 'pumpabl', 'pumpament', 'pun', 'punish', 'punit', 'punk', 'punt', 'purchas', 'pure', 'purepurpos', 'purg', 'puriti', 'purpos', 'push', 'pushov', 'pussi', 'put', 'puzzl', 'pwned', 'pyramid', 'pyscho', 'python', 'q1', 'q3', 'q4', 'qampa', 'qe', 'qi', 'qr', 'quadrillion', 'quagmir', 'qualiti', 'quantifi', 'quantiti', 'quantum', 'quarter', 'quarterli', 'quasi', 'que', 'quebec', 'queri', 'question', 'questionwhi', 'quick', 'quicker', 'quickest', 'quickli', 'quietli', 'quintic', 'quit', 'quo', 'quot', 'quwain', 'r0', 'ra', 'rab', 'rabbit', 'race', 'racism', 'rack', 'rackmount', 'radic', 'rage', 'raid', 'rail', 'rais', 'rakuten', 'ralli', 'ramp', 'rampd', 'ran', 'rando', 'random', 'randomli', 'rang', 'rank', 'rant', 'raoul', 'rap', 'rapese', 'rare', 'rarest', 'rate', 'rather', 'ratio', 'ration', 'rational', 'raw', 'ray', 'rbitcoin', 'reach', 'reachabl', 'react', 'reaction', 'reactiv', 'reactor', 'read', 'readabl', 'reader', 'readi', 'readonli', 'real', 'realis', 'realist', 'realiti', 'realiz', 'realli', 'reallif', 'realm', 'realtim', 'reap', 'reason', 'rebal', 'rebalanc', 'rebel', 'rebound', 'rebuild', 'rebut', 'rebutt', 'recal', 'recap', 'receiv', 'recent', 'recip', 'reclaim', 'recogn', 'recognis', 'recognit', 'recommend', 'reconstruct', 'record', 'recoup', 'recov', 'recoveri', 'recruit', 'recur', 'recurs', 'recycl', 'red', 'reddit', 'redeem', 'redempt', 'redpil', 'reduc', 'redux', 'reevalu', 'refer', 'referenc', 'referr', 'reflect', 'reflex', 'refresh', 'refug', 'refuge', 'refus', 'refut', 'reg', 'regard', 'regardless', 'regex', 'regi', 'regim', 'region', 'regist', 'registr', 'regress', 'regret', 'regul', 'regular', 'regulatori', 'regurgit', 'rehabilit', 'rehash', 'reign', 'reimagin', 'reinstal', 'reinvest', 'reiter', 'reject', 'rel', 'relat', 'relationship', 'releas', 'releat', 'relentlessli', 'relev', 'reli', 'reliabl', 'relief', 'reliev', 'religion', 'relinquish', 'reluctantli', 'rem', 'remain', 'remak', 'remark', 'remast', 'rememb', 'remind', 'remindm', 'remitt', 'remot', 'remov', 'renbtc', 'render', 'renew', 'rent', 'rentseek', 'rep', 'repair', 'repay', 'repeat', 'repercuss', 'replac', 'replay', 'repli', 'replic', 'replicat', 'repo', 'report', 'repres', 'represent', 'representa', 'reproduc', 'republ', 'republican', 'reput', 'req', 'request', 'requir', 'reread', 'resal', 'research', 'resembl', 'reserv', 'reset', 'reshap', 'resid', 'residu', 'resign', 'resili', 'resist', 'resolv', 'reson', 'resort', 'resourc', 'respect', 'respond', 'respons', 'responsibilti', 'rest', 'restaur', 'restrict', 'result', 'resum', 'retail', 'retain', 'retali', 'retard', 'retarget', 'retest', 'rethink', 'rethtrad', 'retir', 'retrac', 'retread', 'retreat', 'retroact', 'retrofit', 'retrospect', 'retur', 'return', 'retweet', 'reusabl', 'reuter', 'reveal', 'revel', 'revenu', 'revers', 'review', 'reviewi', 'revisit', 'revolut', 'revolutionari', 'reward', 'rhetor', 'rhyme', 'ribey', 'rich', 'richard', 'richer', 'richest', 'ricki', 'rid', 'ride', 'ridicul', 'right', 'rigor', 'ring', 'rip', 'ripplexrp', 'ripplingdeel', 'rise', 'risen', 'risk', 'riskfre', 'riski', 'riskier', 'riskminim', 'riskoff', 'riskon', 'riskreturn', 'riskreward', 'riskrewardwis', 'ritual', 'rivalri', 'rli', 'rn', 'rndr', 'road', 'roadblock', 'roadmap', 'rob', 'robberi', 'robert', 'robot', 'robust', 'rock', 'rocket', 'rogan', 'roger', 'roi', 'role', 'roll', 'rollercoast', 'rollup', 'rollupcentr', 'roman', 'roof', 'rooki', 'room', 'root', 'rose', 'ross', 'rotat', 'rothbard', 'rothschild', 'rotten', 'rough', 'roughli', 'round', 'rout', 'router', 'row', 'roy', 'rpa', 'rr', 'rs_f', 'rsi', 'rsr', 'rub', 'rubegoldberg', 'rude', 'rug', 'rule', 'rumor', 'run', 'runebtc', 'runner', 'runtobitcoin', 'runup', 'rush', 'russiag', 'russian', 'rust', 's2f', 's2fx', 's2x', 'saa', 'saber', 'sabotag', 'sach', 'sacrif', 'sad', 'saddest', 'safe', 'safehaven', 'safeti', 'saft', 'sai', 'said', 'saigon', 'saint', 'sake', 'salari', 'sale', 'salt', 'saltiest', 'salvador', 'salvadoran', 'sam', 'sameasiteverwa', 'sampl', 'sampp', 'samson', 'samsung', 'san', 'sanction', 'sanctor', 'sand', 'sane', 'sarson', 'sat', 'satcomma', 'satellit', 'satosh', 'satoshi', 'satoshidic', 'satur', 'sauc', 'savag', 'save', 'saver', 'saw', 'say', 'sayin', 'saylor', 'sc', 'sca', 'scalabl', 'scalablethan', 'scale', 'scalp', 'scam', 'scammer', 'scammi', 'scaramucci', 'scarc', 'scarcest', 'scarciti', 'scare', 'scari', 'scatolog', 'scenario', 'schedul', 'scheme', 'schnorr', 'schnorrtaprootsom', 'scholar', 'schole', 'school', 'schrãndinger', 'sci', 'scienc', 'sciencetech', 'scientif', 'scientism', 'scientist', 'scifi', 'scoop', 'scope', 'score', 'scoundrel', 'scratch', 'scream', 'screen', 'screenshot', 'screenwrit', 'screw', 'scrimp', 'script', 'scrypt', 'sdr', 'se', 'sea', 'seamlessli', 'search', 'season', 'seat', 'seatbelt', 'sec', 'seced', 'second', 'secondari', 'secondchancetowin', 'secondhighest', 'secondli', 'secret', 'secretli', 'section', 'sector', 'secularli', 'secur', 'securit', 'securityutil', 'see', 'seed', 'seek', 'seeker', 'seem', 'seen', 'segment', 'segwit', 'segwit2x', 'seigniorag', 'seiz', 'seizur', 'seldom', 'select', 'self', 'selfassur', 'selfcustodi', 'selffulfil', 'selfheld', 'selfinterest', 'selfish', 'selflessli', 'selfmarket', 'selfserv', 'selfsovereignti', 'selfstak', 'selfstudi', 'sell', 'seller', 'selloff', 'semana', 'semant', 'seminar', 'semishock', 'sen', 'senat', 'send', 'sender', 'senesc', 'sens', 'sensibl', 'sensiblethought', 'sensori', 'sent', 'sentiment', 'sep', 'separ', 'sept', 'septemb', 'sequenc', 'seri', 'serial', 'serio', 'seriou', 'serious', 'serv', 'servant', 'server', 'servic', 'serã', 'session', 'set', 'settl', 'settlement', 'setup', 'seven', 'sever', 'sex', 'seãal', 'sg', 'sgd', 'sh', 'sha256d', 'shadenfreud', 'shadow', 'shadowi', 'shadowstat', 'shai', 'shake', 'shaken', 'shakeout', 'shakeup', 'shall', 'sham', 'shame', 'shameless', 'shaolinfri', 'shape', 'shapeshift', 'shard', 'share', 'sharehold', 'shark', 'sharp', 'shart', 'she', 'sheer', 'sheesh', 'sheet', 'shell', 'shelter', 'sherman', 'shi', 'shib', 'shiba', 'shift', 'shill', 'shine', 'ship', 'shirt', 'shit', 'shitcoin', 'shitcoineri', 'shitcoinminimalist', 'shitcoinscam', 'shitpost', 'shock', 'shockingli', 'shoe', 'shoot', 'shop', 'shoposit', 'shopper', 'short', 'shorterterm', 'shortest', 'shortli', 'shortterm', 'shot', 'shoulder', 'shouldnt', 'shouldv', 'shout', 'shoutout', 'shovel', 'show', 'showcas', 'shown', 'shrunkfor', 'shuffl', 'shut', 'si_f', 'sick', 'side', 'sidechain', 'sideeffect', 'sideway', 'sido', 'sig', 'sigh', 'sight', 'sign', 'signal', 'signatur', 'signet', 'signficantli', 'signific', 'significantli', 'silenc', 'silent', 'silica', 'silicon', 'silli', 'silver', 'simethicon', 'similar', 'similarli', 'simon', 'simp', 'simpl', 'simpler', 'simpli', 'simplic', 'simplifi', 'simul', 'simulacra', 'simultan', 'sinc', 'sine', 'sing', 'singapor', 'singl', 'singledigit', 'singlehandedli', 'singlesid', 'singlethread', 'singleton', 'singleuses', 'sink', 'sir', 'sit', 'sitcom', 'site', 'sitewid', 'situat', 'six', 'sixfigur', 'sixth', 'size', 'sjw', 'skeptic', 'skew', 'ski', 'skier', 'skill', 'skin', 'skip', 'skylin', 'skyrocket', 'sl', 'slam', 'slander', 'slap', 'slashtag', 'slate', 'slaughter', 'slave', 'slaveri', 'sleep', 'sleev', 'sleger', 'sli', 'slice', 'slight', 'slightest', 'slightli', 'slosh', 'slovakia', 'slovenia', 'slow', 'slowli', 'slp', 'slp321', 'slumber', 'slur', 'slush', 'sm', 'small', 'smaller', 'smart', 'smartcontract', 'smartest', 'smartphon', 'smash', 'smell', 'smh', 'smil', 'smile', 'smoke', 'smooth', 'snack', 'snapshot', 'snd', 'sneaker', 'sneez', 'snooz', 'snow', 'snp500', 'snuggli', 'soap', 'soar', 'sob', 'sobr', 'social', 'societ', 'societi', 'sociolog', 'soda', 'soft', 'softer', 'softwar', 'soil', 'sol', 'sola', 'solana', 'sold', 'soldier', 'sole', 'solid', 'solidcoin', 'solo', 'solut', 'solv', 'solvabl', 'somebodi', 'someday', 'somehow', 'someo', 'someon', 'someth', 'sometim', 'somewhat', 'somewher', 'song', 'soon', 'soonish', 'sooo', 'sophist', 'sophomor', 'sopr', 'sorri', 'sort', 'sortino', 'soto', 'soul', 'sould', 'sound', 'soup', 'sourc', 'south', 'southwest', 'sov', 'sove', 'sovereign', 'sovereignindividu', 'sovereignti', 'soviet', 'sow', 'sp', 'spac', 'space', 'spacex', 'spam', 'span', 'spanish', 'spanishspeak', 'spank', 'spark', 'spartan', 'speak', 'speaker', 'spec', 'special', 'specif', 'spectacular', 'specter', 'spectrum', 'specul', 'speech', 'speed', 'speedi', 'spell', 'spend', 'spent', 'spi', 'spike', 'spiker', 'spin', 'spiral', 'spirit', 'spite', 'spiv', 'splice', 'split', 'spoil', 'spoiler', 'spoke', 'spoken', 'spokesperson', 'sponsor', 'spooki', 'sport', 'spot', 'spotbas', 'spotti', 'spous', 'spread', 'spreader', 'spring', 'spx', 'sq', 'squabbl', 'squar', 'squaretwitt', 'squeez', 'squiggl', 'srinivasan', 'st', 'stabil', 'stabl', 'stablecoin', 'stabli', 'staci', 'stack', 'stacker', 'staff', 'stage', 'stagger', 'stake', 'staker', 'stakeweight', 'stamp', 'stanc', 'stand', 'standard', 'standbi', 'stanford', 'stanley', 'star', 'starbuck', 'start', 'starti', 'startup', 'starv', 'starvat', 'stash', 'stat', 'state', 'statechain', 'statement', 'station', 'statism', 'statist', 'statu', 'statusbas', 'statusseek', 'stave', 'stay', 'steadfastli', 'steadi', 'steal', 'stealth', 'steam', 'steel', 'steelman', 'stefan', 'stefanopoulo', 'stellar', 'stem', 'step', 'stepbystep', 'steth', 'stick', 'sticker', 'still', 'stimulu', 'sto', 'stochast', 'stock', 'stockbond', 'stocktoflow', 'stoic', 'stokr', 'stole', 'stolen', 'stone', 'stonewal', 'stonk', 'stop', 'storag', 'store', 'storeofvalu', 'stori', 'storm', 'stormarea51', 'storytel', 'straight', 'straightforward', 'strain', 'strand', 'strang', 'stranger', 'strangest', 'strangl', 'strat', 'strateg', 'strategi', 'strategychang', 'stream', 'street', 'strength', 'stress', 'stretch', 'strict', 'strictli', 'strike', 'string', 'stripe', 'stron', 'strong', 'stronger', 'strongest', 'strongli', 'strp', 'strpeth', 'strpusdc', 'structur', 'struggl', 'stuck', 'studi', 'studio', 'stuff', 'stupid', 'stupidti', 'stx', 'style', 'su', 'suarez', 'sub', 'subconsci', 'subiã³', 'subject', 'sublimin', 'submit', 'subpenni', 'subreddit', 'subscrib', 'subscript', 'subsequ', 'subset', 'subsidi', 'subsometh', 'substack', 'substanti', 'subsum', 'subsystem', 'subtitl', 'subtl', 'suburb', 'suburban', 'subvers', 'suc', 'succe', 'succeed', 'success', 'succumb', 'sucediendo', 'suck', 'sucker', 'sudan', 'sudden', 'suddenli', 'sudoku', 'sue', 'suffer', 'suffic', 'suffici', 'suggest', 'suiss', 'suit', 'suitabl', 'sum', 'summari', 'summer', 'summit', 'sun', 'sunblock', 'sunday', 'super', 'supercod', 'superimmers', 'superior', 'supermajor', 'superwhal', 'suppli', 'support', 'suppos', 'supposedli', 'suppress', 'supran', 'supris', 'sur', 'sure', 'surefir', 'surf', 'surfac', 'surg', 'surgeon', 'surpass', 'surplu', 'surpris', 'surreal', 'surround', 'surveil', 'survey', 'surviv', 'survivorship', 'sushieth', 'sushiswap', 'suspect', 'suspens', 'suspici', 'sustain', 'suãrez', 'sv', 'sw', 'swag', 'swallow', 'swan', 'swap', 'sway', 'sweet', 'sweeter', 'sweetheart', 'swing', 'switch', 'switzerland', 'sy', 'sybilresist', 'symbol', 'symptom', 'sync', 'syndic', 'syndrom', 'synthet', 'syria', 'system', 'sytem', 'sãquenc', 'sãyleåÿi', 'ta', 'tab', 'tabl', 'taboo', 'tact', 'tactic', 'tag', 'tail', 'take', 'takeaway', 'takedown', 'taken', 'taketh', 'taleb', 'talent', 'taliban', 'talk', 'taller', 'tampa', 'tampabay', 'tamã', 'tangenti', 'tank', 'tap', 'tape', 'taper', 'taproot', 'taprootliquid', 'tapscript', 'target', 'task', 'taught', 'tax', 'taxat', 'taxdeduct', 'taxi', 'tb', 'tbf', 'tbh', 'tbt', 'tcot', 'td', 'teach', 'teacher', 'team', 'tear', 'teas', 'tech', 'technic', 'technicalanalysi', 'technicallymind', 'techniqu', 'technolog', 'technologist', 'teem', 'teeter', 'teeth', 'telegram', 'televis', 'tell', 'tem', 'tema', 'temporari', 'temporarili', 'tempt', 'temptat', 'ten', 'tend', 'tender', 'tendermint', 'tenebrix', 'tent', 'terabyt', 'term', 'termin', 'terminolog', 'termsheet', 'terra', 'terribl', 'terrifi', 'terrorist', 'tesla', 'test', 'testimoni', 'testnet', 'tether', 'tethergold', 'texa', 'text', 'tf', 'tfw', 'tgc', 'th', 'thank', 'thanksgiv', 'thar', 'that', 'thatal', 'thatd', 'thatll', 'theater', 'theatr', 'theatric', 'theft', 'theme', 'themoreyouknow', 'theori', 'theothersixbillion', 'there', 'therebi', 'therefor', 'thermocap', 'these', 'thesi', 'theyll', 'theymoss', 'theyr', 'theyv', 'thi', 'thick', 'thin', 'thing', 'think', 'thinker', 'third', 'thirdlargest', 'thirdparti', 'thirteen', 'thmo', 'tho', 'thorchain', 'thorough', 'though', 'thought', 'thousand', 'thread', 'threat', 'threaten', 'three', 'threshold', 'threw', 'thrill', 'thrive', 'throne', 'throttl', 'throughout', 'throughput', 'throw', 'throwback', 'thrown', 'thruster', 'thu', 'thug', 'thunder', 'thunderhub', 'thursday', 'thwart', 'thx', 'ti', 'tick', 'ticker', 'ticket', 'tide', 'tie', 'tiempo', 'tienda', 'tight', 'tighten', 'tighter', 'til', 'till', 'tim', 'time', 'time100', 'timechain', 'timeenerycapac', 'timefram', 'timelin', 'timepiec', 'timeprefer', 'timestamp', 'timetravel', 'timex', 'tini', 'tinker', 'tiomv2', 'tiomv3', 'tip', 'tire', 'tirosh', 'titl', 'tk', 'tldr', 'tldw', 'tlot', 'tluv', 'tn', 'tnote', 'toast', 'tock', 'today', 'todd', 'toddler', 'togeth', 'toggl', 'toilet', 'tokemak', 'token', 'token2049', 'tokensaltcoin', 'tokyo', 'told', 'toler', 'tomorrow', 'tomorrowwith', 'tomshardwar', 'ton', 'tonga', 'tongu', 'tonight', 'took', 'tool', 'top', 'topci', 'topic', 'toppl', 'tornado', 'torrent', 'tortur', 'total', 'touch', 'touchscreen', 'tough', 'tourist', 'toward', 'toxic', 'tozoni', 'tp', 'tra', 'trabajando', 'trabucco', 'trace', 'track', 'tract', 'traction', 'trade', 'tradefeel', 'tradelet', 'tradeoff', 'trader', 'tradfi', 'tradingbitcoin', 'tradingeduc', 'tradinginvest', 'tradingview', 'tradit', 'traducciã³n', 'traffic', 'tragic', 'trailblaz', 'train', 'trajectori', 'tran', 'tranch', 'tranche7', 'transa', 'transact', 'transcript', 'transfer', 'transform', 'transit', 'transitori', 'translat', 'transmiss', 'transmit', 'transmitt', 'transnat', 'transpar', 'transport', 'trap', 'trash', 'travel', 'trc20usdt', 'treadmil', 'treasuri', 'treat', 'tree', 'tremend', 'trench', 'trend', 'trendlin', 'trezor', 'tri', 'trial', 'triangl', 'tribal', 'tribe', 'tribul', 'trick', 'tricki', 'trickier', 'trigger', 'trillion', 'trilliondollar', 'trip', 'tripl', 'trivia', 'trivial', 'tro', 'troll', 'trollbox', 'tron', 'troubl', 'trough', 'troy', 'truck', 'true', 'truli', 'trump', 'trust', 'trustless', 'trustlessi', 'trustworthi', 'truth', 'truther', 'trx', 'tsla', 'tudo', 'tudor', 'tuenti', 'tuesday', 'tulip', 'tumbl', 'tund', 'tune', 'tungsten', 'tunisia', 'turbo', 'ture', 'turingcompet', 'turkey', 'turkish', 'turn', 'tuvo', 'tv', 'tweet', 'tweetexampl', 'twice', 'twist', 'twitch', 'twitter', 'twitterhack', 'twitterlik', 'two', 'twoman', 'twoweek', 'twtr', 'tx', 'txfee', 'txn', 'txslightn', 'txsmonth', 'ty', 'type', 'typerbol', 'typic', 'typo', 'tyranni', 'tyres', 'uae', 'uasf', 'uasfer', 'uber', 'ubi', 'ubiqu', 'ubq', 'udi', 'uk', 'ukrain', 'ulbricht', 'ullish', 'ulterior', 'ultim', 'ultra', 'ultrasoft', 'umbrel', 'umm', 'ummm', 'un', 'una', 'unabl', 'unattain', 'unawar', 'unbal', 'unban', 'unbank', 'unbeknownst', 'unbel', 'unbeliev', 'unbias', 'unblock', 'uncensor', 'unchain', 'unclear', 'unconfirm', 'unconfiscat', 'uncopy', 'uncorrel', 'undercurr', 'underestim', 'undergo', 'underli', 'undermin', 'underown', 'underr', 'undersid', 'understand', 'understandingbitcoin', 'understood', 'undervalu', 'underwat', 'undisciplin', 'une', 'uneth', 'unexamin', 'unexpect', 'unfair', 'unfairli', 'unfold', 'unfortun', 'unhappi', 'uni', 'unieth', 'unintellig', 'uniqu', 'unison', 'uniswap', 'uniswapthorchain', 'unit', 'uniti', 'univers', 'universalist', 'unknown', 'unless', 'unlicensedunregist', 'unlik', 'unlimit', 'unlock', 'unmask', 'unmin', 'unnecessari', 'unnecessarili', 'unpack', 'unplay', 'unplug', 'unpopular', 'unravel', 'unreal', 'unrealis', 'unreason', 'unrel', 'unreli', 'unrest', 'unsatisfi', 'unscrupul', 'unseat', 'unsecur', 'unseen', 'unsettl', 'unsolv', 'unsophist', 'unstabl', 'unstopp', 'unsuspect', 'unteth', 'untold', 'untrac', 'untru', 'unus', 'unusu', 'unvaccin', 'unwind', 'up', 'upandcomm', 'upcom', 'upda', 'updat', 'upgrad', 'uphold', 'uplist', 'upload', 'upon', 'upper', 'upresolv', 'upset', 'upsid', 'upstream', 'upsw', 'uptim', 'uptrend', 'upward', 'ur', 'uranium', 'urethra', 'urg', 'urpd', 'urself', 'us', 'usa', 'usag', 'usauk', 'usd', 'usdc', 'usddenomin', 'usdt', 'usdusdt', 'usdx', 'use', 'useless', 'user', 'userbas', 'usernam', 'uservoic', 'usher', 'uso', 'ustxusd', 'usual', 'utc', 'util', 'utilitytospecul', 'utmost', 'utxo', 'utxodex', 'ux', 'v0', 'v0beta', 'v1', 'v2', 'vaccin', 'vaclav', 'vagina', 'vagu', 'valid', 'validit', 'valkryi', 'valkyri', 'valley', 'valu', 'valuabl', 'valuat', 'valueutil', 'vamp', 'vaneck', 'vantag', 'vari', 'variabl', 'variant', 'varieti', 'variou', 'vast', 'vattaxpassthrough', 'vault', 'vax', 'vaxx', 'vbottom', 'vc', 'vcguy', 'veer', 'vega', 'vehicl', 'veloc', 'velociraptor', 'vend', 'venezuela', 'venmo', 'venti', 'ventur', 'venu', 'venusprotocol', 'verb', 'verbal', 'verg', 'verif', 'verifi', 'versa', 'version', 'versu', 'veryunwel', 'vessel', 'vest', 'via', 'viabl', 'vibe', 'vice', 'victim', 'victor', 'vid', 'video', 'vido', 'vidão', 'vietnam', 'view', 'vigil', 'vigilant', 'vilifi', 'villain', 'violat', 'violenc', 'violent', 'violet', 'viral', 'vire', 'virgin', 'virolog', 'virtu', 'virtual', 'viru', 'visa', 'viscer', 'visibl', 'vision', 'visionari', 'visit', 'visita', 'visual', 'visualis', 'vitadao', 'vital', 'vitalik', 'vivo', 'vocal', 'vocãª', 'vodka', 'voic', 'void', 'vol', 'volatil', 'volatilitycrashingit', 'volcano', 'volcanobond', 'volleybal', 'volum', 'volunt', 'voluntari', 'voluntarili', 'voorhe', 'vote', 'voter', 'voucher', 'voyag', 'vpn', 'vpvr', 'vr', 'vs', 'vulner', 'wage', 'wagmi', 'wait', 'wake', 'walk', 'walksrun', 'wall', 'wallet', 'walletoracl', 'wallstreet', 'walmart', 'walthi', 'wander', 'wang', 'wanna', 'want', 'war', 'warm', 'warn', 'warren', 'warrior', 'wasabi', 'washington', 'wasnt', 'wast', 'wasteland', 'watch', 'watchtow', 'water', 'waterpark', 'wave', 'way', 'wayi', 'wazirx', 'wbd', 'wbd425', 'wbtc', 'weak', 'weaker', 'wealth', 'wealthfront', 'wealthi', 'wealthiest', 'weapon', 'wear', 'wearabl', 'web', 'web2', 'web3', 'webinar', 'websit', 'webvan', 'wed', 'wedg', 'wednesday', 'week', 'weekend', 'weekli', 'weel', 'wei', 'weigh', 'weight', 'weimar', 'weird', 'weirddough', 'weirdest', 'welcom', 'well', 'wellfund', 'wellknown', 'welltim', 'wen', 'went', 'werent', 'west', 'western', 'weth', 'weve', 'whack', 'whale', 'whammi', 'what', 'whatabout', 'whatev', 'wheat', 'whenev', 'wherea', 'whether', 'whetherregul', 'whim', 'whine', 'white', 'whitealpha', 'whitepap', 'who', 'whoa', 'whoever', 'whole', 'wholeheartedli', 'wholesom', 'whop', 'whose', 'wi', 'wick', 'wide', 'wider', 'widespread', 'wife', 'wifi', 'wiki', 'wil', 'wild', 'wildli', 'will', 'win', 'window', 'wing', 'winner', 'winni', 'winwin', 'winwinwin', 'wipe', 'wire', 'wirth', 'wisdom', 'wise', 'wish', 'wit', 'withdraw', 'withdrew', 'withhold', 'within', 'without', 'wkli', 'wo', 'woke', 'wolf', 'wolv', 'wolverin', 'women', 'wonder', 'wonderland', 'wont', 'wood', 'wook', 'wor', 'word', 'work', 'worker', 'workhors', 'workout', 'workshop', 'world', 'worlder', 'worldrenown', 'worldview', 'worldwid', 'worri', 'wors', 'worst', 'worstcas', 'worth', 'worthless', 'would', 'wouldb', 'wouldnt', 'wouldv', 'wow', 'wrap', 'wrappedbtc', 'wrapper', 'wreck', 'wrestl', 'wrestler', 'wretch', 'wright', 'write', 'writer', 'writeup', 'written', 'wrong', 'wrote', 'wtf', 'wu', 'wvolatil', 'wwhat', 'wyckoff', 'wycoffian', 'wydenlummistoomey', 'wyom', 'wyre', 'xaut', 'xbtf', 'xem', 'xlm', 'xmr', 'xmrbtc', 'xrp', 'xrptost', 'xtz', 'xv', 'xx', 'ya', 'yall', 'yang', 'yank', 'yaptäk', 'yard', 'yay', 'ye', 'yea', 'yeah', 'year', 'yearli', 'yearn', 'yearold', 'yearwhich', 'yeh', 'yell', 'yellen', 'yellow', 'yellowgreen', 'yep', 'yessss', 'yesterday', 'yet', 'yield', 'yinyang', 'yo', 'yolo', 'york', 'youd', 'youll', 'young', 'younger', 'your', 'youth', 'youtub', 'youv', 'yoy', 'yr', 'yum', 'zach', 'zcash', 'zcsh', 'zealot', 'zec', 'zecbtc', 'zen', 'zero', 'zerohedg', 'zeroknowledg', 'zerosum', 'zhan', 'zilliqa', 'zimbabw', 'zkrollup', 'zone', 'zont', 'zoom', 'zoomer', 'zuck', 'zuox', 'ãok', 'ãƒããƒˆãƒãƒ³ããƒãƒƒãƒˆãƒãƒ¼ãäšããƒãƒƒãƒˆã³ããƒ³ãæœˆå¹³åæéãœ2400btcãèãˆãÿ', 'ãƒãƒƒãƒˆã³ããƒ³', 'ëˆtãksik', 'ððððððµðªðð']\n"
          ]
        }
      ]
    },
    {
      "cell_type": "code",
      "metadata": {
        "id": "9FDeoCjs6hVY"
      },
      "source": [
        "#top 10 terms in the TDM\n",
        "sort_text = tokens_data.sum()"
      ],
      "execution_count": null,
      "outputs": []
    },
    {
      "cell_type": "code",
      "metadata": {
        "id": "oZgKmXWn6hVY",
        "outputId": "27dc7579-2ed5-4748-fca3-ce417e980178"
      },
      "source": [
        "#Top 10 terms in the tweets data\n",
        "sort_text.sort_values(ascending = False).head(10)"
      ],
      "execution_count": null,
      "outputs": [
        {
          "data": {
            "text/plain": [
              "someth    307\n",
              "like      293\n",
              "peopl     263\n",
              "use       262\n",
              "crypto    235\n",
              "new       234\n",
              "time      234\n",
              "get       230\n",
              "year      225\n",
              "amp       222\n",
              "dtype: int64"
            ]
          },
          "execution_count": 34,
          "metadata": {},
          "output_type": "execute_result"
        }
      ]
    },
    {
      "cell_type": "code",
      "metadata": {
        "id": "6x5q_XwE6hVZ"
      },
      "source": [
        "import numpy as np \n",
        "import matplotlib.pyplot as plt\n",
        "import seaborn as sns\n",
        "\n",
        "from sklearn.feature_extraction.text import CountVectorizer\n",
        "from sklearn.decomposition import LatentDirichletAllocation\n",
        "from sklearn.feature_extraction.text import TfidfVectorizer\n",
        "from sklearn.decomposition import NMF\n",
        "\n",
        "from sklearn.model_selection import train_test_split\n",
        "from sklearn.ensemble import RandomForestClassifier\n",
        "from sklearn.metrics import classification_report, confusion_matrix, accuracy_score, plot_confusion_matrix"
      ],
      "execution_count": null,
      "outputs": []
    },
    {
      "cell_type": "code",
      "metadata": {
        "id": "3B4nVCip6hVZ",
        "outputId": "212b59e8-7260-4769-d32e-270a857bff59"
      },
      "source": [
        "plot_size = plt.rcParams[\"figure.figsize\"] \n",
        "print(plot_size[0]) \n",
        "print(plot_size[1])"
      ],
      "execution_count": null,
      "outputs": [
        {
          "name": "stdout",
          "output_type": "stream",
          "text": [
            "8\n",
            "6\n"
          ]
        }
      ]
    },
    {
      "cell_type": "code",
      "metadata": {
        "id": "xgUWJuhj6hVZ"
      },
      "source": [
        "#resizing the default values of plots\n",
        "plot_size[0] = 8\n",
        "plot_size[1] = 6\n",
        "plt.rcParams[\"figure.figsize\"] = plot_size"
      ],
      "execution_count": null,
      "outputs": []
    },
    {
      "cell_type": "code",
      "metadata": {
        "id": "-YkFMO6M6hVa",
        "outputId": "a94e9b09-0663-46d9-b7c9-78d1a5cbc4a0"
      },
      "source": [
        "#create the plot\n",
        "tweets_data.Topic_Coin.value_counts().plot(kind='bar')"
      ],
      "execution_count": null,
      "outputs": [
        {
          "data": {
            "text/plain": [
              "<AxesSubplot:>"
            ]
          },
          "execution_count": 43,
          "metadata": {},
          "output_type": "execute_result"
        },
        {
          "data": {
            "image/png": "[encoded data removed]",
            "text/plain": [
              "<Figure size 576x432 with 1 Axes>"
            ]
          },
          "metadata": {
            "needs_background": "light"
          },
          "output_type": "display_data"
        }
      ]
    },
    {
      "cell_type": "code",
      "metadata": {
        "id": "GOa37kC_6hVa",
        "outputId": "48c232fe-12a2-4e3b-88ae-2eeeeec2474e"
      },
      "source": [
        "#analysing sentiments\n",
        "tweets_data.Sentiment.value_counts().plot(kind='pie', autopct='%1.0f%%', colors=[\"red\", \"yellow\", \"green\"])"
      ],
      "execution_count": null,
      "outputs": [
        {
          "data": {
            "text/plain": [
              "<AxesSubplot:ylabel='Sentiment'>"
            ]
          },
          "execution_count": 44,
          "metadata": {},
          "output_type": "execute_result"
        },
        {
          "data": {
            "image/png": "[encoded data removed]",
            "text/plain": [
              "<Figure size 576x432 with 1 Axes>"
            ]
          },
          "metadata": {},
          "output_type": "display_data"
        }
      ]
    },
    {
      "cell_type": "code",
      "metadata": {
        "id": "zLmQPTT16hVa",
        "outputId": "87f70373-b290-4328-cae0-263494b1470c"
      },
      "source": [
        "#distribution of sentiment by the crypto currency\n",
        "airline_sentiment = tweets_data.groupby(['Topic_Coin', 'Sentiment']).Sentiment.count().unstack()\n",
        "\n",
        "airline_sentiment.plot(kind='bar')"
      ],
      "execution_count": null,
      "outputs": [
        {
          "data": {
            "text/plain": [
              "<AxesSubplot:xlabel='Topic_Coin'>"
            ]
          },
          "execution_count": 45,
          "metadata": {},
          "output_type": "execute_result"
        },
        {
          "data": {
            "image/png": "[encoded data removed]",
            "text/plain": [
              "<Figure size 576x432 with 1 Axes>"
            ]
          },
          "metadata": {
            "needs_background": "light"
          },
          "output_type": "display_data"
        }
      ]
    },
    {
      "cell_type": "code",
      "metadata": {
        "id": "UQWUGQFG6hVa"
      },
      "source": [
        "#In setting up the TF-IDF, we use only the 2,500 most frequently occurring terms, \n",
        "#only those terms that occur in a maximum of 80% of the documents\n",
        "features = tweets_data['tweettext']\n",
        "\n",
        "vectorizer = TfidfVectorizer(max_features=2500, min_df=7, max_df=0.8, stop_words=stop)\n",
        "\n",
        "processed_features = vectorizer.fit_transform(features).toarray()"
      ],
      "execution_count": null,
      "outputs": []
    },
    {
      "cell_type": "code",
      "metadata": {
        "id": "lRV00Psr6hVa"
      },
      "source": [
        "#pass in the transformed vector processed_features and apply \n",
        "#the variable labels to that vector as \"labels\" for each value.\n",
        "labels = tweets_data['Sentiment']\n",
        "\n",
        "X_train, X_test, y_train, y_test = train_test_split(processed_features, labels, test_size=0.2, random_state=0)"
      ],
      "execution_count": null,
      "outputs": []
    },
    {
      "cell_type": "code",
      "metadata": {
        "id": "gE0D-PR_6hVb",
        "outputId": "0b448a25-3cee-4059-85e0-9aac5c95633e"
      },
      "source": [
        "#train a machine learning model using random forest; though, you can use a different machine learning approach\n",
        "text_classifier = RandomForestClassifier(n_estimators=200, random_state=0)\n",
        "text_classifier.fit(X_train, y_train)"
      ],
      "execution_count": null,
      "outputs": [
        {
          "data": {
            "text/plain": [
              "RandomForestClassifier(n_estimators=200, random_state=0)"
            ]
          },
          "execution_count": 50,
          "metadata": {},
          "output_type": "execute_result"
        }
      ]
    },
    {
      "cell_type": "code",
      "metadata": {
        "id": "qdEZRzK66hVb"
      },
      "source": [
        "#generate the testing model\n",
        "predictions = text_classifier.predict(X_test)"
      ],
      "execution_count": null,
      "outputs": []
    },
    {
      "cell_type": "code",
      "metadata": {
        "id": "gkwdVePJ6hVb",
        "outputId": "709d5970-5eeb-4e41-c7c8-8156570b9aee"
      },
      "source": [
        "#evaluate the model\n",
        "cm = confusion_matrix(y_test,predictions)\n",
        "print(cm)"
      ],
      "execution_count": null,
      "outputs": [
        {
          "name": "stdout",
          "output_type": "stream",
          "text": [
            "[[ 63  31  32]\n",
            " [  5 261  28]\n",
            " [  5  56 338]]\n"
          ]
        }
      ]
    },
    {
      "cell_type": "code",
      "metadata": {
        "id": "fmgY8M2w6hVb",
        "outputId": "f867b971-4873-4c46-8048-eb8bb7980edc"
      },
      "source": [
        "#confusion matrix with heat map\n",
        "plot_confusion_matrix(text_classifier, X_test, y_test)"
      ],
      "execution_count": null,
      "outputs": [
        {
          "data": {
            "text/plain": [
              "<sklearn.metrics._plot.confusion_matrix.ConfusionMatrixDisplay at 0x7ffcf242f310>"
            ]
          },
          "execution_count": 53,
          "metadata": {},
          "output_type": "execute_result"
        },
        {
          "data": {
            "image/png": "[encoded data removed]",
            "text/plain": [
              "<Figure size 576x432 with 2 Axes>"
            ]
          },
          "metadata": {
            "needs_background": "light"
          },
          "output_type": "display_data"
        }
      ]
    },
    {
      "cell_type": "code",
      "metadata": {
        "id": "2ac8WUrV6hVb",
        "outputId": "4ea4e0bc-f809-46e0-8a48-9e8f3e5f4d9e"
      },
      "source": [
        "#more analysis for the classification. This is a classification report.\n",
        "print(classification_report(y_test,predictions))"
      ],
      "execution_count": null,
      "outputs": [
        {
          "name": "stdout",
          "output_type": "stream",
          "text": [
            "              precision    recall  f1-score   support\n",
            "\n",
            "    Negative       0.86      0.50      0.63       126\n",
            "     Neutral       0.75      0.89      0.81       294\n",
            "    Positive       0.85      0.85      0.85       399\n",
            "\n",
            "    accuracy                           0.81       819\n",
            "   macro avg       0.82      0.74      0.76       819\n",
            "weighted avg       0.82      0.81      0.80       819\n",
            "\n"
          ]
        }
      ]
    },
    {
      "cell_type": "code",
      "metadata": {
        "id": "cu7-4nH76hVb",
        "outputId": "643488ea-67c6-496d-d777-6cfdddb75535"
      },
      "source": [
        "#Another important assessment is found on the row labeled accuracy\n",
        "print(accuracy_score(y_test, predictions))"
      ],
      "execution_count": null,
      "outputs": [
        {
          "name": "stdout",
          "output_type": "stream",
          "text": [
            "0.8083028083028083\n"
          ]
        }
      ]
    },
    {
      "cell_type": "code",
      "metadata": {
        "id": "7khjOhfV6hVc"
      },
      "source": [
        "#Topic Modeling\n",
        "vectorizer = CountVectorizer(max_df=0.8, min_df=4, stop_words='english')"
      ],
      "execution_count": null,
      "outputs": []
    },
    {
      "cell_type": "code",
      "metadata": {
        "id": "AtaivkI36hVc"
      },
      "source": [
        "#transform vector into a document-term matrix\n",
        "doc_term_matrix = vectorizer.fit_transform(tweets_data['tweettext'].values.astype('U'))"
      ],
      "execution_count": null,
      "outputs": []
    },
    {
      "cell_type": "code",
      "metadata": {
        "id": "4XrWdw0H6hVc",
        "outputId": "4f8a9303-f4ac-492e-d505-b99ffa9664d4"
      },
      "source": [
        "#confirm how many documents and terms are in the data\n",
        "doc_term_matrix.shape"
      ],
      "execution_count": null,
      "outputs": [
        {
          "data": {
            "text/plain": [
              "(4093, 2051)"
            ]
          },
          "execution_count": 58,
          "metadata": {},
          "output_type": "execute_result"
        }
      ]
    },
    {
      "cell_type": "code",
      "metadata": {
        "id": "QaICraXk6hVc",
        "outputId": "a7540033-8eba-4964-8df1-476555902a11"
      },
      "source": [
        "#generate the LDA with 5 topics in the argument n_components\n",
        "LDA = LatentDirichletAllocation(n_components=5, random_state=35)\n",
        "LDA.fit(doc_term_matrix)"
      ],
      "execution_count": null,
      "outputs": [
        {
          "data": {
            "text/plain": [
              "LatentDirichletAllocation(n_components=5, random_state=35)"
            ]
          },
          "execution_count": 59,
          "metadata": {},
          "output_type": "execute_result"
        }
      ]
    },
    {
      "cell_type": "code",
      "metadata": {
        "id": "MbQ5re9A6hVc",
        "outputId": "d3070440-632d-4e87-a9f3-f2e5620a8cba"
      },
      "source": [
        "#Retrieve words in the first topic, sort the indexes according to probability values using argsort(), \n",
        "#and output the results to the console.\n",
        "first_topic = LDA.components_[0]\n",
        "top_topic_words = first_topic.argsort()[-10:]\n",
        "\n",
        "for i in top_topic_words:\n",
        "    print(vectorizer.get_feature_names()[i])"
      ],
      "execution_count": null,
      "outputs": [
        {
          "name": "stdout",
          "output_type": "stream",
          "text": [
            "time\n",
            "transact\n",
            "activ\n",
            "address\n",
            "futur\n",
            "use\n",
            "good\n",
            "market\n",
            "block\n",
            "node\n"
          ]
        }
      ]
    },
    {
      "cell_type": "code",
      "metadata": {
        "id": "uQNowaKB6hVc",
        "outputId": "0d1e18ce-1904-4c40-85c6-aeceb7189a97"
      },
      "source": [
        "#Top 10 words for each topic\n",
        "for i,topic in enumerate(LDA.components_):\n",
        "    print(f'Top 10 words for topic #{i}:')\n",
        "    print([vectorizer.get_feature_names()[i] for i in topic.argsort()[-10:]])\n",
        "    print('\\n')"
      ],
      "execution_count": null,
      "outputs": [
        {
          "name": "stdout",
          "output_type": "stream",
          "text": [
            "Top 10 words for topic #0:\n",
            "['time', 'transact', 'activ', 'address', 'futur', 'use', 'good', 'market', 'block', 'node']\n",
            "\n",
            "\n",
            "Top 10 words for topic #1:\n",
            "['crypto', 'salvador', 'el', 'use', 'new', 'someth', 'buy', 'look', 'dont', 'like']\n",
            "\n",
            "\n",
            "Top 10 words for topic #2:\n",
            "['fee', 'like', 'think', 'price', 'crypto', 'litecoin', 'etf', 'year', 'peopl', 'make']\n",
            "\n",
            "\n",
            "Top 10 words for topic #3:\n",
            "['im', 'amp', 'thank', 'crypto', 'question', 'bitcoin', 'learn', 'work', 'new', 'someth']\n",
            "\n",
            "\n",
            "Top 10 words for topic #4:\n",
            "['year', 'think', 'world', 'someth', 'fiat', 'time', 'use', 'money', 'amp', 'cash']\n",
            "\n",
            "\n"
          ]
        }
      ]
    },
    {
      "cell_type": "code",
      "metadata": {
        "id": "alO28zyl6hVd"
      },
      "source": [
        "#create a new column within the data frame.  Create a new object called topic_values\n",
        "#This new variable topic_values has only 5 \"terms\" because those are the 5 topics we just generated\n",
        "topic_values = LDA.transform(doc_term_matrix)\n",
        "\n",
        "topic_values.shape\n",
        "\n",
        "tweets_data['topic'] = topic_values.argmax(axis=1)\n"
      ],
      "execution_count": null,
      "outputs": []
    },
    {
      "cell_type": "code",
      "metadata": {
        "id": "OeiLP5qT6hVd"
      },
      "source": [
        "#see that the new column is added back into the data frame\n",
        "#tweets_data.head()"
      ],
      "execution_count": null,
      "outputs": []
    },
    {
      "cell_type": "code",
      "metadata": {
        "id": "fUb_ls-t6hVd"
      },
      "source": [
        "#Non-Negative Matrix Factorization\n",
        "tfidf_vect = TfidfVectorizer(max_df=0.8, min_df=5, stop_words='english')\n",
        "\n",
        "doc_term_matrix2 = tfidf_vect.fit_transform(tweets_data['tweettext'].values.astype('U'))"
      ],
      "execution_count": null,
      "outputs": []
    },
    {
      "cell_type": "code",
      "metadata": {
        "id": "kN_NuKn36hVd",
        "outputId": "352da0fd-cb4e-43c9-ede8-cf0365e1bd7a"
      },
      "source": [
        "#Use the function fit() to generate the results\n",
        "nmf = NMF(n_components=5, random_state=42)\n",
        "nmf.fit(doc_term_matrix2)"
      ],
      "execution_count": null,
      "outputs": [
        {
          "name": "stderr",
          "output_type": "stream",
          "text": [
            "/Users/akanshamehta/opt/anaconda3/lib/python3.8/site-packages/sklearn/decomposition/_nmf.py:1076: ConvergenceWarning: Maximum number of iterations 200 reached. Increase it to improve convergence.\n",
            "  warnings.warn(\"Maximum number of iterations %d reached. Increase it to\"\n"
          ]
        },
        {
          "data": {
            "text/plain": [
              "NMF(n_components=5, random_state=42)"
            ]
          },
          "execution_count": 67,
          "metadata": {},
          "output_type": "execute_result"
        }
      ]
    },
    {
      "cell_type": "code",
      "metadata": {
        "id": "8_Zm7HWh6hVd",
        "outputId": "16f712c1-51d3-4692-9300-eefa95aa6f6e"
      },
      "source": [
        "#Similar to LDA, We pull the list of words for the first topic.\n",
        "first_topic = nmf.components_[0]\n",
        "top_topic_words = first_topic.argsort()[-10:]\n",
        "\n",
        "for i in top_topic_words:\n",
        "    print(tfidf_vect.get_feature_names()[i])"
      ],
      "execution_count": null,
      "outputs": [
        {
          "name": "stdout",
          "output_type": "stream",
          "text": [
            "crypto\n",
            "make\n",
            "high\n",
            "money\n",
            "market\n",
            "price\n",
            "bitcoin\n",
            "new\n",
            "year\n",
            "time\n"
          ]
        }
      ]
    },
    {
      "cell_type": "code",
      "metadata": {
        "id": "MqSLrxdp6hVd",
        "outputId": "84d8ae8f-588c-4f19-d4d3-0a20b9460669"
      },
      "source": [
        "#top 10 words of each topic to display on the screen\n",
        "for i,topic in enumerate(nmf.components_):\n",
        "    print(f'Top 10 words for topic #{i}:')\n",
        "    print([tfidf_vect.get_feature_names()[i] for i in topic.argsort()[-10:]])\n",
        "    print('\\n')"
      ],
      "execution_count": null,
      "outputs": [
        {
          "name": "stdout",
          "output_type": "stream",
          "text": [
            "Top 10 words for topic #0:\n",
            "['crypto', 'make', 'high', 'money', 'market', 'price', 'bitcoin', 'new', 'year', 'time']\n",
            "\n",
            "\n",
            "Top 10 words for topic #1:\n",
            "['feel', 'thing', 'buy', 'peopl', 'know', 'think', 'look', 'dont', 'like', 'someth']\n",
            "\n",
            "\n",
            "Top 10 words for topic #2:\n",
            "['want', 'transact', 'work', 'peer', 'crypto', 'world', 'fee', 'bitcoincash', 'use', 'cash']\n",
            "\n",
            "\n",
            "Top 10 words for topic #3:\n",
            "['brief', 'discuss', 'live', 'keiser', 'max', 'volcano', 'bond', 'salvador', 'el', 'amp']\n",
            "\n",
            "\n",
            "Top 10 words for topic #4:\n",
            "['trade', 'gbtc', 'file', 'grayscal', 'sec', 'break', 'spot', 'buy', 'futur', 'etf']\n",
            "\n",
            "\n"
          ]
        }
      ]
    },
    {
      "cell_type": "code",
      "metadata": {
        "id": "bie3Cfmb6hVd",
        "outputId": "ee6eb12a-55b0-4dff-92d6-c115f9e1bd99"
      },
      "source": [
        "#Adding data to data table\n",
        "topic_values2 = nmf.transform(doc_term_matrix2)\n",
        "tweets_data['topic2'] = topic_values2.argmax(axis=1)\n",
        "tweets_data.head()"
      ],
      "execution_count": null,
      "outputs": [
        {
          "data": {
            "text/html": [
              "<div>\n",
              "<style scoped>\n",
              "    .dataframe tbody tr th:only-of-type {\n",
              "        vertical-align: middle;\n",
              "    }\n",
              "\n",
              "    .dataframe tbody tr th {\n",
              "        vertical-align: top;\n",
              "    }\n",
              "\n",
              "    .dataframe thead th {\n",
              "        text-align: right;\n",
              "    }\n",
              "</style>\n",
              "<table border=\"1\" class=\"dataframe\">\n",
              "  <thead>\n",
              "    <tr style=\"text-align: right;\">\n",
              "      <th></th>\n",
              "      <th>Topic_Coin</th>\n",
              "      <th>screenname</th>\n",
              "      <th>name</th>\n",
              "      <th>tweettext</th>\n",
              "      <th>likes</th>\n",
              "      <th>time</th>\n",
              "      <th>Date</th>\n",
              "      <th>Date+1</th>\n",
              "      <th>Date+3</th>\n",
              "      <th>Date+7</th>\n",
              "      <th>...</th>\n",
              "      <th>M_BNB.30.Low</th>\n",
              "      <th>M_BNB.30.Close</th>\n",
              "      <th>M_BNB.30.VoluM_BNB.e</th>\n",
              "      <th>M_BNB.30.M_BNB.arket cap</th>\n",
              "      <th>M_BNB.30.Profit</th>\n",
              "      <th>M_BNB.30.Percentage Change</th>\n",
              "      <th>M_BNB.30.Risk</th>\n",
              "      <th>M_BNB.30.Span_Price</th>\n",
              "      <th>topic</th>\n",
              "      <th>topic2</th>\n",
              "    </tr>\n",
              "  </thead>\n",
              "  <tbody>\n",
              "    <tr>\n",
              "      <th>0</th>\n",
              "      <td>Bitcoin</td>\n",
              "      <td>VitalikButerin</td>\n",
              "      <td>vitalik.eth</td>\n",
              "      <td>would much rather see commun come appreci virt...</td>\n",
              "      <td>187</td>\n",
              "      <td>2021-09-02 13:15:00</td>\n",
              "      <td>2021-09-02</td>\n",
              "      <td>2021-09-03</td>\n",
              "      <td>2021-09-05</td>\n",
              "      <td>2021-09-09</td>\n",
              "      <td>...</td>\n",
              "      <td>411.04</td>\n",
              "      <td>428.10</td>\n",
              "      <td>1.740937e+09</td>\n",
              "      <td>7.197918e+10</td>\n",
              "      <td>NaN</td>\n",
              "      <td>NaN</td>\n",
              "      <td>NaN</td>\n",
              "      <td>NaN</td>\n",
              "      <td>4</td>\n",
              "      <td>0</td>\n",
              "    </tr>\n",
              "    <tr>\n",
              "      <th>1</th>\n",
              "      <td>Bitcoin</td>\n",
              "      <td>VitalikButerin</td>\n",
              "      <td>vitalik.eth</td>\n",
              "      <td>answer book vs music differ back read standard...</td>\n",
              "      <td>42</td>\n",
              "      <td>2021-09-02 12:39:00</td>\n",
              "      <td>2021-09-02</td>\n",
              "      <td>2021-09-03</td>\n",
              "      <td>2021-09-05</td>\n",
              "      <td>2021-09-09</td>\n",
              "      <td>...</td>\n",
              "      <td>411.04</td>\n",
              "      <td>428.10</td>\n",
              "      <td>1.740937e+09</td>\n",
              "      <td>7.197918e+10</td>\n",
              "      <td>NaN</td>\n",
              "      <td>NaN</td>\n",
              "      <td>NaN</td>\n",
              "      <td>NaN</td>\n",
              "      <td>3</td>\n",
              "      <td>0</td>\n",
              "    </tr>\n",
              "    <tr>\n",
              "      <th>2</th>\n",
              "      <td>Bitcoin</td>\n",
              "      <td>VitalikButerin</td>\n",
              "      <td>vitalik.eth</td>\n",
              "      <td>also import antiinflu like see toxic maxim bec...</td>\n",
              "      <td>57</td>\n",
              "      <td>2021-09-02 12:08:00</td>\n",
              "      <td>2021-09-02</td>\n",
              "      <td>2021-09-03</td>\n",
              "      <td>2021-09-05</td>\n",
              "      <td>2021-09-09</td>\n",
              "      <td>...</td>\n",
              "      <td>411.04</td>\n",
              "      <td>428.10</td>\n",
              "      <td>1.740937e+09</td>\n",
              "      <td>7.197918e+10</td>\n",
              "      <td>NaN</td>\n",
              "      <td>NaN</td>\n",
              "      <td>NaN</td>\n",
              "      <td>NaN</td>\n",
              "      <td>4</td>\n",
              "      <td>1</td>\n",
              "    </tr>\n",
              "    <tr>\n",
              "      <th>3</th>\n",
              "      <td>Bitcoin</td>\n",
              "      <td>VitalikButerin</td>\n",
              "      <td>vitalik.eth</td>\n",
              "      <td>latter im think stablecoin peopl think stablec...</td>\n",
              "      <td>989</td>\n",
              "      <td>2021-09-01 22:42:00</td>\n",
              "      <td>2021-09-01</td>\n",
              "      <td>2021-09-02</td>\n",
              "      <td>2021-09-04</td>\n",
              "      <td>2021-09-08</td>\n",
              "      <td>...</td>\n",
              "      <td>382.13</td>\n",
              "      <td>421.64</td>\n",
              "      <td>2.162493e+09</td>\n",
              "      <td>7.089383e+10</td>\n",
              "      <td>NaN</td>\n",
              "      <td>NaN</td>\n",
              "      <td>NaN</td>\n",
              "      <td>NaN</td>\n",
              "      <td>4</td>\n",
              "      <td>1</td>\n",
              "    </tr>\n",
              "    <tr>\n",
              "      <th>4</th>\n",
              "      <td>Bitcoin</td>\n",
              "      <td>VitalikButerin</td>\n",
              "      <td>vitalik.eth</td>\n",
              "      <td>feel like ive less monetari theori per se year...</td>\n",
              "      <td>764</td>\n",
              "      <td>2021-09-01 22:37:00</td>\n",
              "      <td>2021-09-01</td>\n",
              "      <td>2021-09-02</td>\n",
              "      <td>2021-09-04</td>\n",
              "      <td>2021-09-08</td>\n",
              "      <td>...</td>\n",
              "      <td>382.13</td>\n",
              "      <td>421.64</td>\n",
              "      <td>2.162493e+09</td>\n",
              "      <td>7.089383e+10</td>\n",
              "      <td>NaN</td>\n",
              "      <td>NaN</td>\n",
              "      <td>NaN</td>\n",
              "      <td>NaN</td>\n",
              "      <td>4</td>\n",
              "      <td>0</td>\n",
              "    </tr>\n",
              "  </tbody>\n",
              "</table>\n",
              "<p>5 rows × 199 columns</p>\n",
              "</div>"
            ],
            "text/plain": [
              "  Topic_Coin      screenname         name  \\\n",
              "0    Bitcoin  VitalikButerin  vitalik.eth   \n",
              "1    Bitcoin  VitalikButerin  vitalik.eth   \n",
              "2    Bitcoin  VitalikButerin  vitalik.eth   \n",
              "3    Bitcoin  VitalikButerin  vitalik.eth   \n",
              "4    Bitcoin  VitalikButerin  vitalik.eth   \n",
              "\n",
              "                                           tweettext  likes  \\\n",
              "0  would much rather see commun come appreci virt...    187   \n",
              "1  answer book vs music differ back read standard...     42   \n",
              "2  also import antiinflu like see toxic maxim bec...     57   \n",
              "3  latter im think stablecoin peopl think stablec...    989   \n",
              "4  feel like ive less monetari theori per se year...    764   \n",
              "\n",
              "                 time       Date     Date+1     Date+3     Date+7  ...  \\\n",
              "0 2021-09-02 13:15:00 2021-09-02 2021-09-03 2021-09-05 2021-09-09  ...   \n",
              "1 2021-09-02 12:39:00 2021-09-02 2021-09-03 2021-09-05 2021-09-09  ...   \n",
              "2 2021-09-02 12:08:00 2021-09-02 2021-09-03 2021-09-05 2021-09-09  ...   \n",
              "3 2021-09-01 22:42:00 2021-09-01 2021-09-02 2021-09-04 2021-09-08  ...   \n",
              "4 2021-09-01 22:37:00 2021-09-01 2021-09-02 2021-09-04 2021-09-08  ...   \n",
              "\n",
              "  M_BNB.30.Low M_BNB.30.Close  M_BNB.30.VoluM_BNB.e M_BNB.30.M_BNB.arket cap  \\\n",
              "0       411.04         428.10          1.740937e+09             7.197918e+10   \n",
              "1       411.04         428.10          1.740937e+09             7.197918e+10   \n",
              "2       411.04         428.10          1.740937e+09             7.197918e+10   \n",
              "3       382.13         421.64          2.162493e+09             7.089383e+10   \n",
              "4       382.13         421.64          2.162493e+09             7.089383e+10   \n",
              "\n",
              "   M_BNB.30.Profit  M_BNB.30.Percentage Change M_BNB.30.Risk  \\\n",
              "0              NaN                         NaN           NaN   \n",
              "1              NaN                         NaN           NaN   \n",
              "2              NaN                         NaN           NaN   \n",
              "3              NaN                         NaN           NaN   \n",
              "4              NaN                         NaN           NaN   \n",
              "\n",
              "   M_BNB.30.Span_Price  topic  topic2  \n",
              "0                  NaN      4       0  \n",
              "1                  NaN      3       0  \n",
              "2                  NaN      4       1  \n",
              "3                  NaN      4       1  \n",
              "4                  NaN      4       0  \n",
              "\n",
              "[5 rows x 199 columns]"
            ]
          },
          "execution_count": 71,
          "metadata": {},
          "output_type": "execute_result"
        }
      ]
    },
    {
      "cell_type": "code",
      "metadata": {
        "id": "VIJLIrb9uNQb"
      },
      "source": [
        ""
      ],
      "execution_count": null,
      "outputs": []
    },
    {
      "cell_type": "code",
      "metadata": {
        "id": "yO1XY6i2uNTa"
      },
      "source": [
        ""
      ],
      "execution_count": null,
      "outputs": []
    }
  ]
}